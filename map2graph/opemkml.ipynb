{
 "cells": [
  {
   "cell_type": "markdown",
   "id": "ecb3a407",
   "metadata": {},
   "source": [
    "# Adding New York bus routes to OSMnx map"
   ]
  },
  {
   "cell_type": "markdown",
   "id": "061a0030",
   "metadata": {},
   "source": [
    "## Section 1: Extracting bus stops from KML\n",
    "KML source: \n",
    "<a href=\"https://www.google.com/maps/d/u/0/viewer?mid=1Y-euNeFcsu06Zxfdl6u6-sca3Yp-KYY&ll=40.75502933824687%2C-74.00066380083778&z=18\">\n",
    "MTA Bus Map\n",
    "</a>"
   ]
  },
  {
   "cell_type": "markdown",
   "id": "2fb217eb",
   "metadata": {},
   "source": [
    "### Opening KML file and extracting placemarks"
   ]
  },
  {
   "cell_type": "code",
   "execution_count": 19,
   "id": "e0389c24",
   "metadata": {},
   "outputs": [],
   "source": [
    "from fastkml import KML\n",
    "from fastkml import Placemark, Point, StyleUrl, Style\n",
    "from fastkml.utils import find, find_all\n",
    "import os"
   ]
  },
  {
   "cell_type": "code",
   "execution_count": 20,
   "id": "40cfadcb",
   "metadata": {},
   "outputs": [],
   "source": [
    "#read .kml file as KML object with fastkml\n",
    "k = KML.parse(\"../data/doc.kml\")"
   ]
  },
  {
   "cell_type": "code",
   "execution_count": 21,
   "id": "b1a71f82",
   "metadata": {},
   "outputs": [],
   "source": [
    "#extract all placemarks in .kml file\n",
    "placemarks = list(find_all(k, of_type=Placemark))"
   ]
  },
  {
   "cell_type": "code",
   "execution_count": 22,
   "id": "7587f681",
   "metadata": {},
   "outputs": [
    {
     "name": "stdout",
     "output_type": "stream",
     "text": [
      "15042\n"
     ]
    }
   ],
   "source": [
    "#print the number of placemarks\n",
    "print(len(placemarks))"
   ]
  },
  {
   "cell_type": "code",
   "execution_count": 23,
   "id": "fd3ee05d",
   "metadata": {},
   "outputs": [
    {
     "name": "stdout",
     "output_type": "stream",
     "text": [
      "name: HYLAN BLVD/MIDLAND AV<br>routes: S51, S78, S79+, S81<br>direction: SW<br>link: https://bustime.mta.info/m/index?q=200237<br>id: MTA_200237<br>Latitude,Longitude: 40.577699, -74.102611\n"
     ]
    }
   ],
   "source": [
    "print(placemarks[0].description)"
   ]
  },
  {
   "cell_type": "markdown",
   "id": "4131db30",
   "metadata": {},
   "source": [
    "### Parsing Placemark Description"
   ]
  },
  {
   "cell_type": "code",
   "execution_count": null,
   "id": "0d2560fb",
   "metadata": {},
   "outputs": [],
   "source": [
    "#extravcting info from placemarker description\n",
    "\n",
    "def parse_placemark_info(desc_str):\n",
    "    \"\"\"\n",
    "    Parse a description string like:\n",
    "      \"name: HYLAN BLVD/MIDLAND AV<br>\"\n",
    "      \"routes: S51, S78, S79+, S81<br>\"\n",
    "      \"direction: SW<br>\"\n",
    "      \"link: https://…<br>\"\n",
    "      \"id: MTA_200237<br>\"\n",
    "      \"Latitude,Longitude: 40.577699, -74.102611\"\n",
    "    into a dict with proper types.\n",
    "    \"\"\"\n",
    "    # 1) split into lines\n",
    "    parts = desc_str.split('<br>')\n",
    "    \n",
    "    data = {}\n",
    "    for part in parts:\n",
    "        if not part.strip():\n",
    "            continue\n",
    "        # split on the first \": \"\n",
    "        key, val = part.split(': ', 1)\n",
    "        data[key.strip()] = val.strip()\n",
    "    \n",
    "    # 2) post‑process some fields:\n",
    "    #   routes → list of route codes\n",
    "    if 'routes' in data:\n",
    "        data['routes'] = [r.strip() for r in data['routes'].split(',')]\n",
    "    \n",
    "    #   Latitude,Longitude → two floats\n",
    "    if 'Latitude,Longitude' in data:\n",
    "        lat_str, lon_str = data['Latitude,Longitude'].split(',', 1)\n",
    "        data['latitude']  = float(lat_str)\n",
    "        data['longitude'] = float(lon_str)\n",
    "        # optional: you can delete the original key\n",
    "        del data['Latitude,Longitude']\n",
    "    \n",
    "    return data"
   ]
  },
  {
   "cell_type": "code",
   "execution_count": 44,
   "id": "8eaed7a1",
   "metadata": {},
   "outputs": [
    {
     "data": {
      "text/plain": [
       "{'name': 'HYLAN BLVD/MIDLAND AV',\n",
       " 'routes': ['S51', 'S78', 'S79+', 'S81'],\n",
       " 'direction': 'SW',\n",
       " 'link': 'https://bustime.mta.info/m/index?q=200237',\n",
       " 'id': 'MTA_200237',\n",
       " 'latitude': 40.577699,\n",
       " 'longitude': -74.102611}"
      ]
     },
     "execution_count": 44,
     "metadata": {},
     "output_type": "execute_result"
    }
   ],
   "source": [
    "# testing\n",
    "test_placemark_info = parse_placemark_info(placemarks[0].description)\n",
    "test_placemark_info"
   ]
  },
  {
   "cell_type": "markdown",
   "id": "c64d5e01",
   "metadata": {},
   "source": [
    "placemark.description seems to have all the data we might need for the OSM"
   ]
  },
  {
   "cell_type": "markdown",
   "id": "ebfc8bd7",
   "metadata": {},
   "source": [
    "## Section 2: Getting a Placemark based on OSMnx bus route name"
   ]
  },
  {
   "cell_type": "code",
   "execution_count": 28,
   "id": "d004e22b",
   "metadata": {},
   "outputs": [
    {
     "data": {
      "text/plain": [
       "'2.0.2'"
      ]
     },
     "execution_count": 28,
     "metadata": {},
     "output_type": "execute_result"
    }
   ],
   "source": [
    "import multiprocessing as mp\n",
    "import numpy as np\n",
    "import osmnx as ox\n",
    "from matplotlib import pyplot as plt\n",
    "\n",
    "ox.__version__"
   ]
  },
  {
   "cell_type": "markdown",
   "id": "980c2790",
   "metadata": {},
   "source": [
    "### Converting new york digraph to GeodataFrame"
   ]
  },
  {
   "cell_type": "code",
   "execution_count": 61,
   "id": "fa88cf9f",
   "metadata": {},
   "outputs": [],
   "source": [
    "# open New York\n",
    "place = \"New York, New York\"\n",
    "G = ox.graph.graph_from_place(place, network_type=\"drive\")\n",
    "Gp = ox.projection.project_graph(G)"
   ]
  },
  {
   "cell_type": "markdown",
   "id": "ffd7597a",
   "metadata": {},
   "source": [
    "Getting bus stops"
   ]
  },
  {
   "cell_type": "markdown",
   "id": "d8ed4e73",
   "metadata": {},
   "source": [
    "Should I use openstreetmap's data or just add my info to each node by using kd tree? <br>\n",
    "I'll use a KD tree because this is a DSA project <br>"
   ]
  },
  {
   "cell_type": "code",
   "execution_count": null,
   "id": "b01bbeb9",
   "metadata": {},
   "outputs": [],
   "source": [
    "# convert drive multidigraph nodes to geodataframe\n",
    "gdf_nodes = ox.convert.graph_to_gdfs(\n",
    "    G, nodes=True, edges=False, node_geometry=True,\n",
    "    fill_edge_geometry=False)"
   ]
  },
  {
   "cell_type": "code",
   "execution_count": null,
   "id": "0263305d",
   "metadata": {},
   "outputs": [],
   "source": [
    "# display it on map\n",
    "gdf_nodes.explore()"
   ]
  },
  {
   "cell_type": "markdown",
   "id": "55cf2043",
   "metadata": {},
   "source": [
    "The drive network loads much faster than the entire open street map network"
   ]
  },
  {
   "cell_type": "markdown",
   "id": "9e867855",
   "metadata": {},
   "source": [
    "### Locating the node closest to a placemarker"
   ]
  },
  {
   "cell_type": "code",
   "execution_count": 57,
   "id": "0826908d",
   "metadata": {},
   "outputs": [],
   "source": [
    "def findNearestNode2Placemark(G, placemark_info):\n",
    "    '''\n",
    "    get the ID of the node nearest to a placemark\n",
    "    '''\n",
    "    placemark_longitude, placemark_latitude = placemark_info['longitude'], placemark_info['latitude']\n",
    "\n",
    "    nearest_node = ox.distance.nearest_nodes(G,\n",
    "                                         placemark_longitude, placemark_latitude,\n",
    "                                         return_dist=True)\n",
    "    \n",
    "    return nearest_node"
   ]
  },
  {
   "cell_type": "code",
   "execution_count": null,
   "id": "290e2a37",
   "metadata": {},
   "outputs": [],
   "source": [
    "#finding node nearest to placemark[0]\n",
    "nearest_node = findNearestNode2Placemark(G, test_placemark_info)"
   ]
  },
  {
   "cell_type": "code",
   "execution_count": 60,
   "id": "9916f5db",
   "metadata": {},
   "outputs": [
    {
     "data": {
      "text/plain": [
       "y                                    40.577717\n",
       "x                                    -74.10254\n",
       "highway                                    NaN\n",
       "ref                                        NaN\n",
       "street_count                                 2\n",
       "junction                                   NaN\n",
       "railway                                    NaN\n",
       "geometry        POINT (-74.1025398 40.5777173)\n",
       "Name: 5490128948, dtype: object"
      ]
     },
     "execution_count": 60,
     "metadata": {},
     "output_type": "execute_result"
    }
   ],
   "source": [
    "# fetch the node geometry based on node id\n",
    "nearest_node_id = nearest_node[0]\n",
    "gdf_nodes.loc[nearest_node_id]"
   ]
  },
  {
   "cell_type": "code",
   "execution_count": null,
   "id": "2d1e13ea",
   "metadata": {},
   "outputs": [],
   "source": [
    "# visualizing node nearest to placemarker\n",
    "import geopandas as gpd\n",
    "from shapely import (\n",
    "    Point, LineString)\n",
    "\n",
    "# create a new geodataframe with the nearest node and new point\n",
    "nearest_node_dict = {'col1': ['Chadayamangalam', 'Nearest Node'],\n",
    "                     'geometry': [Point(test_placemark_info['longitude'], test_placemark_info['latitude']),\n",
    "                                        LineString([\n",
    "                                      Point(gdf_nodes.loc[nearest_node_id].x,\n",
    "                                            gdf_nodes.loc[nearest_node_id].y),\n",
    "                                      Point(test_placemark_info['longitude'], test_placemark_info['latitude'])])]}\n",
    "# convert dictionary to geodataframe\n",
    "nearest_node_gdf = gpd.GeoDataFrame(nearest_node_dict, crs=\"EPSG:4326\")\n",
    "# nearest node map reference\n",
    "nearest_node_map = nearest_node_gdf.explore(color=\"red\")\n",
    "# combine nearest node with existing node map\n",
    "gdf_nodes.explore(m=nearest_node_map)"
   ]
  },
  {
   "cell_type": "markdown",
   "id": "47407ee6",
   "metadata": {},
   "source": [
    "### adding placemark info to gdf node"
   ]
  },
  {
   "cell_type": "code",
   "execution_count": null,
   "id": "abb67b26",
   "metadata": {},
   "outputs": [],
   "source": []
  }
 ],
 "metadata": {
  "kernelspec": {
   "display_name": "DSA",
   "language": "python",
   "name": "python3"
  },
  "language_info": {
   "codemirror_mode": {
    "name": "ipython",
    "version": 3
   },
   "file_extension": ".py",
   "mimetype": "text/x-python",
   "name": "python",
   "nbconvert_exporter": "python",
   "pygments_lexer": "ipython3",
   "version": "3.13.2"
  }
 },
 "nbformat": 4,
 "nbformat_minor": 5
}
