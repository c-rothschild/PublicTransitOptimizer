{
 "cells": [
  {
   "cell_type": "code",
   "execution_count": 4,
   "id": "98e4986b",
   "metadata": {},
   "outputs": [],
   "source": [
    "from busmap import BusMap"
   ]
  },
  {
   "cell_type": "code",
   "execution_count": 5,
   "id": "ba757942",
   "metadata": {},
   "outputs": [],
   "source": [
    "myMap = BusMap()"
   ]
  },
  {
   "cell_type": "code",
   "execution_count": 7,
   "id": "97770500-ffe9-477f-bbe5-f1713a60fbd9",
   "metadata": {},
   "outputs": [
    {
     "ename": "AttributeError",
     "evalue": "'BusMap' object has no attribute 'load_route_node_lists'",
     "output_type": "error",
     "traceback": [
      "\u001b[31m---------------------------------------------------------------------------\u001b[39m",
      "\u001b[31mAttributeError\u001b[39m                            Traceback (most recent call last)",
      "\u001b[36mCell\u001b[39m\u001b[36m \u001b[39m\u001b[32mIn[7]\u001b[39m\u001b[32m, line 1\u001b[39m\n\u001b[32m----> \u001b[39m\u001b[32m1\u001b[39m myMap.load_route_node_lists(\u001b[33m'\u001b[39m\u001b[33mgraph_data/route_node_lists.json\u001b[39m\u001b[33m'\u001b[39m)\n",
      "\u001b[31mAttributeError\u001b[39m: 'BusMap' object has no attribute 'load_route_node_lists'"
     ]
    }
   ],
   "source": [
    "myMap.load_route_node_lists('graph_data/route_node_lists.json')"
   ]
  },
  {
   "cell_type": "code",
   "execution_count": null,
   "id": "7dce27c2-9869-4543-99a5-66990aced241",
   "metadata": {},
   "outputs": [],
   "source": []
  }
 ],
 "metadata": {
  "kernelspec": {
   "display_name": "Python 3 (ipykernel)",
   "language": "python",
   "name": "python3"
  },
  "language_info": {
   "codemirror_mode": {
    "name": "ipython",
    "version": 3
   },
   "file_extension": ".py",
   "mimetype": "text/x-python",
   "name": "python",
   "nbconvert_exporter": "python",
   "pygments_lexer": "ipython3",
   "version": "3.13.2"
  }
 },
 "nbformat": 4,
 "nbformat_minor": 5
}
