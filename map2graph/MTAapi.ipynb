{
 "cells": [
  {
   "cell_type": "code",
   "execution_count": 8,
   "id": "0257d24f",
   "metadata": {},
   "outputs": [],
   "source": [
    "import requests\n",
    "import json\n",
    "import os\n",
    "from dotenv import load_dotenv"
   ]
  },
  {
   "cell_type": "code",
   "execution_count": 9,
   "id": "f0a73c0e",
   "metadata": {},
   "outputs": [
    {
     "data": {
      "text/plain": [
       "True"
      ]
     },
     "execution_count": 9,
     "metadata": {},
     "output_type": "execute_result"
    }
   ],
   "source": [
    "load_dotenv()  # take environment variables"
   ]
  },
  {
   "cell_type": "code",
   "execution_count": 10,
   "id": "7e4d687d",
   "metadata": {},
   "outputs": [],
   "source": [
    "MTA_API_KEY = os.getenv(\"MTA_API_KEY\")"
   ]
  },
  {
   "cell_type": "code",
   "execution_count": 11,
   "id": "0ecb9d24",
   "metadata": {},
   "outputs": [],
   "source": [
    "# getting data given a route id\n",
    "def get_bus_route(route_id):\n",
    "    url = f\"https://bustime.mta.info/api/where/stops-for-route/MTA%20NYCT_{route_id}.json?key={MTA_API_KEY}&includePolylines=false&version=2\"\n",
    "    response = requests.get(url)\n",
    "    if response.status_code == 200:\n",
    "        return response.json()\n",
    "    else:\n",
    "        print(f\"Error: {response.status_code}\")\n",
    "        return None"
   ]
  },
  {
   "cell_type": "code",
   "execution_count": 12,
   "id": "110e9f12",
   "metadata": {},
   "outputs": [
    {
     "name": "stdout",
     "output_type": "stream",
     "text": [
      "<class 'dict'>\n"
     ]
    }
   ],
   "source": [
    "route_id = \"B63\" # Example route\n",
    "bus_data = get_bus_route(route_id)\n",
    "print(type(bus_data))\n",
    "\n"
   ]
  },
  {
   "cell_type": "code",
   "execution_count": 13,
   "id": "02ae4517",
   "metadata": {},
   "outputs": [],
   "source": [
    "def get_stop_groups(bus_data):\n",
    "    if not bus_data['data']['entry']['stopGroupings'][0]['ordered']:\n",
    "        print(f\"{bus_data['routeId']} not ordered\")\n",
    "        return\n",
    "    route_lists = {}\n",
    "    stopGroups = bus_data['data']['entry']['stopGroupings'][0]['stopGroups']\n",
    "    \n",
    "    for group in stopGroups:\n",
    "\n",
    "        route_lists[group['name']['name']] = group['stopIds']\n",
    "    \n",
    "    return route_lists\n",
    "\n",
    "    "
   ]
  },
  {
   "cell_type": "code",
   "execution_count": 14,
   "id": "9b58c790",
   "metadata": {},
   "outputs": [],
   "source": [
    "test_route_lists = get_stop_groups(bus_data)"
   ]
  },
  {
   "cell_type": "code",
   "execution_count": null,
   "id": "45d57f29",
   "metadata": {},
   "outputs": [],
   "source": []
  },
  {
   "cell_type": "code",
   "execution_count": 20,
   "id": "c117dec0",
   "metadata": {},
   "outputs": [],
   "source": [
    "json_path='./graph_data/bus_info_dict.json'\n",
    "with open(json_path) as json_file:\n",
    "    bus_info = json.load(json_file)"
   ]
  },
  {
   "cell_type": "code",
   "execution_count": 21,
   "id": "81635f1b",
   "metadata": {},
   "outputs": [
    {
     "name": "stdout",
     "output_type": "stream",
     "text": [
      "{'name': 'Brooklyn Bridge Park /PIER 6', 'routes': ['B63'], 'direction': 'W', 'link': 'https://bustime.mta.info/m/index?q=901601', 'id': 'MTA_901601', 'latitude': 40.693078, 'longitude': -74.000877, 'osmid': 1567286111}\n"
     ]
    }
   ],
   "source": [
    "print(bus_info['MTA_901601'])"
   ]
  },
  {
   "cell_type": "code",
   "execution_count": 23,
   "id": "719031be",
   "metadata": {},
   "outputs": [],
   "source": [
    "json_path='./graph_data/all_routes.json'\n",
    "with open(json_path) as json_file:\n",
    "    all_routes = json.load(json_file)"
   ]
  },
  {
   "cell_type": "code",
   "execution_count": 25,
   "id": "270ee51f",
   "metadata": {},
   "outputs": [
    {
     "name": "stdout",
     "output_type": "stream",
     "text": [
      "357\n"
     ]
    }
   ],
   "source": [
    "print(len(all_routes))"
   ]
  }
 ],
 "metadata": {
  "kernelspec": {
   "display_name": "DSA",
   "language": "python",
   "name": "python3"
  },
  "language_info": {
   "codemirror_mode": {
    "name": "ipython",
    "version": 3
   },
   "file_extension": ".py",
   "mimetype": "text/x-python",
   "name": "python",
   "nbconvert_exporter": "python",
   "pygments_lexer": "ipython3",
   "version": "3.13.2"
  }
 },
 "nbformat": 4,
 "nbformat_minor": 5
}
