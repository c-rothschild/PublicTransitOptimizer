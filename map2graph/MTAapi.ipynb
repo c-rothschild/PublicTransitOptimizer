{
 "cells": [
  {
   "cell_type": "code",
   "execution_count": 57,
   "id": "0257d24f",
   "metadata": {},
   "outputs": [],
   "source": [
    "import requests\n",
    "import json\n",
    "import os\n",
    "from dotenv import load_dotenv"
   ]
  },
  {
   "cell_type": "code",
   "execution_count": null,
   "id": "06173724",
   "metadata": {},
   "outputs": [],
   "source": [
    "import asyncio\n",
    "import aiohttp\n",
    "\n",
    "async def fetch_data(url):\n",
    "    "
   ]
  },
  {
   "cell_type": "code",
   "execution_count": 59,
   "id": "f0a73c0e",
   "metadata": {},
   "outputs": [
    {
     "data": {
      "text/plain": [
       "True"
      ]
     },
     "execution_count": 59,
     "metadata": {},
     "output_type": "execute_result"
    }
   ],
   "source": [
    "load_dotenv()  # take environment variables"
   ]
  },
  {
   "cell_type": "code",
   "execution_count": 60,
   "id": "7e4d687d",
   "metadata": {},
   "outputs": [],
   "source": [
    "MTA_API_KEY = os.getenv(\"MTA_API_KEY\")"
   ]
  },
  {
   "cell_type": "code",
   "execution_count": null,
   "id": "0ecb9d24",
   "metadata": {},
   "outputs": [],
   "source": [
    "# getting data given a route id\n",
    "async def get_bus_route(route_id):\n",
    "    url = f\"https://bustime.mta.info/api/where/stops-for-route/MTA%20NYCT_{route_id}.json?key={MTA_API_KEY}&includePolylines=false&version=2\"\n",
    "    async with aiohttp.ClientSession() as session:\n",
    "        async with session.get(url) as response:\n",
    "            return await response.json()"
   ]
  },
  {
   "cell_type": "code",
   "execution_count": 69,
   "id": "110e9f12",
   "metadata": {},
   "outputs": [
    {
     "name": "stdout",
     "output_type": "stream",
     "text": [
      "{'code': 200, 'currentTime': 1746591607343, 'data': {'entry': {'polylines': [], 'routeId': 'MTA NYCT_B52', 'stopGroupings': [{'ordered': True, 'stopGroups': [{'id': '1', 'name': {'name': 'DOWNTOWN BKLYN TILLARY ST via GATES', 'names': ['DOWNTOWN BKLYN TILLARY ST via GATES'], 'type': 'destination'}, 'polylines': [], 'stopIds': ['MTA_504965', 'MTA_504119', 'MTA_304196', 'MTA_304197', 'MTA_304198', 'MTA_304199', 'MTA_304200', 'MTA_304201', 'MTA_308046', 'MTA_304203', 'MTA_304204', 'MTA_304205', 'MTA_304206', 'MTA_304207', 'MTA_306530', 'MTA_304209', 'MTA_304210', 'MTA_304211', 'MTA_304212', 'MTA_304213', 'MTA_304214', 'MTA_307948', 'MTA_307572', 'MTA_307573', 'MTA_307596', 'MTA_307575', 'MTA_307576', 'MTA_307577', 'MTA_302427', 'MTA_302428', 'MTA_302430', 'MTA_302431', 'MTA_307492', 'MTA_302433', 'MTA_302434', 'MTA_901463'], 'subGroups': []}, {'id': '0', 'name': {'name': 'RIDGEWOOD TERM via GATES', 'names': ['RIDGEWOOD TERM via GATES'], 'type': 'destination'}, 'polylines': [], 'stopIds': ['MTA_307175', 'MTA_307460', 'MTA_302945', 'MTA_307491', 'MTA_302947', 'MTA_303017', 'MTA_302368', 'MTA_302369', 'MTA_307547', 'MTA_307549', 'MTA_307550', 'MTA_307551', 'MTA_307552', 'MTA_307553', 'MTA_307674', 'MTA_307675', 'MTA_307676', 'MTA_307677', 'MTA_307678', 'MTA_307679', 'MTA_307680', 'MTA_307681', 'MTA_307682', 'MTA_307683', 'MTA_307684', 'MTA_307901', 'MTA_307686', 'MTA_307687', 'MTA_307688', 'MTA_307689', 'MTA_307690', 'MTA_307691', 'MTA_304415', 'MTA_801117'], 'subGroups': []}], 'type': 'direction'}], 'stopIds': ['MTA_302368', 'MTA_302369', 'MTA_302427', 'MTA_302428', 'MTA_302430', 'MTA_302431', 'MTA_302433', 'MTA_302434', 'MTA_302945', 'MTA_302947', 'MTA_303017', 'MTA_304196', 'MTA_304197', 'MTA_304198', 'MTA_304199', 'MTA_304200', 'MTA_304201', 'MTA_304203', 'MTA_304204', 'MTA_304205', 'MTA_304206', 'MTA_304207', 'MTA_304209', 'MTA_304210', 'MTA_304211', 'MTA_304212', 'MTA_304213', 'MTA_304214', 'MTA_304415', 'MTA_306530', 'MTA_307175', 'MTA_307460', 'MTA_307491', 'MTA_307492', 'MTA_307547', 'MTA_307549', 'MTA_307550', 'MTA_307551', 'MTA_307552', 'MTA_307553', 'MTA_307572', 'MTA_307573', 'MTA_307575', 'MTA_307576', 'MTA_307577', 'MTA_307596', 'MTA_307674', 'MTA_307675', 'MTA_307676', 'MTA_307677', 'MTA_307678', 'MTA_307679', 'MTA_307680', 'MTA_307681', 'MTA_307682', 'MTA_307683', 'MTA_307684', 'MTA_307686', 'MTA_307687', 'MTA_307688', 'MTA_307689', 'MTA_307690', 'MTA_307691', 'MTA_307901', 'MTA_307948', 'MTA_308046', 'MTA_504119', 'MTA_504965', 'MTA_801117', 'MTA_901463']}, 'references': {'agencies': [{'disclaimer': '', 'id': 'MTA NYCT', 'lang': 'en', 'name': 'MTA New York City Transit', 'phone': '718-330-1234', 'privateService': False, 'timezone': 'America/New_York', 'url': 'http://www.mta.info'}, {'disclaimer': '', 'id': 'MTABC', 'lang': 'EN', 'name': 'MTA Bus Company', 'phone': '', 'privateService': False, 'timezone': 'America/New_York', 'url': 'http://www.mta.info'}], 'routes': [{'agencyId': 'MTA NYCT', 'color': 'EE352E', 'description': 'via Gates Av / Greene Av / Atlantic Av', 'id': 'MTA NYCT_B52', 'longName': 'Downtown Brooklyn - Ridgewood', 'shortName': 'B52', 'textColor': 'FFFFFF', 'type': 3, 'url': ''}, {'agencyId': 'MTA NYCT', 'color': '6CBE45', 'description': 'via Fulton St', 'id': 'MTA NYCT_B25', 'longName': 'Dwntn Bklyn & DUMBO - Broadway Junction', 'shortName': 'B25', 'textColor': 'FFFFFF', 'type': 3, 'url': ''}, {'agencyId': 'MTA NYCT', 'color': '006CB7', 'description': 'via Halsey St / Fulton St', 'id': 'MTA NYCT_B26', 'longName': 'Downtown Brooklyn - Ridgewood', 'shortName': 'B26', 'textColor': 'FFFFFF', 'type': 3, 'url': ''}, {'agencyId': 'MTA NYCT', 'color': '00AEEF', 'description': 'via DeKalb & Lafayette Av', 'id': 'MTA NYCT_B38', 'longName': 'Ridgewood - Downtown Brooklyn', 'shortName': 'B38', 'textColor': 'FFFFFF', 'type': 3, 'url': ''}, {'agencyId': 'MTA NYCT', 'color': '006CB7', 'description': 'via Flatbush Av / Livingston St', 'id': 'MTA NYCT_B41', 'longName': 'Kings Plaza - Downtown Brooklyn', 'shortName': 'B41', 'textColor': 'FFFFFF', 'type': 3, 'url': ''}, {'agencyId': 'MTA NYCT', 'color': 'EE352E', 'description': 'via St Johns Place / Washington Av / Atlantic Av', 'id': 'MTA NYCT_B45', 'longName': 'Downtown Brooklyn - Crown Heights', 'shortName': 'B45', 'textColor': 'FFFFFF', 'type': 3, 'url': ''}, {'agencyId': 'MTABC', 'color': 'FAA61A', 'description': 'Via Ave M / Ave H / 3Rd & 4Th Ave', 'id': 'MTABC_B103', 'longName': 'Canarsie - Downtown Brooklyn Ltd', 'shortName': 'B103', 'textColor': 'FFFFFF', 'type': 3, 'url': 'https://new.mta.info/schedules/bus'}, {'agencyId': 'MTA NYCT', 'color': '6CBE45', 'description': 'via Lorimer St / Franklin & Classon Av', 'id': 'MTA NYCT_B48', 'longName': 'Lefferts Gardens - Greenpoint', 'shortName': 'B48', 'textColor': 'FFFFFF', 'type': 3, 'url': ''}, {'agencyId': 'MTA NYCT', 'color': 'FAA61A', 'description': 'via Crescent St / Jamaica Av / Wyckoff Av', 'id': 'MTA NYCT_B13', 'longName': 'Spring Creek - Wyckoff Hospital', 'shortName': 'B13', 'textColor': 'FFFFFF', 'type': 3, 'url': ''}], 'situations': [], 'stops': [{'code': '302368', 'direction': 'SE', 'id': 'MTA_302368', 'lat': 40.687146, 'locationType': 0, 'lon': -73.97669, 'name': 'FULTON ST/LAFAYETTE AV', 'routeIds': ['MTA NYCT_B25', 'MTA NYCT_B26', 'MTA NYCT_B52'], 'wheelchairBoarding': 'UNKNOWN'}, {'code': '302369', 'direction': 'E', 'id': 'MTA_302369', 'lat': 40.686059, 'locationType': 0, 'lon': -73.974034, 'name': 'FULTON ST/SOUTH PORTLAND AV', 'routeIds': ['MTA NYCT_B25', 'MTA NYCT_B26', 'MTA NYCT_B52'], 'wheelchairBoarding': 'UNKNOWN'}, {'code': '302427', 'direction': 'W', 'id': 'MTA_302427', 'lat': 40.686724, 'locationType': 0, 'lon': -73.975391, 'name': 'FULTON ST/SOUTH ELLIOT PL', 'routeIds': ['MTA NYCT_B25', 'MTA NYCT_B26', 'MTA NYCT_B52'], 'wheelchairBoarding': 'UNKNOWN'}, {'code': '302428', 'direction': 'W', 'id': 'MTA_302428', 'lat': 40.68738, 'locationType': 0, 'lon': -73.977028, 'name': 'FULTON ST/FORT GREENE PL', 'routeIds': ['MTA NYCT_B25', 'MTA NYCT_B26', 'MTA NYCT_B52'], 'wheelchairBoarding': 'UNKNOWN'}, {'code': '302430', 'direction': 'W', 'id': 'MTA_302430', 'lat': 40.688635, 'locationType': 0, 'lon': -73.980164, 'name': 'FULTON ST/HUDSON AV', 'routeIds': ['MTA NYCT_B25', 'MTA NYCT_B26', 'MTA NYCT_B52'], 'wheelchairBoarding': 'UNKNOWN'}, {'code': '302431', 'direction': 'W', 'id': 'MTA_302431', 'lat': 40.689671, 'locationType': 0, 'lon': -73.982815, 'name': 'FULTON ST/BOND ST', 'routeIds': ['MTA NYCT_B25', 'MTA NYCT_B26', 'MTA NYCT_B52'], 'wheelchairBoarding': 'UNKNOWN'}, {'code': '302433', 'direction': 'W', 'id': 'MTA_302433', 'lat': 40.691398, 'locationType': 0, 'lon': -73.987134, 'name': 'FULTON ST/JAY ST', 'routeIds': ['MTA NYCT_B25', 'MTA NYCT_B26', 'MTA NYCT_B38', 'MTA NYCT_B52'], 'wheelchairBoarding': 'UNKNOWN'}, {'code': '302434', 'direction': 'NE', 'id': 'MTA_302434', 'lat': 40.693437, 'locationType': 0, 'lon': -73.990476, 'name': 'COURT ST/MONTAGUE ST', 'routeIds': ['MTA NYCT_B26', 'MTA NYCT_B38', 'MTA NYCT_B41', 'MTA NYCT_B45', 'MTA NYCT_B52'], 'wheelchairBoarding': 'UNKNOWN'}, {'code': '302945', 'direction': 'E', 'id': 'MTA_302945', 'lat': 40.69148, 'locationType': 0, 'lon': -73.987534, 'name': 'FULTON ST/SMITH ST', 'routeIds': ['MTA NYCT_B25', 'MTA NYCT_B38', 'MTA NYCT_B52'], 'wheelchairBoarding': 'UNKNOWN'}, {'code': '302947', 'direction': 'SE', 'id': 'MTA_302947', 'lat': 40.689709, 'locationType': 0, 'lon': -73.983099, 'name': 'FULTON ST/BOND ST', 'routeIds': ['MTA NYCT_B25', 'MTA NYCT_B26', 'MTA NYCT_B38', 'MTA NYCT_B52'], 'wheelchairBoarding': 'UNKNOWN'}, {'code': '303017', 'direction': 'E', 'id': 'MTA_303017', 'lat': 40.688106, 'locationType': 0, 'lon': -73.979087, 'name': 'FULTON ST/ROCKWELL PL', 'routeIds': ['MTA NYCT_B52'], 'wheelchairBoarding': 'UNKNOWN'}, {'code': '304196', 'direction': 'SW', 'id': 'MTA_304196', 'lat': 40.698169, 'locationType': 0, 'lon': -73.9136, 'name': 'GATES AV/IRVING AV', 'routeIds': ['MTA NYCT_B52'], 'wheelchairBoarding': 'UNKNOWN'}, {'code': '304197', 'direction': 'SW', 'id': 'MTA_304197', 'lat': 40.696571, 'locationType': 0, 'lon': -73.915192, 'name': 'GATES AV/KNICKERBOCKER AV', 'routeIds': ['MTA NYCT_B52'], 'wheelchairBoarding': 'UNKNOWN'}, {'code': '304198', 'direction': 'SW', 'id': 'MTA_304198', 'lat': 40.695173, 'locationType': 0, 'lon': -73.916567, 'name': 'GATES AV/WILSON AV', 'routeIds': ['MTA NYCT_B52'], 'wheelchairBoarding': 'UNKNOWN'}, {'code': '304199', 'direction': 'SW', 'id': 'MTA_304199', 'lat': 40.693667, 'locationType': 0, 'lon': -73.918051, 'name': 'GATES AV/CENTRAL AV', 'routeIds': ['MTA NYCT_B52'], 'wheelchairBoarding': 'UNKNOWN'}, {'code': '304200', 'direction': 'SW', 'id': 'MTA_304200', 'lat': 40.69192, 'locationType': 0, 'lon': -73.919766, 'name': 'GATES AV/EVERGREEN AV', 'routeIds': ['MTA NYCT_B52'], 'wheelchairBoarding': 'UNKNOWN'}, {'code': '304201', 'direction': 'SW', 'id': 'MTA_304201', 'lat': 40.690696, 'locationType': 0, 'lon': -73.920979, 'name': 'GATES AV/BUSHWICK AV', 'routeIds': ['MTA NYCT_B52'], 'wheelchairBoarding': 'UNKNOWN'}, {'code': '304203', 'direction': 'W', 'id': 'MTA_304203', 'lat': 40.689263, 'locationType': 0, 'lon': -73.924414, 'name': 'GATES AV/RALPH AV', 'routeIds': ['MTA NYCT_B52'], 'wheelchairBoarding': 'UNKNOWN'}, {'code': '304204', 'direction': 'W', 'id': 'MTA_304204', 'lat': 40.688886, 'locationType': 0, 'lon': -73.92766, 'name': 'GATES AV/PATCHEN AV', 'routeIds': ['MTA NYCT_B52'], 'wheelchairBoarding': 'UNKNOWN'}, {'code': '304205', 'direction': 'W', 'id': 'MTA_304205', 'lat': 40.68853, 'locationType': 0, 'lon': -73.930617, 'name': 'GATES AV/MALCOLM X BLVD', 'routeIds': ['MTA NYCT_B52'], 'wheelchairBoarding': 'UNKNOWN'}, {'code': '304206', 'direction': 'W', 'id': 'MTA_304206', 'lat': 40.688206, 'locationType': 0, 'lon': -73.933536, 'name': 'GATES AV/STUYVESANT AV', 'routeIds': ['MTA NYCT_B52'], 'wheelchairBoarding': 'UNKNOWN'}, {'code': '304207', 'direction': 'W', 'id': 'MTA_304207', 'lat': 40.687934, 'locationType': 0, 'lon': -73.935916, 'name': 'GATES AV/LEWIS AV', 'routeIds': ['MTA NYCT_B52'], 'wheelchairBoarding': 'UNKNOWN'}, {'code': '304209', 'direction': 'W', 'id': 'MTA_304209', 'lat': 40.687251, 'locationType': 0, 'lon': -73.941654, 'name': 'GATES AV/THROOP AV', 'routeIds': ['MTA NYCT_B52'], 'wheelchairBoarding': 'UNKNOWN'}, {'code': '304210', 'direction': 'W', 'id': 'MTA_304210', 'lat': 40.686884, 'locationType': 0, 'lon': -73.945016, 'name': 'GATES AV/TOMPKINS AV', 'routeIds': ['MTA NYCT_B52'], 'wheelchairBoarding': 'UNKNOWN'}, {'code': '304211', 'direction': 'W', 'id': 'MTA_304211', 'lat': 40.686541, 'locationType': 0, 'lon': -73.94787, 'name': 'GATES AV/MARCY AV', 'routeIds': ['MTA NYCT_B52'], 'wheelchairBoarding': 'UNKNOWN'}, {'code': '304212', 'direction': 'W', 'id': 'MTA_304212', 'lat': 40.686164, 'locationType': 0, 'lon': -73.951161, 'name': 'GATES AV/NOSTRAND AV', 'routeIds': ['MTA NYCT_B52'], 'wheelchairBoarding': 'UNKNOWN'}, {'code': '304213', 'direction': 'W', 'id': 'MTA_304213', 'lat': 40.685761, 'locationType': 0, 'lon': -73.954837, 'name': 'GATES AV/BEDFORD AV', 'routeIds': ['MTA NYCT_B52'], 'wheelchairBoarding': 'UNKNOWN'}, {'code': '304214', 'direction': 'W', 'id': 'MTA_304214', 'lat': 40.685515, 'locationType': 0, 'lon': -73.956944, 'name': 'GATES AV/FRANKLIN AV', 'routeIds': ['MTA NYCT_B52'], 'wheelchairBoarding': 'UNKNOWN'}, {'code': '304415', 'direction': 'NE', 'id': 'MTA_304415', 'lat': 40.6982, 'locationType': 0, 'lon': -73.912261, 'name': 'PALMETTO ST/IRVING AV', 'routeIds': ['MTA NYCT_B52'], 'wheelchairBoarding': 'UNKNOWN'}, {'code': '306530', 'direction': 'W', 'id': 'MTA_306530', 'lat': 40.687516, 'locationType': 0, 'lon': -73.939383, 'name': 'GATES AV/MARCUS GARVEY BLVD', 'routeIds': ['MTA NYCT_B52'], 'wheelchairBoarding': 'UNKNOWN'}, {'code': '307175', 'direction': 'N', 'id': 'MTA_307175', 'lat': 40.695988, 'locationType': 0, 'lon': -73.991009, 'name': 'CADMAN PLAZA WEST/TILLARY ST', 'routeIds': ['MTA NYCT_B26', 'MTA NYCT_B52', 'MTABC_B103'], 'wheelchairBoarding': 'UNKNOWN'}, {'code': '307460', 'direction': 'S', 'id': 'MTA_307460', 'lat': 40.69256, 'locationType': 0, 'lon': -73.989131, 'name': 'ADAMS ST/BROOKLYN SUPREME COURT', 'routeIds': ['MTA NYCT_B25', 'MTA NYCT_B38', 'MTA NYCT_B41', 'MTA NYCT_B52'], 'wheelchairBoarding': 'UNKNOWN'}, {'code': '307491', 'direction': 'E', 'id': 'MTA_307491', 'lat': 40.69069, 'locationType': 0, 'lon': -73.985547, 'name': 'FULTON ST/HOYT ST', 'routeIds': ['MTA NYCT_B25', 'MTA NYCT_B26', 'MTA NYCT_B38', 'MTA NYCT_B52'], 'wheelchairBoarding': 'UNKNOWN'}, {'code': '307492', 'direction': 'NW', 'id': 'MTA_307492', 'lat': 40.690536, 'locationType': 0, 'lon': -73.984949, 'name': 'FULTON ST/DUFFIELD ST', 'routeIds': ['MTA NYCT_B25', 'MTA NYCT_B26', 'MTA NYCT_B38', 'MTA NYCT_B52'], 'wheelchairBoarding': 'UNKNOWN'}, {'code': '307547', 'direction': 'E', 'id': 'MTA_307547', 'lat': 40.685878, 'locationType': 0, 'lon': -73.97255, 'name': 'GREENE AV/FULTON ST', 'routeIds': ['MTA NYCT_B52'], 'wheelchairBoarding': 'UNKNOWN'}, {'code': '307549', 'direction': 'E', 'id': 'MTA_307549', 'lat': 40.686401, 'locationType': 0, 'lon': -73.968035, 'name': 'GREENE AV/VANDERBILT AV', 'routeIds': ['MTA NYCT_B52'], 'wheelchairBoarding': 'UNKNOWN'}, {'code': '307550', 'direction': 'E', 'id': 'MTA_307550', 'lat': 40.686738, 'locationType': 0, 'lon': -73.965107, 'name': 'GREENE AV/WASHINGTON AV', 'routeIds': ['MTA NYCT_B52'], 'wheelchairBoarding': 'UNKNOWN'}, {'code': '307551', 'direction': 'E', 'id': 'MTA_307551', 'lat': 40.687089, 'locationType': 0, 'lon': -73.962078, 'name': 'GREENE AV/GRAND AV', 'routeIds': ['MTA NYCT_B52'], 'wheelchairBoarding': 'UNKNOWN'}, {'code': '307552', 'direction': 'E', 'id': 'MTA_307552', 'lat': 40.687412, 'locationType': 0, 'lon': -73.95928, 'name': 'GREENE AV/CLASSON AV', 'routeIds': ['MTA NYCT_B52'], 'wheelchairBoarding': 'UNKNOWN'}, {'code': '307553', 'direction': 'S', 'id': 'MTA_307553', 'lat': 40.687399, 'locationType': 0, 'lon': -73.956963, 'name': 'FRANKLIN AV/GREENE AV', 'routeIds': ['MTA NYCT_B48', 'MTA NYCT_B52'], 'wheelchairBoarding': 'UNKNOWN'}, {'code': '307572', 'direction': 'W', 'id': 'MTA_307572', 'lat': 40.687391, 'locationType': 0, 'lon': -73.960122, 'name': 'GREENE AV/CLASSON AV', 'routeIds': ['MTA NYCT_B52'], 'wheelchairBoarding': 'UNKNOWN'}, {'code': '307573', 'direction': 'W', 'id': 'MTA_307573', 'lat': 40.687092, 'locationType': 0, 'lon': -73.962958, 'name': 'GREENE AV/GRAND AV', 'routeIds': ['MTA NYCT_B52'], 'wheelchairBoarding': 'UNKNOWN'}, {'code': '307575', 'direction': 'W', 'id': 'MTA_307575', 'lat': 40.686366, 'locationType': 0, 'lon': -73.968929, 'name': 'GREENE AV/VANDERBILT AV', 'routeIds': ['MTA NYCT_B52'], 'wheelchairBoarding': 'UNKNOWN'}, {'code': '307576', 'direction': 'W', 'id': 'MTA_307576', 'lat': 40.686129, 'locationType': 0, 'lon': -73.970882, 'name': 'GREENE AV/ADELPHI ST', 'routeIds': ['MTA NYCT_B52'], 'wheelchairBoarding': 'UNKNOWN'}, {'code': '307577', 'direction': 'W', 'id': 'MTA_307577', 'lat': 40.685925, 'locationType': 0, 'lon': -73.972816, 'name': 'GREENE AV/CUMBERLAND ST', 'routeIds': ['MTA NYCT_B52'], 'wheelchairBoarding': 'UNKNOWN'}, {'code': '307596', 'direction': 'W', 'id': 'MTA_307596', 'lat': 40.686704, 'locationType': 0, 'lon': -73.965978, 'name': 'GREENE AV/WASHINGTON AV', 'routeIds': ['MTA NYCT_B52'], 'wheelchairBoarding': 'UNKNOWN'}, {'code': '307674', 'direction': 'E', 'id': 'MTA_307674', 'lat': 40.685527, 'locationType': 0, 'lon': -73.956108, 'name': 'GATES AV/FRANKLIN AV', 'routeIds': ['MTA NYCT_B52'], 'wheelchairBoarding': 'UNKNOWN'}, {'code': '307675', 'direction': 'E', 'id': 'MTA_307675', 'lat': 40.685774, 'locationType': 0, 'lon': -73.953956, 'name': 'GATES AV/BEDFORD AV', 'routeIds': ['MTA NYCT_B52'], 'wheelchairBoarding': 'UNKNOWN'}, {'code': '307676', 'direction': 'E', 'id': 'MTA_307676', 'lat': 40.686129, 'locationType': 0, 'lon': -73.950865, 'name': 'GATES AV/NOSTRAND AV', 'routeIds': ['MTA NYCT_B52'], 'wheelchairBoarding': 'UNKNOWN'}, {'code': '307677', 'direction': 'E', 'id': 'MTA_307677', 'lat': 40.686569, 'locationType': 0, 'lon': -73.947043, 'name': 'GATES AV/MARCY AV', 'routeIds': ['MTA NYCT_B52'], 'wheelchairBoarding': 'UNKNOWN'}, {'code': '307678', 'direction': 'E', 'id': 'MTA_307678', 'lat': 40.686906, 'locationType': 0, 'lon': -73.944118, 'name': 'GATES AV/TOMPKINS AV', 'routeIds': ['MTA NYCT_B52'], 'wheelchairBoarding': 'UNKNOWN'}, {'code': '307679', 'direction': 'E', 'id': 'MTA_307679', 'lat': 40.687217, 'locationType': 0, 'lon': -73.941334, 'name': 'GATES AV/THROOP AV', 'routeIds': ['MTA NYCT_B52'], 'wheelchairBoarding': 'UNKNOWN'}, {'code': '307680', 'direction': 'E', 'id': 'MTA_307680', 'lat': 40.68754, 'locationType': 0, 'lon': -73.938532, 'name': 'GATES AV/MARCUS GARVEY BLVD', 'routeIds': ['MTA NYCT_B52'], 'wheelchairBoarding': 'UNKNOWN'}, {'code': '307681', 'direction': 'E', 'id': 'MTA_307681', 'lat': 40.687873, 'locationType': 0, 'lon': -73.935615, 'name': 'GATES AV/LEWIS AV', 'routeIds': ['MTA NYCT_B52'], 'wheelchairBoarding': 'UNKNOWN'}, {'code': '307682', 'direction': 'E', 'id': 'MTA_307682', 'lat': 40.688214, 'locationType': 0, 'lon': -73.932665, 'name': 'GATES AV/STUYVESANT AV', 'routeIds': ['MTA NYCT_B52'], 'wheelchairBoarding': 'UNKNOWN'}, {'code': '307683', 'direction': 'E', 'id': 'MTA_307683', 'lat': 40.688553, 'locationType': 0, 'lon': -73.92974, 'name': 'GATES AV/MALCOLM X BLVD', 'routeIds': ['MTA NYCT_B52'], 'wheelchairBoarding': 'UNKNOWN'}, {'code': '307684', 'direction': 'E', 'id': 'MTA_307684', 'lat': 40.688902, 'locationType': 0, 'lon': -73.926862, 'name': 'GATES AV/PATCHEN AV', 'routeIds': ['MTA NYCT_B52'], 'wheelchairBoarding': 'UNKNOWN'}, {'code': '307686', 'direction': 'E', 'id': 'MTA_307686', 'lat': 40.689438, 'locationType': 0, 'lon': -73.922215, 'name': 'GATES AV/BROADWAY', 'routeIds': ['MTA NYCT_B52'], 'wheelchairBoarding': 'UNKNOWN'}, {'code': '307687', 'direction': 'NE', 'id': 'MTA_307687', 'lat': 40.69113, 'locationType': 0, 'lon': -73.92038, 'name': 'GATES AV/BUSHWICK AV', 'routeIds': ['MTA NYCT_B52'], 'wheelchairBoarding': 'UNKNOWN'}, {'code': '307688', 'direction': 'NE', 'id': 'MTA_307688', 'lat': 40.692361, 'locationType': 0, 'lon': -73.919202, 'name': 'GATES AV/EVERGREEN AV', 'routeIds': ['MTA NYCT_B52'], 'wheelchairBoarding': 'UNKNOWN'}, {'code': '307689', 'direction': 'NE', 'id': 'MTA_307689', 'lat': 40.694104, 'locationType': 0, 'lon': -73.917491, 'name': 'GATES AV/CENTRAL AV', 'routeIds': ['MTA NYCT_B52'], 'wheelchairBoarding': 'UNKNOWN'}, {'code': '307690', 'direction': 'NE', 'id': 'MTA_307690', 'lat': 40.695572, 'locationType': 0, 'lon': -73.916057, 'name': 'GATES AV/WILSON AV', 'routeIds': ['MTA NYCT_B52'], 'wheelchairBoarding': 'UNKNOWN'}, {'code': '307691', 'direction': 'NE', 'id': 'MTA_307691', 'lat': 40.69704, 'locationType': 0, 'lon': -73.914567, 'name': 'GATES AV/KNICKERBOCKER AV', 'routeIds': ['MTA NYCT_B52'], 'wheelchairBoarding': 'UNKNOWN'}, {'code': '307901', 'direction': 'E', 'id': 'MTA_307901', 'lat': 40.689211, 'locationType': 0, 'lon': -73.924117, 'name': 'GATES AV/RALPH AV', 'routeIds': ['MTA NYCT_B52'], 'wheelchairBoarding': 'UNKNOWN'}, {'code': '307948', 'direction': 'W', 'id': 'MTA_307948', 'lat': 40.685282, 'locationType': 0, 'lon': -73.959148, 'name': 'GATES AV/CLASSON AV', 'routeIds': ['MTA NYCT_B52'], 'wheelchairBoarding': 'UNKNOWN'}, {'code': '308046', 'direction': 'W', 'id': 'MTA_308046', 'lat': 40.689479, 'locationType': 0, 'lon': -73.922704, 'name': 'GATES AV/BROADWAY', 'routeIds': ['MTA NYCT_B52'], 'wheelchairBoarding': 'UNKNOWN'}, {'code': '504119', 'direction': 'SW', 'id': 'MTA_504119', 'lat': 40.70005, 'locationType': 0, 'lon': -73.911769, 'name': 'GATES AV/WYCKOFF AV', 'routeIds': ['MTA NYCT_B13', 'MTA NYCT_B52'], 'wheelchairBoarding': 'UNKNOWN'}, {'code': '504965', 'direction': 'NE', 'id': 'MTA_504965', 'lat': 40.700421, 'locationType': 0, 'lon': -73.909993, 'name': 'PALMETTO ST/SAINT NICHOLAS AV', 'routeIds': ['MTA NYCT_B52'], 'wheelchairBoarding': 'UNKNOWN'}, {'code': '801117', 'direction': 'NE', 'id': 'MTA_801117', 'lat': 40.699297, 'locationType': 0, 'lon': -73.911223, 'name': 'PALMETTO ST/WYCKOFF AV', 'routeIds': ['MTA NYCT_B52'], 'wheelchairBoarding': 'UNKNOWN'}, {'code': '901463', 'direction': 'N', 'id': 'MTA_901463', 'lat': 40.695231, 'locationType': 0, 'lon': -73.990816, 'name': 'CADMAN PLAZA WEST/TILLARY ST', 'routeIds': ['MTA NYCT_B26', 'MTA NYCT_B52'], 'wheelchairBoarding': 'UNKNOWN'}], 'trips': []}}, 'text': 'OK', 'version': 2}\n"
     ]
    },
    {
     "name": "stderr",
     "output_type": "stream",
     "text": [
      "/var/folders/ly/ml1ytmcj1137w_s0w0f7j0g80000gn/T/ipykernel_6200/3558623838.py:2: RuntimeWarning: coroutine 'get_bus_route' was never awaited\n",
      "  route_data = await get_bus_route(route_id)\n",
      "RuntimeWarning: Enable tracemalloc to get the object allocation traceback\n"
     ]
    }
   ],
   "source": [
    "route_id = \"B52\" # Example route\n",
    "route_data = await get_bus_route(route_id)\n",
    "print(route_data)\n",
    "\n"
   ]
  },
  {
   "cell_type": "code",
   "execution_count": null,
   "id": "02ae4517",
   "metadata": {},
   "outputs": [],
   "source": [
    "def get_stop_groups(route_data):\n",
    "    if not route_data['data']['entry']['stopGroupings'][0]['ordered']:\n",
    "        print(f\"{route_data['routeId']} not ordered\")\n",
    "        return\n",
    "    route_lists = {}\n",
    "    stopGroups = route_data['data']['entry']['stopGroupings'][0]['stopGroups']\n",
    "    \n",
    "    for group in stopGroups:\n",
    "\n",
    "        route_lists[group['name']['name']] = group['stopIds']\n",
    "    \n",
    "    return route_lists\n",
    "\n",
    "    "
   ]
  },
  {
   "cell_type": "code",
   "execution_count": null,
   "id": "9b58c790",
   "metadata": {},
   "outputs": [],
   "source": [
    "test_route_lists = get_stop_groups(route_data)"
   ]
  },
  {
   "cell_type": "code",
   "execution_count": null,
   "id": "45d57f29",
   "metadata": {},
   "outputs": [],
   "source": []
  },
  {
   "cell_type": "code",
   "execution_count": null,
   "id": "c117dec0",
   "metadata": {},
   "outputs": [],
   "source": [
    "json_path='./graph_data/bus_info_dict.json'\n",
    "with open(json_path) as json_file:\n",
    "    bus_info = json.load(json_file)"
   ]
  },
  {
   "cell_type": "code",
   "execution_count": null,
   "id": "81635f1b",
   "metadata": {},
   "outputs": [
    {
     "name": "stdout",
     "output_type": "stream",
     "text": [
      "{'name': 'Brooklyn Bridge Park /PIER 6', 'routes': ['B63'], 'direction': 'W', 'link': 'https://bustime.mta.info/m/index?q=901601', 'id': 'MTA_901601', 'latitude': 40.693078, 'longitude': -74.000877, 'osmid': 1567286111}\n"
     ]
    }
   ],
   "source": [
    "print(bus_info['MTA_901601'])"
   ]
  },
  {
   "cell_type": "code",
   "execution_count": null,
   "id": "719031be",
   "metadata": {},
   "outputs": [],
   "source": [
    "json_path='./graph_data/all_routes.json'\n",
    "with open(json_path) as json_file:\n",
    "    all_routes = json.load(json_file)"
   ]
  },
  {
   "cell_type": "code",
   "execution_count": null,
   "id": "270ee51f",
   "metadata": {},
   "outputs": [
    {
     "name": "stdout",
     "output_type": "stream",
     "text": [
      "357\n"
     ]
    }
   ],
   "source": [
    "print(len(all_routes))"
   ]
  },
  {
   "cell_type": "code",
   "execution_count": null,
   "id": "2070506c",
   "metadata": {},
   "outputs": [],
   "source": [
    "def shorten_id(route):\n",
    "    shortened_id = route['id'].split('_')[1]\n",
    "    return shortened_id"
   ]
  },
  {
   "cell_type": "code",
   "execution_count": null,
   "id": "e88f1033",
   "metadata": {},
   "outputs": [
    {
     "name": "stdout",
     "output_type": "stream",
     "text": [
      "M34+\n"
     ]
    }
   ],
   "source": [
    "shorten_id(all_routes[0])"
   ]
  },
  {
   "cell_type": "code",
   "execution_count": null,
   "id": "06647f28",
   "metadata": {},
   "outputs": [
    {
     "name": "stdout",
     "output_type": "stream",
     "text": [
      "{'code': 200, 'currentTime': 1746591325581, 'data': {'entry': {'polylines': [], 'routeId': 'MTA NYCT_B52', 'stopGroupings': [{'ordered': True, 'stopGroups': [{'id': '1', 'name': {'name': 'DOWNTOWN BKLYN TILLARY ST via GATES', 'names': ['DOWNTOWN BKLYN TILLARY ST via GATES'], 'type': 'destination'}, 'polylines': [], 'stopIds': ['MTA_504965', 'MTA_504119', 'MTA_304196', 'MTA_304197', 'MTA_304198', 'MTA_304199', 'MTA_304200', 'MTA_304201', 'MTA_308046', 'MTA_304203', 'MTA_304204', 'MTA_304205', 'MTA_304206', 'MTA_304207', 'MTA_306530', 'MTA_304209', 'MTA_304210', 'MTA_304211', 'MTA_304212', 'MTA_304213', 'MTA_304214', 'MTA_307948', 'MTA_307572', 'MTA_307573', 'MTA_307596', 'MTA_307575', 'MTA_307576', 'MTA_307577', 'MTA_302427', 'MTA_302428', 'MTA_302430', 'MTA_302431', 'MTA_307492', 'MTA_302433', 'MTA_302434', 'MTA_901463'], 'subGroups': []}, {'id': '0', 'name': {'name': 'RIDGEWOOD TERM via GATES', 'names': ['RIDGEWOOD TERM via GATES'], 'type': 'destination'}, 'polylines': [], 'stopIds': ['MTA_307175', 'MTA_307460', 'MTA_302945', 'MTA_307491', 'MTA_302947', 'MTA_303017', 'MTA_302368', 'MTA_302369', 'MTA_307547', 'MTA_307549', 'MTA_307550', 'MTA_307551', 'MTA_307552', 'MTA_307553', 'MTA_307674', 'MTA_307675', 'MTA_307676', 'MTA_307677', 'MTA_307678', 'MTA_307679', 'MTA_307680', 'MTA_307681', 'MTA_307682', 'MTA_307683', 'MTA_307684', 'MTA_307901', 'MTA_307686', 'MTA_307687', 'MTA_307688', 'MTA_307689', 'MTA_307690', 'MTA_307691', 'MTA_304415', 'MTA_801117'], 'subGroups': []}], 'type': 'direction'}], 'stopIds': ['MTA_302368', 'MTA_302369', 'MTA_302427', 'MTA_302428', 'MTA_302430', 'MTA_302431', 'MTA_302433', 'MTA_302434', 'MTA_302945', 'MTA_302947', 'MTA_303017', 'MTA_304196', 'MTA_304197', 'MTA_304198', 'MTA_304199', 'MTA_304200', 'MTA_304201', 'MTA_304203', 'MTA_304204', 'MTA_304205', 'MTA_304206', 'MTA_304207', 'MTA_304209', 'MTA_304210', 'MTA_304211', 'MTA_304212', 'MTA_304213', 'MTA_304214', 'MTA_304415', 'MTA_306530', 'MTA_307175', 'MTA_307460', 'MTA_307491', 'MTA_307492', 'MTA_307547', 'MTA_307549', 'MTA_307550', 'MTA_307551', 'MTA_307552', 'MTA_307553', 'MTA_307572', 'MTA_307573', 'MTA_307575', 'MTA_307576', 'MTA_307577', 'MTA_307596', 'MTA_307674', 'MTA_307675', 'MTA_307676', 'MTA_307677', 'MTA_307678', 'MTA_307679', 'MTA_307680', 'MTA_307681', 'MTA_307682', 'MTA_307683', 'MTA_307684', 'MTA_307686', 'MTA_307687', 'MTA_307688', 'MTA_307689', 'MTA_307690', 'MTA_307691', 'MTA_307901', 'MTA_307948', 'MTA_308046', 'MTA_504119', 'MTA_504965', 'MTA_801117', 'MTA_901463']}, 'references': {'agencies': [{'disclaimer': '', 'id': 'MTA NYCT', 'lang': 'en', 'name': 'MTA New York City Transit', 'phone': '718-330-1234', 'privateService': False, 'timezone': 'America/New_York', 'url': 'http://www.mta.info'}, {'disclaimer': '', 'id': 'MTABC', 'lang': 'EN', 'name': 'MTA Bus Company', 'phone': '', 'privateService': False, 'timezone': 'America/New_York', 'url': 'http://www.mta.info'}], 'routes': [{'agencyId': 'MTA NYCT', 'color': 'EE352E', 'description': 'via Gates Av / Greene Av / Atlantic Av', 'id': 'MTA NYCT_B52', 'longName': 'Downtown Brooklyn - Ridgewood', 'shortName': 'B52', 'textColor': 'FFFFFF', 'type': 3, 'url': ''}, {'agencyId': 'MTA NYCT', 'color': '6CBE45', 'description': 'via Fulton St', 'id': 'MTA NYCT_B25', 'longName': 'Dwntn Bklyn & DUMBO - Broadway Junction', 'shortName': 'B25', 'textColor': 'FFFFFF', 'type': 3, 'url': ''}, {'agencyId': 'MTA NYCT', 'color': '006CB7', 'description': 'via Halsey St / Fulton St', 'id': 'MTA NYCT_B26', 'longName': 'Downtown Brooklyn - Ridgewood', 'shortName': 'B26', 'textColor': 'FFFFFF', 'type': 3, 'url': ''}, {'agencyId': 'MTA NYCT', 'color': '00AEEF', 'description': 'via DeKalb & Lafayette Av', 'id': 'MTA NYCT_B38', 'longName': 'Ridgewood - Downtown Brooklyn', 'shortName': 'B38', 'textColor': 'FFFFFF', 'type': 3, 'url': ''}, {'agencyId': 'MTA NYCT', 'color': '006CB7', 'description': 'via Flatbush Av / Livingston St', 'id': 'MTA NYCT_B41', 'longName': 'Kings Plaza - Downtown Brooklyn', 'shortName': 'B41', 'textColor': 'FFFFFF', 'type': 3, 'url': ''}, {'agencyId': 'MTA NYCT', 'color': 'EE352E', 'description': 'via St Johns Place / Washington Av / Atlantic Av', 'id': 'MTA NYCT_B45', 'longName': 'Downtown Brooklyn - Crown Heights', 'shortName': 'B45', 'textColor': 'FFFFFF', 'type': 3, 'url': ''}, {'agencyId': 'MTABC', 'color': 'FAA61A', 'description': 'Via Ave M / Ave H / 3Rd & 4Th Ave', 'id': 'MTABC_B103', 'longName': 'Canarsie - Downtown Brooklyn Ltd', 'shortName': 'B103', 'textColor': 'FFFFFF', 'type': 3, 'url': 'https://new.mta.info/schedules/bus'}, {'agencyId': 'MTA NYCT', 'color': '6CBE45', 'description': 'via Lorimer St / Franklin & Classon Av', 'id': 'MTA NYCT_B48', 'longName': 'Lefferts Gardens - Greenpoint', 'shortName': 'B48', 'textColor': 'FFFFFF', 'type': 3, 'url': ''}, {'agencyId': 'MTA NYCT', 'color': 'FAA61A', 'description': 'via Crescent St / Jamaica Av / Wyckoff Av', 'id': 'MTA NYCT_B13', 'longName': 'Spring Creek - Wyckoff Hospital', 'shortName': 'B13', 'textColor': 'FFFFFF', 'type': 3, 'url': ''}], 'situations': [], 'stops': [{'code': '302368', 'direction': 'SE', 'id': 'MTA_302368', 'lat': 40.687146, 'locationType': 0, 'lon': -73.97669, 'name': 'FULTON ST/LAFAYETTE AV', 'routeIds': ['MTA NYCT_B25', 'MTA NYCT_B26', 'MTA NYCT_B52'], 'wheelchairBoarding': 'UNKNOWN'}, {'code': '302369', 'direction': 'E', 'id': 'MTA_302369', 'lat': 40.686059, 'locationType': 0, 'lon': -73.974034, 'name': 'FULTON ST/SOUTH PORTLAND AV', 'routeIds': ['MTA NYCT_B25', 'MTA NYCT_B26', 'MTA NYCT_B52'], 'wheelchairBoarding': 'UNKNOWN'}, {'code': '302427', 'direction': 'W', 'id': 'MTA_302427', 'lat': 40.686724, 'locationType': 0, 'lon': -73.975391, 'name': 'FULTON ST/SOUTH ELLIOT PL', 'routeIds': ['MTA NYCT_B25', 'MTA NYCT_B26', 'MTA NYCT_B52'], 'wheelchairBoarding': 'UNKNOWN'}, {'code': '302428', 'direction': 'W', 'id': 'MTA_302428', 'lat': 40.68738, 'locationType': 0, 'lon': -73.977028, 'name': 'FULTON ST/FORT GREENE PL', 'routeIds': ['MTA NYCT_B25', 'MTA NYCT_B26', 'MTA NYCT_B52'], 'wheelchairBoarding': 'UNKNOWN'}, {'code': '302430', 'direction': 'W', 'id': 'MTA_302430', 'lat': 40.688635, 'locationType': 0, 'lon': -73.980164, 'name': 'FULTON ST/HUDSON AV', 'routeIds': ['MTA NYCT_B25', 'MTA NYCT_B26', 'MTA NYCT_B52'], 'wheelchairBoarding': 'UNKNOWN'}, {'code': '302431', 'direction': 'W', 'id': 'MTA_302431', 'lat': 40.689671, 'locationType': 0, 'lon': -73.982815, 'name': 'FULTON ST/BOND ST', 'routeIds': ['MTA NYCT_B25', 'MTA NYCT_B26', 'MTA NYCT_B52'], 'wheelchairBoarding': 'UNKNOWN'}, {'code': '302433', 'direction': 'W', 'id': 'MTA_302433', 'lat': 40.691398, 'locationType': 0, 'lon': -73.987134, 'name': 'FULTON ST/JAY ST', 'routeIds': ['MTA NYCT_B25', 'MTA NYCT_B26', 'MTA NYCT_B38', 'MTA NYCT_B52'], 'wheelchairBoarding': 'UNKNOWN'}, {'code': '302434', 'direction': 'NE', 'id': 'MTA_302434', 'lat': 40.693437, 'locationType': 0, 'lon': -73.990476, 'name': 'COURT ST/MONTAGUE ST', 'routeIds': ['MTA NYCT_B26', 'MTA NYCT_B38', 'MTA NYCT_B41', 'MTA NYCT_B45', 'MTA NYCT_B52'], 'wheelchairBoarding': 'UNKNOWN'}, {'code': '302945', 'direction': 'E', 'id': 'MTA_302945', 'lat': 40.69148, 'locationType': 0, 'lon': -73.987534, 'name': 'FULTON ST/SMITH ST', 'routeIds': ['MTA NYCT_B25', 'MTA NYCT_B38', 'MTA NYCT_B52'], 'wheelchairBoarding': 'UNKNOWN'}, {'code': '302947', 'direction': 'SE', 'id': 'MTA_302947', 'lat': 40.689709, 'locationType': 0, 'lon': -73.983099, 'name': 'FULTON ST/BOND ST', 'routeIds': ['MTA NYCT_B25', 'MTA NYCT_B26', 'MTA NYCT_B38', 'MTA NYCT_B52'], 'wheelchairBoarding': 'UNKNOWN'}, {'code': '303017', 'direction': 'E', 'id': 'MTA_303017', 'lat': 40.688106, 'locationType': 0, 'lon': -73.979087, 'name': 'FULTON ST/ROCKWELL PL', 'routeIds': ['MTA NYCT_B52'], 'wheelchairBoarding': 'UNKNOWN'}, {'code': '304196', 'direction': 'SW', 'id': 'MTA_304196', 'lat': 40.698169, 'locationType': 0, 'lon': -73.9136, 'name': 'GATES AV/IRVING AV', 'routeIds': ['MTA NYCT_B52'], 'wheelchairBoarding': 'UNKNOWN'}, {'code': '304197', 'direction': 'SW', 'id': 'MTA_304197', 'lat': 40.696571, 'locationType': 0, 'lon': -73.915192, 'name': 'GATES AV/KNICKERBOCKER AV', 'routeIds': ['MTA NYCT_B52'], 'wheelchairBoarding': 'UNKNOWN'}, {'code': '304198', 'direction': 'SW', 'id': 'MTA_304198', 'lat': 40.695173, 'locationType': 0, 'lon': -73.916567, 'name': 'GATES AV/WILSON AV', 'routeIds': ['MTA NYCT_B52'], 'wheelchairBoarding': 'UNKNOWN'}, {'code': '304199', 'direction': 'SW', 'id': 'MTA_304199', 'lat': 40.693667, 'locationType': 0, 'lon': -73.918051, 'name': 'GATES AV/CENTRAL AV', 'routeIds': ['MTA NYCT_B52'], 'wheelchairBoarding': 'UNKNOWN'}, {'code': '304200', 'direction': 'SW', 'id': 'MTA_304200', 'lat': 40.69192, 'locationType': 0, 'lon': -73.919766, 'name': 'GATES AV/EVERGREEN AV', 'routeIds': ['MTA NYCT_B52'], 'wheelchairBoarding': 'UNKNOWN'}, {'code': '304201', 'direction': 'SW', 'id': 'MTA_304201', 'lat': 40.690696, 'locationType': 0, 'lon': -73.920979, 'name': 'GATES AV/BUSHWICK AV', 'routeIds': ['MTA NYCT_B52'], 'wheelchairBoarding': 'UNKNOWN'}, {'code': '304203', 'direction': 'W', 'id': 'MTA_304203', 'lat': 40.689263, 'locationType': 0, 'lon': -73.924414, 'name': 'GATES AV/RALPH AV', 'routeIds': ['MTA NYCT_B52'], 'wheelchairBoarding': 'UNKNOWN'}, {'code': '304204', 'direction': 'W', 'id': 'MTA_304204', 'lat': 40.688886, 'locationType': 0, 'lon': -73.92766, 'name': 'GATES AV/PATCHEN AV', 'routeIds': ['MTA NYCT_B52'], 'wheelchairBoarding': 'UNKNOWN'}, {'code': '304205', 'direction': 'W', 'id': 'MTA_304205', 'lat': 40.68853, 'locationType': 0, 'lon': -73.930617, 'name': 'GATES AV/MALCOLM X BLVD', 'routeIds': ['MTA NYCT_B52'], 'wheelchairBoarding': 'UNKNOWN'}, {'code': '304206', 'direction': 'W', 'id': 'MTA_304206', 'lat': 40.688206, 'locationType': 0, 'lon': -73.933536, 'name': 'GATES AV/STUYVESANT AV', 'routeIds': ['MTA NYCT_B52'], 'wheelchairBoarding': 'UNKNOWN'}, {'code': '304207', 'direction': 'W', 'id': 'MTA_304207', 'lat': 40.687934, 'locationType': 0, 'lon': -73.935916, 'name': 'GATES AV/LEWIS AV', 'routeIds': ['MTA NYCT_B52'], 'wheelchairBoarding': 'UNKNOWN'}, {'code': '304209', 'direction': 'W', 'id': 'MTA_304209', 'lat': 40.687251, 'locationType': 0, 'lon': -73.941654, 'name': 'GATES AV/THROOP AV', 'routeIds': ['MTA NYCT_B52'], 'wheelchairBoarding': 'UNKNOWN'}, {'code': '304210', 'direction': 'W', 'id': 'MTA_304210', 'lat': 40.686884, 'locationType': 0, 'lon': -73.945016, 'name': 'GATES AV/TOMPKINS AV', 'routeIds': ['MTA NYCT_B52'], 'wheelchairBoarding': 'UNKNOWN'}, {'code': '304211', 'direction': 'W', 'id': 'MTA_304211', 'lat': 40.686541, 'locationType': 0, 'lon': -73.94787, 'name': 'GATES AV/MARCY AV', 'routeIds': ['MTA NYCT_B52'], 'wheelchairBoarding': 'UNKNOWN'}, {'code': '304212', 'direction': 'W', 'id': 'MTA_304212', 'lat': 40.686164, 'locationType': 0, 'lon': -73.951161, 'name': 'GATES AV/NOSTRAND AV', 'routeIds': ['MTA NYCT_B52'], 'wheelchairBoarding': 'UNKNOWN'}, {'code': '304213', 'direction': 'W', 'id': 'MTA_304213', 'lat': 40.685761, 'locationType': 0, 'lon': -73.954837, 'name': 'GATES AV/BEDFORD AV', 'routeIds': ['MTA NYCT_B52'], 'wheelchairBoarding': 'UNKNOWN'}, {'code': '304214', 'direction': 'W', 'id': 'MTA_304214', 'lat': 40.685515, 'locationType': 0, 'lon': -73.956944, 'name': 'GATES AV/FRANKLIN AV', 'routeIds': ['MTA NYCT_B52'], 'wheelchairBoarding': 'UNKNOWN'}, {'code': '304415', 'direction': 'NE', 'id': 'MTA_304415', 'lat': 40.6982, 'locationType': 0, 'lon': -73.912261, 'name': 'PALMETTO ST/IRVING AV', 'routeIds': ['MTA NYCT_B52'], 'wheelchairBoarding': 'UNKNOWN'}, {'code': '306530', 'direction': 'W', 'id': 'MTA_306530', 'lat': 40.687516, 'locationType': 0, 'lon': -73.939383, 'name': 'GATES AV/MARCUS GARVEY BLVD', 'routeIds': ['MTA NYCT_B52'], 'wheelchairBoarding': 'UNKNOWN'}, {'code': '307175', 'direction': 'N', 'id': 'MTA_307175', 'lat': 40.695988, 'locationType': 0, 'lon': -73.991009, 'name': 'CADMAN PLAZA WEST/TILLARY ST', 'routeIds': ['MTA NYCT_B26', 'MTA NYCT_B52', 'MTABC_B103'], 'wheelchairBoarding': 'UNKNOWN'}, {'code': '307460', 'direction': 'S', 'id': 'MTA_307460', 'lat': 40.69256, 'locationType': 0, 'lon': -73.989131, 'name': 'ADAMS ST/BROOKLYN SUPREME COURT', 'routeIds': ['MTA NYCT_B25', 'MTA NYCT_B38', 'MTA NYCT_B41', 'MTA NYCT_B52'], 'wheelchairBoarding': 'UNKNOWN'}, {'code': '307491', 'direction': 'E', 'id': 'MTA_307491', 'lat': 40.69069, 'locationType': 0, 'lon': -73.985547, 'name': 'FULTON ST/HOYT ST', 'routeIds': ['MTA NYCT_B25', 'MTA NYCT_B26', 'MTA NYCT_B38', 'MTA NYCT_B52'], 'wheelchairBoarding': 'UNKNOWN'}, {'code': '307492', 'direction': 'NW', 'id': 'MTA_307492', 'lat': 40.690536, 'locationType': 0, 'lon': -73.984949, 'name': 'FULTON ST/DUFFIELD ST', 'routeIds': ['MTA NYCT_B25', 'MTA NYCT_B26', 'MTA NYCT_B38', 'MTA NYCT_B52'], 'wheelchairBoarding': 'UNKNOWN'}, {'code': '307547', 'direction': 'E', 'id': 'MTA_307547', 'lat': 40.685878, 'locationType': 0, 'lon': -73.97255, 'name': 'GREENE AV/FULTON ST', 'routeIds': ['MTA NYCT_B52'], 'wheelchairBoarding': 'UNKNOWN'}, {'code': '307549', 'direction': 'E', 'id': 'MTA_307549', 'lat': 40.686401, 'locationType': 0, 'lon': -73.968035, 'name': 'GREENE AV/VANDERBILT AV', 'routeIds': ['MTA NYCT_B52'], 'wheelchairBoarding': 'UNKNOWN'}, {'code': '307550', 'direction': 'E', 'id': 'MTA_307550', 'lat': 40.686738, 'locationType': 0, 'lon': -73.965107, 'name': 'GREENE AV/WASHINGTON AV', 'routeIds': ['MTA NYCT_B52'], 'wheelchairBoarding': 'UNKNOWN'}, {'code': '307551', 'direction': 'E', 'id': 'MTA_307551', 'lat': 40.687089, 'locationType': 0, 'lon': -73.962078, 'name': 'GREENE AV/GRAND AV', 'routeIds': ['MTA NYCT_B52'], 'wheelchairBoarding': 'UNKNOWN'}, {'code': '307552', 'direction': 'E', 'id': 'MTA_307552', 'lat': 40.687412, 'locationType': 0, 'lon': -73.95928, 'name': 'GREENE AV/CLASSON AV', 'routeIds': ['MTA NYCT_B52'], 'wheelchairBoarding': 'UNKNOWN'}, {'code': '307553', 'direction': 'S', 'id': 'MTA_307553', 'lat': 40.687399, 'locationType': 0, 'lon': -73.956963, 'name': 'FRANKLIN AV/GREENE AV', 'routeIds': ['MTA NYCT_B48', 'MTA NYCT_B52'], 'wheelchairBoarding': 'UNKNOWN'}, {'code': '307572', 'direction': 'W', 'id': 'MTA_307572', 'lat': 40.687391, 'locationType': 0, 'lon': -73.960122, 'name': 'GREENE AV/CLASSON AV', 'routeIds': ['MTA NYCT_B52'], 'wheelchairBoarding': 'UNKNOWN'}, {'code': '307573', 'direction': 'W', 'id': 'MTA_307573', 'lat': 40.687092, 'locationType': 0, 'lon': -73.962958, 'name': 'GREENE AV/GRAND AV', 'routeIds': ['MTA NYCT_B52'], 'wheelchairBoarding': 'UNKNOWN'}, {'code': '307575', 'direction': 'W', 'id': 'MTA_307575', 'lat': 40.686366, 'locationType': 0, 'lon': -73.968929, 'name': 'GREENE AV/VANDERBILT AV', 'routeIds': ['MTA NYCT_B52'], 'wheelchairBoarding': 'UNKNOWN'}, {'code': '307576', 'direction': 'W', 'id': 'MTA_307576', 'lat': 40.686129, 'locationType': 0, 'lon': -73.970882, 'name': 'GREENE AV/ADELPHI ST', 'routeIds': ['MTA NYCT_B52'], 'wheelchairBoarding': 'UNKNOWN'}, {'code': '307577', 'direction': 'W', 'id': 'MTA_307577', 'lat': 40.685925, 'locationType': 0, 'lon': -73.972816, 'name': 'GREENE AV/CUMBERLAND ST', 'routeIds': ['MTA NYCT_B52'], 'wheelchairBoarding': 'UNKNOWN'}, {'code': '307596', 'direction': 'W', 'id': 'MTA_307596', 'lat': 40.686704, 'locationType': 0, 'lon': -73.965978, 'name': 'GREENE AV/WASHINGTON AV', 'routeIds': ['MTA NYCT_B52'], 'wheelchairBoarding': 'UNKNOWN'}, {'code': '307674', 'direction': 'E', 'id': 'MTA_307674', 'lat': 40.685527, 'locationType': 0, 'lon': -73.956108, 'name': 'GATES AV/FRANKLIN AV', 'routeIds': ['MTA NYCT_B52'], 'wheelchairBoarding': 'UNKNOWN'}, {'code': '307675', 'direction': 'E', 'id': 'MTA_307675', 'lat': 40.685774, 'locationType': 0, 'lon': -73.953956, 'name': 'GATES AV/BEDFORD AV', 'routeIds': ['MTA NYCT_B52'], 'wheelchairBoarding': 'UNKNOWN'}, {'code': '307676', 'direction': 'E', 'id': 'MTA_307676', 'lat': 40.686129, 'locationType': 0, 'lon': -73.950865, 'name': 'GATES AV/NOSTRAND AV', 'routeIds': ['MTA NYCT_B52'], 'wheelchairBoarding': 'UNKNOWN'}, {'code': '307677', 'direction': 'E', 'id': 'MTA_307677', 'lat': 40.686569, 'locationType': 0, 'lon': -73.947043, 'name': 'GATES AV/MARCY AV', 'routeIds': ['MTA NYCT_B52'], 'wheelchairBoarding': 'UNKNOWN'}, {'code': '307678', 'direction': 'E', 'id': 'MTA_307678', 'lat': 40.686906, 'locationType': 0, 'lon': -73.944118, 'name': 'GATES AV/TOMPKINS AV', 'routeIds': ['MTA NYCT_B52'], 'wheelchairBoarding': 'UNKNOWN'}, {'code': '307679', 'direction': 'E', 'id': 'MTA_307679', 'lat': 40.687217, 'locationType': 0, 'lon': -73.941334, 'name': 'GATES AV/THROOP AV', 'routeIds': ['MTA NYCT_B52'], 'wheelchairBoarding': 'UNKNOWN'}, {'code': '307680', 'direction': 'E', 'id': 'MTA_307680', 'lat': 40.68754, 'locationType': 0, 'lon': -73.938532, 'name': 'GATES AV/MARCUS GARVEY BLVD', 'routeIds': ['MTA NYCT_B52'], 'wheelchairBoarding': 'UNKNOWN'}, {'code': '307681', 'direction': 'E', 'id': 'MTA_307681', 'lat': 40.687873, 'locationType': 0, 'lon': -73.935615, 'name': 'GATES AV/LEWIS AV', 'routeIds': ['MTA NYCT_B52'], 'wheelchairBoarding': 'UNKNOWN'}, {'code': '307682', 'direction': 'E', 'id': 'MTA_307682', 'lat': 40.688214, 'locationType': 0, 'lon': -73.932665, 'name': 'GATES AV/STUYVESANT AV', 'routeIds': ['MTA NYCT_B52'], 'wheelchairBoarding': 'UNKNOWN'}, {'code': '307683', 'direction': 'E', 'id': 'MTA_307683', 'lat': 40.688553, 'locationType': 0, 'lon': -73.92974, 'name': 'GATES AV/MALCOLM X BLVD', 'routeIds': ['MTA NYCT_B52'], 'wheelchairBoarding': 'UNKNOWN'}, {'code': '307684', 'direction': 'E', 'id': 'MTA_307684', 'lat': 40.688902, 'locationType': 0, 'lon': -73.926862, 'name': 'GATES AV/PATCHEN AV', 'routeIds': ['MTA NYCT_B52'], 'wheelchairBoarding': 'UNKNOWN'}, {'code': '307686', 'direction': 'E', 'id': 'MTA_307686', 'lat': 40.689438, 'locationType': 0, 'lon': -73.922215, 'name': 'GATES AV/BROADWAY', 'routeIds': ['MTA NYCT_B52'], 'wheelchairBoarding': 'UNKNOWN'}, {'code': '307687', 'direction': 'NE', 'id': 'MTA_307687', 'lat': 40.69113, 'locationType': 0, 'lon': -73.92038, 'name': 'GATES AV/BUSHWICK AV', 'routeIds': ['MTA NYCT_B52'], 'wheelchairBoarding': 'UNKNOWN'}, {'code': '307688', 'direction': 'NE', 'id': 'MTA_307688', 'lat': 40.692361, 'locationType': 0, 'lon': -73.919202, 'name': 'GATES AV/EVERGREEN AV', 'routeIds': ['MTA NYCT_B52'], 'wheelchairBoarding': 'UNKNOWN'}, {'code': '307689', 'direction': 'NE', 'id': 'MTA_307689', 'lat': 40.694104, 'locationType': 0, 'lon': -73.917491, 'name': 'GATES AV/CENTRAL AV', 'routeIds': ['MTA NYCT_B52'], 'wheelchairBoarding': 'UNKNOWN'}, {'code': '307690', 'direction': 'NE', 'id': 'MTA_307690', 'lat': 40.695572, 'locationType': 0, 'lon': -73.916057, 'name': 'GATES AV/WILSON AV', 'routeIds': ['MTA NYCT_B52'], 'wheelchairBoarding': 'UNKNOWN'}, {'code': '307691', 'direction': 'NE', 'id': 'MTA_307691', 'lat': 40.69704, 'locationType': 0, 'lon': -73.914567, 'name': 'GATES AV/KNICKERBOCKER AV', 'routeIds': ['MTA NYCT_B52'], 'wheelchairBoarding': 'UNKNOWN'}, {'code': '307901', 'direction': 'E', 'id': 'MTA_307901', 'lat': 40.689211, 'locationType': 0, 'lon': -73.924117, 'name': 'GATES AV/RALPH AV', 'routeIds': ['MTA NYCT_B52'], 'wheelchairBoarding': 'UNKNOWN'}, {'code': '307948', 'direction': 'W', 'id': 'MTA_307948', 'lat': 40.685282, 'locationType': 0, 'lon': -73.959148, 'name': 'GATES AV/CLASSON AV', 'routeIds': ['MTA NYCT_B52'], 'wheelchairBoarding': 'UNKNOWN'}, {'code': '308046', 'direction': 'W', 'id': 'MTA_308046', 'lat': 40.689479, 'locationType': 0, 'lon': -73.922704, 'name': 'GATES AV/BROADWAY', 'routeIds': ['MTA NYCT_B52'], 'wheelchairBoarding': 'UNKNOWN'}, {'code': '504119', 'direction': 'SW', 'id': 'MTA_504119', 'lat': 40.70005, 'locationType': 0, 'lon': -73.911769, 'name': 'GATES AV/WYCKOFF AV', 'routeIds': ['MTA NYCT_B13', 'MTA NYCT_B52'], 'wheelchairBoarding': 'UNKNOWN'}, {'code': '504965', 'direction': 'NE', 'id': 'MTA_504965', 'lat': 40.700421, 'locationType': 0, 'lon': -73.909993, 'name': 'PALMETTO ST/SAINT NICHOLAS AV', 'routeIds': ['MTA NYCT_B52'], 'wheelchairBoarding': 'UNKNOWN'}, {'code': '801117', 'direction': 'NE', 'id': 'MTA_801117', 'lat': 40.699297, 'locationType': 0, 'lon': -73.911223, 'name': 'PALMETTO ST/WYCKOFF AV', 'routeIds': ['MTA NYCT_B52'], 'wheelchairBoarding': 'UNKNOWN'}, {'code': '901463', 'direction': 'N', 'id': 'MTA_901463', 'lat': 40.695231, 'locationType': 0, 'lon': -73.990816, 'name': 'CADMAN PLAZA WEST/TILLARY ST', 'routeIds': ['MTA NYCT_B26', 'MTA NYCT_B52'], 'wheelchairBoarding': 'UNKNOWN'}], 'trips': []}}, 'text': 'OK', 'version': 2}\n"
     ]
    }
   ],
   "source": [
    "route_data = get_bus_route('B52')\n",
    "print(route_data)"
   ]
  },
  {
   "cell_type": "code",
   "execution_count": null,
   "id": "97ab8f23",
   "metadata": {},
   "outputs": [
    {
     "name": "stdout",
     "output_type": "stream",
     "text": [
      "B52\n",
      "None\n",
      "Error: 404\n",
      "None\n",
      "Q24\n",
      "None\n",
      "Error: 404\n",
      "None\n",
      "S66\n",
      "None\n",
      "Error: 404\n",
      "None\n",
      "Q27\n",
      "None\n",
      "Error: 404\n",
      "None\n",
      "Q26\n",
      "None\n",
      "Error: 404\n",
      "None\n",
      "Q28\n",
      "None\n",
      "Error: 404\n",
      "None\n",
      "B46+\n",
      "None\n",
      "Error: 404\n",
      "None\n",
      "S61\n",
      "None\n",
      "Error: 404\n",
      "None\n",
      "SIM15\n",
      "None\n",
      "Error: 404\n",
      "None\n",
      "S62\n",
      "None\n",
      "Error: 404\n",
      "None\n",
      "B101\n",
      "None\n",
      "Error: 404\n",
      "None\n",
      "B44\n",
      "None\n",
      "Error: 404\n",
      "None\n",
      "B43\n",
      "None\n",
      "Error: 404\n",
      "None\n",
      "SIM10\n",
      "None\n",
      "Error: 404\n",
      "None\n",
      "B46\n",
      "None\n",
      "Error: 404\n",
      "None\n",
      "SIM11\n",
      "None\n",
      "Error: 404\n",
      "None\n",
      "B45\n",
      "None\n",
      "Error: 404\n",
      "None\n",
      "B48\n",
      "None\n",
      "Error: 404\n",
      "None\n",
      "B47\n",
      "None\n",
      "Error: 404\n",
      "None\n",
      "SIM9\n",
      "None\n",
      "Error: 404\n",
      "None\n",
      "B49\n",
      "None\n",
      "Error: 404\n",
      "None\n",
      "SIM8\n",
      "None\n",
      "Error: 404\n",
      "None\n",
      "SIM7\n",
      "None\n",
      "Error: 404\n",
      "None\n",
      "SIM6\n",
      "None\n",
      "Error: 404\n",
      "None\n",
      "B60\n",
      "None\n",
      "Error: 404\n",
      "None\n",
      "SIM5\n",
      "None\n",
      "Error: 404\n",
      "None\n",
      "SIM4\n",
      "None\n",
      "Error: 404\n",
      "None\n",
      "B62\n",
      "None\n",
      "Error: 404\n",
      "None\n",
      "SIM1C\n",
      "None\n",
      "Error: 404\n",
      "None\n",
      "SIM3\n",
      "None\n",
      "Error: 404\n",
      "None\n",
      "B61\n",
      "None\n",
      "Error: 404\n",
      "None\n",
      "SIM2\n",
      "None\n",
      "Error: 404\n",
      "None\n",
      "B64\n",
      "None\n",
      "Error: 404\n",
      "None\n",
      "SIM1\n",
      "None\n",
      "Error: 404\n",
      "None\n",
      "B63\n",
      "None\n",
      "Error: 404\n",
      "None\n",
      "S76\n",
      "None\n",
      "Error: 404\n",
      "None\n",
      "Q36\n",
      "None\n",
      "Error: 404\n",
      "None\n",
      "S78\n",
      "None\n",
      "Error: 404\n",
      "None\n",
      "S79+\n",
      "None\n",
      "Error: 404\n",
      "None\n",
      "BX12+\n",
      "None\n",
      "Error: 404\n",
      "None\n",
      "Q30\n",
      "None\n",
      "Error: 404\n",
      "None\n",
      "SIM24\n",
      "None\n",
      "Error: 404\n",
      "None\n",
      "SIM25\n",
      "None\n",
      "Error: 404\n",
      "None\n",
      "Q32\n",
      "None\n",
      "Error: 404\n",
      "None\n",
      "S74\n",
      "None\n",
      "Error: 404\n",
      "None\n",
      "SIM26\n",
      "None\n",
      "Error: 404\n",
      "None\n",
      "Q31\n",
      "None\n",
      "Error: 404\n",
      "None\n",
      "B54\n",
      "None\n",
      "Error: 404\n",
      "None\n",
      "L91\n",
      "None\n",
      "Error: 404\n",
      "None\n",
      "B57\n",
      "None\n",
      "Error: 404\n",
      "None\n",
      "SIM22\n",
      "None\n",
      "Error: 404\n",
      "None\n",
      "L90\n",
      "None\n",
      "Error: 404\n",
      "None\n",
      "SIM23\n",
      "None\n",
      "Error: 404\n",
      "None\n",
      "L92\n",
      "None\n",
      "Error: 404\n",
      "None\n",
      "BX2\n",
      "None\n",
      "Error: 404\n",
      "None\n",
      "BX1\n",
      "None\n",
      "Error: 404\n",
      "None\n",
      "B70\n",
      "None\n",
      "Error: 404\n",
      "None\n",
      "BX4\n",
      "None\n",
      "Error: 404\n",
      "None\n",
      "X28\n",
      "None\n",
      "Error: 404\n",
      "None\n",
      "BX3\n",
      "None\n",
      "Error: 404\n",
      "None\n",
      "X27\n",
      "None\n",
      "Error: 404\n",
      "None\n",
      "BX6\n",
      "None\n",
      "Error: 404\n",
      "None\n",
      "BX5\n",
      "None\n",
      "Error: 404\n",
      "None\n",
      "B74\n",
      "None\n",
      "Error: 404\n",
      "None\n",
      "S86\n",
      "None\n",
      "Error: 404\n",
      "None\n",
      "S89\n",
      "None\n",
      "Error: 404\n",
      "None\n",
      "Q46\n",
      "None\n",
      "Error: 404\n",
      "None\n",
      "Q48\n",
      "None\n",
      "Error: 404\n",
      "None\n",
      "S81\n",
      "None\n",
      "Error: 404\n",
      "None\n",
      "M116\n",
      "None\n",
      "Error: 404\n",
      "None\n",
      "Q15A\n",
      "None\n",
      "Error: 404\n",
      "None\n",
      "Q43\n",
      "None\n",
      "Error: 404\n",
      "None\n",
      "Q42\n",
      "None\n",
      "Error: 404\n",
      "None\n",
      "S84\n",
      "None\n",
      "Error: 404\n",
      "None\n",
      "B65\n",
      "None\n",
      "Error: 404\n",
      "None\n",
      "B68\n",
      "None\n"
     ]
    },
    {
     "ename": "KeyboardInterrupt",
     "evalue": "",
     "output_type": "error",
     "traceback": [
      "\u001b[31m---------------------------------------------------------------------------\u001b[39m",
      "\u001b[31mKeyboardInterrupt\u001b[39m                         Traceback (most recent call last)",
      "\u001b[36mCell\u001b[39m\u001b[36m \u001b[39m\u001b[32mIn[53]\u001b[39m\u001b[32m, line 5\u001b[39m\n\u001b[32m      3\u001b[39m route_id = shorten_id(route)\n\u001b[32m      4\u001b[39m \u001b[38;5;28mprint\u001b[39m(route_id)\n\u001b[32m----> \u001b[39m\u001b[32m5\u001b[39m route_data = get_bus_route(route_id)\n\u001b[32m      6\u001b[39m \u001b[38;5;28mprint\u001b[39m(route_id)\n",
      "\u001b[36mCell\u001b[39m\u001b[36m \u001b[39m\u001b[32mIn[42]\u001b[39m\u001b[32m, line 4\u001b[39m, in \u001b[36mget_bus_route\u001b[39m\u001b[34m(route_id)\u001b[39m\n\u001b[32m      2\u001b[39m \u001b[38;5;28;01mdef\u001b[39;00m\u001b[38;5;250m \u001b[39m\u001b[34mget_bus_route\u001b[39m(route_id):\n\u001b[32m      3\u001b[39m     url = \u001b[33mf\u001b[39m\u001b[33m\"\u001b[39m\u001b[33mhttps://bustime.mta.info/api/where/stops-for-route/MTA%20NYCT_\u001b[39m\u001b[38;5;132;01m{\u001b[39;00mroute_id\u001b[38;5;132;01m}\u001b[39;00m\u001b[33m.json?key=\u001b[39m\u001b[38;5;132;01m{\u001b[39;00mMTA_API_KEY\u001b[38;5;132;01m}\u001b[39;00m\u001b[33m&includePolylines=false&version=2\u001b[39m\u001b[33m\"\u001b[39m\n\u001b[32m----> \u001b[39m\u001b[32m4\u001b[39m     response = requests.get(url)\n\u001b[32m      5\u001b[39m     \u001b[38;5;28;01mif\u001b[39;00m response.status_code == \u001b[32m200\u001b[39m:\n\u001b[32m      6\u001b[39m         \u001b[38;5;28;01mreturn\u001b[39;00m response.json()\n",
      "\u001b[36mFile \u001b[39m\u001b[32m~/miniforge3/envs/DSA/lib/python3.13/site-packages/requests/api.py:73\u001b[39m, in \u001b[36mget\u001b[39m\u001b[34m(url, params, **kwargs)\u001b[39m\n\u001b[32m     62\u001b[39m \u001b[38;5;28;01mdef\u001b[39;00m\u001b[38;5;250m \u001b[39m\u001b[34mget\u001b[39m(url, params=\u001b[38;5;28;01mNone\u001b[39;00m, **kwargs):\n\u001b[32m     63\u001b[39m \u001b[38;5;250m    \u001b[39m\u001b[33mr\u001b[39m\u001b[33;03m\"\"\"Sends a GET request.\u001b[39;00m\n\u001b[32m     64\u001b[39m \n\u001b[32m     65\u001b[39m \u001b[33;03m    :param url: URL for the new :class:`Request` object.\u001b[39;00m\n\u001b[32m   (...)\u001b[39m\u001b[32m     70\u001b[39m \u001b[33;03m    :rtype: requests.Response\u001b[39;00m\n\u001b[32m     71\u001b[39m \u001b[33;03m    \"\"\"\u001b[39;00m\n\u001b[32m---> \u001b[39m\u001b[32m73\u001b[39m     \u001b[38;5;28;01mreturn\u001b[39;00m request(\u001b[33m\"\u001b[39m\u001b[33mget\u001b[39m\u001b[33m\"\u001b[39m, url, params=params, **kwargs)\n",
      "\u001b[36mFile \u001b[39m\u001b[32m~/miniforge3/envs/DSA/lib/python3.13/site-packages/requests/api.py:59\u001b[39m, in \u001b[36mrequest\u001b[39m\u001b[34m(method, url, **kwargs)\u001b[39m\n\u001b[32m     55\u001b[39m \u001b[38;5;66;03m# By using the 'with' statement we are sure the session is closed, thus we\u001b[39;00m\n\u001b[32m     56\u001b[39m \u001b[38;5;66;03m# avoid leaving sockets open which can trigger a ResourceWarning in some\u001b[39;00m\n\u001b[32m     57\u001b[39m \u001b[38;5;66;03m# cases, and look like a memory leak in others.\u001b[39;00m\n\u001b[32m     58\u001b[39m \u001b[38;5;28;01mwith\u001b[39;00m sessions.Session() \u001b[38;5;28;01mas\u001b[39;00m session:\n\u001b[32m---> \u001b[39m\u001b[32m59\u001b[39m     \u001b[38;5;28;01mreturn\u001b[39;00m session.request(method=method, url=url, **kwargs)\n",
      "\u001b[36mFile \u001b[39m\u001b[32m~/miniforge3/envs/DSA/lib/python3.13/site-packages/requests/sessions.py:589\u001b[39m, in \u001b[36mSession.request\u001b[39m\u001b[34m(self, method, url, params, data, headers, cookies, files, auth, timeout, allow_redirects, proxies, hooks, stream, verify, cert, json)\u001b[39m\n\u001b[32m    584\u001b[39m send_kwargs = {\n\u001b[32m    585\u001b[39m     \u001b[33m\"\u001b[39m\u001b[33mtimeout\u001b[39m\u001b[33m\"\u001b[39m: timeout,\n\u001b[32m    586\u001b[39m     \u001b[33m\"\u001b[39m\u001b[33mallow_redirects\u001b[39m\u001b[33m\"\u001b[39m: allow_redirects,\n\u001b[32m    587\u001b[39m }\n\u001b[32m    588\u001b[39m send_kwargs.update(settings)\n\u001b[32m--> \u001b[39m\u001b[32m589\u001b[39m resp = \u001b[38;5;28mself\u001b[39m.send(prep, **send_kwargs)\n\u001b[32m    591\u001b[39m \u001b[38;5;28;01mreturn\u001b[39;00m resp\n",
      "\u001b[36mFile \u001b[39m\u001b[32m~/miniforge3/envs/DSA/lib/python3.13/site-packages/requests/sessions.py:703\u001b[39m, in \u001b[36mSession.send\u001b[39m\u001b[34m(self, request, **kwargs)\u001b[39m\n\u001b[32m    700\u001b[39m start = preferred_clock()\n\u001b[32m    702\u001b[39m \u001b[38;5;66;03m# Send the request\u001b[39;00m\n\u001b[32m--> \u001b[39m\u001b[32m703\u001b[39m r = adapter.send(request, **kwargs)\n\u001b[32m    705\u001b[39m \u001b[38;5;66;03m# Total elapsed time of the request (approximately)\u001b[39;00m\n\u001b[32m    706\u001b[39m elapsed = preferred_clock() - start\n",
      "\u001b[36mFile \u001b[39m\u001b[32m~/miniforge3/envs/DSA/lib/python3.13/site-packages/requests/adapters.py:667\u001b[39m, in \u001b[36mHTTPAdapter.send\u001b[39m\u001b[34m(self, request, stream, timeout, verify, cert, proxies)\u001b[39m\n\u001b[32m    664\u001b[39m     timeout = TimeoutSauce(connect=timeout, read=timeout)\n\u001b[32m    666\u001b[39m \u001b[38;5;28;01mtry\u001b[39;00m:\n\u001b[32m--> \u001b[39m\u001b[32m667\u001b[39m     resp = conn.urlopen(\n\u001b[32m    668\u001b[39m         method=request.method,\n\u001b[32m    669\u001b[39m         url=url,\n\u001b[32m    670\u001b[39m         body=request.body,\n\u001b[32m    671\u001b[39m         headers=request.headers,\n\u001b[32m    672\u001b[39m         redirect=\u001b[38;5;28;01mFalse\u001b[39;00m,\n\u001b[32m    673\u001b[39m         assert_same_host=\u001b[38;5;28;01mFalse\u001b[39;00m,\n\u001b[32m    674\u001b[39m         preload_content=\u001b[38;5;28;01mFalse\u001b[39;00m,\n\u001b[32m    675\u001b[39m         decode_content=\u001b[38;5;28;01mFalse\u001b[39;00m,\n\u001b[32m    676\u001b[39m         retries=\u001b[38;5;28mself\u001b[39m.max_retries,\n\u001b[32m    677\u001b[39m         timeout=timeout,\n\u001b[32m    678\u001b[39m         chunked=chunked,\n\u001b[32m    679\u001b[39m     )\n\u001b[32m    681\u001b[39m \u001b[38;5;28;01mexcept\u001b[39;00m (ProtocolError, \u001b[38;5;167;01mOSError\u001b[39;00m) \u001b[38;5;28;01mas\u001b[39;00m err:\n\u001b[32m    682\u001b[39m     \u001b[38;5;28;01mraise\u001b[39;00m \u001b[38;5;167;01mConnectionError\u001b[39;00m(err, request=request)\n",
      "\u001b[36mFile \u001b[39m\u001b[32m~/miniforge3/envs/DSA/lib/python3.13/site-packages/urllib3/connectionpool.py:787\u001b[39m, in \u001b[36mHTTPConnectionPool.urlopen\u001b[39m\u001b[34m(self, method, url, body, headers, retries, redirect, assert_same_host, timeout, pool_timeout, release_conn, chunked, body_pos, preload_content, decode_content, **response_kw)\u001b[39m\n\u001b[32m    784\u001b[39m response_conn = conn \u001b[38;5;28;01mif\u001b[39;00m \u001b[38;5;129;01mnot\u001b[39;00m release_conn \u001b[38;5;28;01melse\u001b[39;00m \u001b[38;5;28;01mNone\u001b[39;00m\n\u001b[32m    786\u001b[39m \u001b[38;5;66;03m# Make the request on the HTTPConnection object\u001b[39;00m\n\u001b[32m--> \u001b[39m\u001b[32m787\u001b[39m response = \u001b[38;5;28mself\u001b[39m._make_request(\n\u001b[32m    788\u001b[39m     conn,\n\u001b[32m    789\u001b[39m     method,\n\u001b[32m    790\u001b[39m     url,\n\u001b[32m    791\u001b[39m     timeout=timeout_obj,\n\u001b[32m    792\u001b[39m     body=body,\n\u001b[32m    793\u001b[39m     headers=headers,\n\u001b[32m    794\u001b[39m     chunked=chunked,\n\u001b[32m    795\u001b[39m     retries=retries,\n\u001b[32m    796\u001b[39m     response_conn=response_conn,\n\u001b[32m    797\u001b[39m     preload_content=preload_content,\n\u001b[32m    798\u001b[39m     decode_content=decode_content,\n\u001b[32m    799\u001b[39m     **response_kw,\n\u001b[32m    800\u001b[39m )\n\u001b[32m    802\u001b[39m \u001b[38;5;66;03m# Everything went great!\u001b[39;00m\n\u001b[32m    803\u001b[39m clean_exit = \u001b[38;5;28;01mTrue\u001b[39;00m\n",
      "\u001b[36mFile \u001b[39m\u001b[32m~/miniforge3/envs/DSA/lib/python3.13/site-packages/urllib3/connectionpool.py:534\u001b[39m, in \u001b[36mHTTPConnectionPool._make_request\u001b[39m\u001b[34m(self, conn, method, url, body, headers, retries, timeout, chunked, response_conn, preload_content, decode_content, enforce_content_length)\u001b[39m\n\u001b[32m    532\u001b[39m \u001b[38;5;66;03m# Receive the response from the server\u001b[39;00m\n\u001b[32m    533\u001b[39m \u001b[38;5;28;01mtry\u001b[39;00m:\n\u001b[32m--> \u001b[39m\u001b[32m534\u001b[39m     response = conn.getresponse()\n\u001b[32m    535\u001b[39m \u001b[38;5;28;01mexcept\u001b[39;00m (BaseSSLError, \u001b[38;5;167;01mOSError\u001b[39;00m) \u001b[38;5;28;01mas\u001b[39;00m e:\n\u001b[32m    536\u001b[39m     \u001b[38;5;28mself\u001b[39m._raise_timeout(err=e, url=url, timeout_value=read_timeout)\n",
      "\u001b[36mFile \u001b[39m\u001b[32m~/miniforge3/envs/DSA/lib/python3.13/site-packages/urllib3/connection.py:516\u001b[39m, in \u001b[36mHTTPConnection.getresponse\u001b[39m\u001b[34m(self)\u001b[39m\n\u001b[32m    513\u001b[39m _shutdown = \u001b[38;5;28mgetattr\u001b[39m(\u001b[38;5;28mself\u001b[39m.sock, \u001b[33m\"\u001b[39m\u001b[33mshutdown\u001b[39m\u001b[33m\"\u001b[39m, \u001b[38;5;28;01mNone\u001b[39;00m)\n\u001b[32m    515\u001b[39m \u001b[38;5;66;03m# Get the response from http.client.HTTPConnection\u001b[39;00m\n\u001b[32m--> \u001b[39m\u001b[32m516\u001b[39m httplib_response = \u001b[38;5;28msuper\u001b[39m().getresponse()\n\u001b[32m    518\u001b[39m \u001b[38;5;28;01mtry\u001b[39;00m:\n\u001b[32m    519\u001b[39m     assert_header_parsing(httplib_response.msg)\n",
      "\u001b[36mFile \u001b[39m\u001b[32m~/miniforge3/envs/DSA/lib/python3.13/http/client.py:1430\u001b[39m, in \u001b[36mHTTPConnection.getresponse\u001b[39m\u001b[34m(self)\u001b[39m\n\u001b[32m   1428\u001b[39m \u001b[38;5;28;01mtry\u001b[39;00m:\n\u001b[32m   1429\u001b[39m     \u001b[38;5;28;01mtry\u001b[39;00m:\n\u001b[32m-> \u001b[39m\u001b[32m1430\u001b[39m         response.begin()\n\u001b[32m   1431\u001b[39m     \u001b[38;5;28;01mexcept\u001b[39;00m \u001b[38;5;167;01mConnectionError\u001b[39;00m:\n\u001b[32m   1432\u001b[39m         \u001b[38;5;28mself\u001b[39m.close()\n",
      "\u001b[36mFile \u001b[39m\u001b[32m~/miniforge3/envs/DSA/lib/python3.13/http/client.py:331\u001b[39m, in \u001b[36mHTTPResponse.begin\u001b[39m\u001b[34m(self)\u001b[39m\n\u001b[32m    329\u001b[39m \u001b[38;5;66;03m# read until we get a non-100 response\u001b[39;00m\n\u001b[32m    330\u001b[39m \u001b[38;5;28;01mwhile\u001b[39;00m \u001b[38;5;28;01mTrue\u001b[39;00m:\n\u001b[32m--> \u001b[39m\u001b[32m331\u001b[39m     version, status, reason = \u001b[38;5;28mself\u001b[39m._read_status()\n\u001b[32m    332\u001b[39m     \u001b[38;5;28;01mif\u001b[39;00m status != CONTINUE:\n\u001b[32m    333\u001b[39m         \u001b[38;5;28;01mbreak\u001b[39;00m\n",
      "\u001b[36mFile \u001b[39m\u001b[32m~/miniforge3/envs/DSA/lib/python3.13/http/client.py:292\u001b[39m, in \u001b[36mHTTPResponse._read_status\u001b[39m\u001b[34m(self)\u001b[39m\n\u001b[32m    291\u001b[39m \u001b[38;5;28;01mdef\u001b[39;00m\u001b[38;5;250m \u001b[39m\u001b[34m_read_status\u001b[39m(\u001b[38;5;28mself\u001b[39m):\n\u001b[32m--> \u001b[39m\u001b[32m292\u001b[39m     line = \u001b[38;5;28mstr\u001b[39m(\u001b[38;5;28mself\u001b[39m.fp.readline(_MAXLINE + \u001b[32m1\u001b[39m), \u001b[33m\"\u001b[39m\u001b[33miso-8859-1\u001b[39m\u001b[33m\"\u001b[39m)\n\u001b[32m    293\u001b[39m     \u001b[38;5;28;01mif\u001b[39;00m \u001b[38;5;28mlen\u001b[39m(line) > _MAXLINE:\n\u001b[32m    294\u001b[39m         \u001b[38;5;28;01mraise\u001b[39;00m LineTooLong(\u001b[33m\"\u001b[39m\u001b[33mstatus line\u001b[39m\u001b[33m\"\u001b[39m)\n",
      "\u001b[36mFile \u001b[39m\u001b[32m~/miniforge3/envs/DSA/lib/python3.13/socket.py:719\u001b[39m, in \u001b[36mSocketIO.readinto\u001b[39m\u001b[34m(self, b)\u001b[39m\n\u001b[32m    717\u001b[39m     \u001b[38;5;28;01mraise\u001b[39;00m \u001b[38;5;167;01mOSError\u001b[39;00m(\u001b[33m\"\u001b[39m\u001b[33mcannot read from timed out object\u001b[39m\u001b[33m\"\u001b[39m)\n\u001b[32m    718\u001b[39m \u001b[38;5;28;01mtry\u001b[39;00m:\n\u001b[32m--> \u001b[39m\u001b[32m719\u001b[39m     \u001b[38;5;28;01mreturn\u001b[39;00m \u001b[38;5;28mself\u001b[39m._sock.recv_into(b)\n\u001b[32m    720\u001b[39m \u001b[38;5;28;01mexcept\u001b[39;00m timeout:\n\u001b[32m    721\u001b[39m     \u001b[38;5;28mself\u001b[39m._timeout_occurred = \u001b[38;5;28;01mTrue\u001b[39;00m\n",
      "\u001b[36mFile \u001b[39m\u001b[32m~/miniforge3/envs/DSA/lib/python3.13/ssl.py:1304\u001b[39m, in \u001b[36mSSLSocket.recv_into\u001b[39m\u001b[34m(self, buffer, nbytes, flags)\u001b[39m\n\u001b[32m   1300\u001b[39m     \u001b[38;5;28;01mif\u001b[39;00m flags != \u001b[32m0\u001b[39m:\n\u001b[32m   1301\u001b[39m         \u001b[38;5;28;01mraise\u001b[39;00m \u001b[38;5;167;01mValueError\u001b[39;00m(\n\u001b[32m   1302\u001b[39m           \u001b[33m\"\u001b[39m\u001b[33mnon-zero flags not allowed in calls to recv_into() on \u001b[39m\u001b[38;5;132;01m%s\u001b[39;00m\u001b[33m\"\u001b[39m %\n\u001b[32m   1303\u001b[39m           \u001b[38;5;28mself\u001b[39m.\u001b[34m__class__\u001b[39m)\n\u001b[32m-> \u001b[39m\u001b[32m1304\u001b[39m     \u001b[38;5;28;01mreturn\u001b[39;00m \u001b[38;5;28mself\u001b[39m.read(nbytes, buffer)\n\u001b[32m   1305\u001b[39m \u001b[38;5;28;01melse\u001b[39;00m:\n\u001b[32m   1306\u001b[39m     \u001b[38;5;28;01mreturn\u001b[39;00m \u001b[38;5;28msuper\u001b[39m().recv_into(buffer, nbytes, flags)\n",
      "\u001b[36mFile \u001b[39m\u001b[32m~/miniforge3/envs/DSA/lib/python3.13/ssl.py:1138\u001b[39m, in \u001b[36mSSLSocket.read\u001b[39m\u001b[34m(self, len, buffer)\u001b[39m\n\u001b[32m   1136\u001b[39m \u001b[38;5;28;01mtry\u001b[39;00m:\n\u001b[32m   1137\u001b[39m     \u001b[38;5;28;01mif\u001b[39;00m buffer \u001b[38;5;129;01mis\u001b[39;00m \u001b[38;5;129;01mnot\u001b[39;00m \u001b[38;5;28;01mNone\u001b[39;00m:\n\u001b[32m-> \u001b[39m\u001b[32m1138\u001b[39m         \u001b[38;5;28;01mreturn\u001b[39;00m \u001b[38;5;28mself\u001b[39m._sslobj.read(\u001b[38;5;28mlen\u001b[39m, buffer)\n\u001b[32m   1139\u001b[39m     \u001b[38;5;28;01melse\u001b[39;00m:\n\u001b[32m   1140\u001b[39m         \u001b[38;5;28;01mreturn\u001b[39;00m \u001b[38;5;28mself\u001b[39m._sslobj.read(\u001b[38;5;28mlen\u001b[39m)\n",
      "\u001b[31mKeyboardInterrupt\u001b[39m: "
     ]
    }
   ],
   "source": [
    "#getting a dict of all routes \n",
    "for route in all_routes[2:100]:\n",
    "    route_id = shorten_id(route)\n",
    "    print(route_id)\n",
    "    route_data = get_bus_route(route_id)\n",
    "    print(route_id)\n",
    "    "
   ]
  },
  {
   "cell_type": "code",
   "execution_count": null,
   "id": "8ca1593a",
   "metadata": {},
   "outputs": [],
   "source": []
  }
 ],
 "metadata": {
  "kernelspec": {
   "display_name": "DSA",
   "language": "python",
   "name": "python3"
  },
  "language_info": {
   "codemirror_mode": {
    "name": "ipython",
    "version": 3
   },
   "file_extension": ".py",
   "mimetype": "text/x-python",
   "name": "python",
   "nbconvert_exporter": "python",
   "pygments_lexer": "ipython3",
   "version": "3.13.2"
  }
 },
 "nbformat": 4,
 "nbformat_minor": 5
}
