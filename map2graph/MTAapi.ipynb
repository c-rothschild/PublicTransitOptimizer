{
 "cells": [
  {
   "cell_type": "code",
   "execution_count": 154,
   "id": "0257d24f",
   "metadata": {},
   "outputs": [],
   "source": [
    "import requests\n",
    "import json\n",
    "import os\n",
    "from dotenv import load_dotenv"
   ]
  },
  {
   "cell_type": "code",
   "execution_count": 155,
   "id": "06173724",
   "metadata": {},
   "outputs": [],
   "source": [
    "import asyncio\n",
    "import aiohttp\n",
    "    "
   ]
  },
  {
   "cell_type": "code",
   "execution_count": 156,
   "id": "f0a73c0e",
   "metadata": {},
   "outputs": [
    {
     "data": {
      "text/plain": [
       "True"
      ]
     },
     "execution_count": 156,
     "metadata": {},
     "output_type": "execute_result"
    }
   ],
   "source": [
    "load_dotenv()  # take environment variables"
   ]
  },
  {
   "cell_type": "code",
   "execution_count": 157,
   "id": "7e4d687d",
   "metadata": {},
   "outputs": [],
   "source": [
    "MTA_API_KEY = os.getenv(\"MTA_API_KEY\")"
   ]
  },
  {
   "cell_type": "code",
   "execution_count": 158,
   "id": "0ecb9d24",
   "metadata": {},
   "outputs": [],
   "source": [
    "# getting data given a route id\n",
    "async def get_bus_route(route_id):\n",
    "    url = f\"https://bustime.mta.info/api/where/stops-for-route/MTA%20NYCT_{route_id}.json?key={MTA_API_KEY}&includePolylines=false&version=2\"\n",
    "    async with aiohttp.ClientSession() as session:\n",
    "        async with session.get(url) as response:\n",
    "            response = await response.json()\n",
    "    if response['code'] == 200:\n",
    "        return response\n",
    "    else:\n",
    "        raise Exception(f\"Error: bus route {route_id} returned response code {response['code']}\")"
   ]
  },
  {
   "cell_type": "code",
   "execution_count": 159,
   "id": "110e9f12",
   "metadata": {},
   "outputs": [
    {
     "name": "stdout",
     "output_type": "stream",
     "text": [
      "{'code': 200, 'currentTime': 1746592783671, 'data': {'entry': {'polylines': [], 'routeId': 'MTA NYCT_B52', 'stopGroupings': [{'ordered': True, 'stopGroups': [{'id': '1', 'name': {'name': 'DOWNTOWN BKLYN TILLARY ST via GATES', 'names': ['DOWNTOWN BKLYN TILLARY ST via GATES'], 'type': 'destination'}, 'polylines': [], 'stopIds': ['MTA_504965', 'MTA_504119', 'MTA_304196', 'MTA_304197', 'MTA_304198', 'MTA_304199', 'MTA_304200', 'MTA_304201', 'MTA_308046', 'MTA_304203', 'MTA_304204', 'MTA_304205', 'MTA_304206', 'MTA_304207', 'MTA_306530', 'MTA_304209', 'MTA_304210', 'MTA_304211', 'MTA_304212', 'MTA_304213', 'MTA_304214', 'MTA_307948', 'MTA_307572', 'MTA_307573', 'MTA_307596', 'MTA_307575', 'MTA_307576', 'MTA_307577', 'MTA_302427', 'MTA_302428', 'MTA_302430', 'MTA_302431', 'MTA_307492', 'MTA_302433', 'MTA_302434', 'MTA_901463'], 'subGroups': []}, {'id': '0', 'name': {'name': 'RIDGEWOOD TERM via GATES', 'names': ['RIDGEWOOD TERM via GATES'], 'type': 'destination'}, 'polylines': [], 'stopIds': ['MTA_307175', 'MTA_307460', 'MTA_302945', 'MTA_307491', 'MTA_302947', 'MTA_303017', 'MTA_302368', 'MTA_302369', 'MTA_307547', 'MTA_307549', 'MTA_307550', 'MTA_307551', 'MTA_307552', 'MTA_307553', 'MTA_307674', 'MTA_307675', 'MTA_307676', 'MTA_307677', 'MTA_307678', 'MTA_307679', 'MTA_307680', 'MTA_307681', 'MTA_307682', 'MTA_307683', 'MTA_307684', 'MTA_307901', 'MTA_307686', 'MTA_307687', 'MTA_307688', 'MTA_307689', 'MTA_307690', 'MTA_307691', 'MTA_304415', 'MTA_801117'], 'subGroups': []}], 'type': 'direction'}], 'stopIds': ['MTA_302368', 'MTA_302369', 'MTA_302427', 'MTA_302428', 'MTA_302430', 'MTA_302431', 'MTA_302433', 'MTA_302434', 'MTA_302945', 'MTA_302947', 'MTA_303017', 'MTA_304196', 'MTA_304197', 'MTA_304198', 'MTA_304199', 'MTA_304200', 'MTA_304201', 'MTA_304203', 'MTA_304204', 'MTA_304205', 'MTA_304206', 'MTA_304207', 'MTA_304209', 'MTA_304210', 'MTA_304211', 'MTA_304212', 'MTA_304213', 'MTA_304214', 'MTA_304415', 'MTA_306530', 'MTA_307175', 'MTA_307460', 'MTA_307491', 'MTA_307492', 'MTA_307547', 'MTA_307549', 'MTA_307550', 'MTA_307551', 'MTA_307552', 'MTA_307553', 'MTA_307572', 'MTA_307573', 'MTA_307575', 'MTA_307576', 'MTA_307577', 'MTA_307596', 'MTA_307674', 'MTA_307675', 'MTA_307676', 'MTA_307677', 'MTA_307678', 'MTA_307679', 'MTA_307680', 'MTA_307681', 'MTA_307682', 'MTA_307683', 'MTA_307684', 'MTA_307686', 'MTA_307687', 'MTA_307688', 'MTA_307689', 'MTA_307690', 'MTA_307691', 'MTA_307901', 'MTA_307948', 'MTA_308046', 'MTA_504119', 'MTA_504965', 'MTA_801117', 'MTA_901463']}, 'references': {'agencies': [{'disclaimer': '', 'id': 'MTA NYCT', 'lang': 'en', 'name': 'MTA New York City Transit', 'phone': '718-330-1234', 'privateService': False, 'timezone': 'America/New_York', 'url': 'http://www.mta.info'}, {'disclaimer': '', 'id': 'MTABC', 'lang': 'EN', 'name': 'MTA Bus Company', 'phone': '', 'privateService': False, 'timezone': 'America/New_York', 'url': 'http://www.mta.info'}], 'routes': [{'agencyId': 'MTA NYCT', 'color': 'EE352E', 'description': 'via Gates Av / Greene Av / Atlantic Av', 'id': 'MTA NYCT_B52', 'longName': 'Downtown Brooklyn - Ridgewood', 'shortName': 'B52', 'textColor': 'FFFFFF', 'type': 3, 'url': ''}, {'agencyId': 'MTA NYCT', 'color': '6CBE45', 'description': 'via Fulton St', 'id': 'MTA NYCT_B25', 'longName': 'Dwntn Bklyn & DUMBO - Broadway Junction', 'shortName': 'B25', 'textColor': 'FFFFFF', 'type': 3, 'url': ''}, {'agencyId': 'MTA NYCT', 'color': '006CB7', 'description': 'via Halsey St / Fulton St', 'id': 'MTA NYCT_B26', 'longName': 'Downtown Brooklyn - Ridgewood', 'shortName': 'B26', 'textColor': 'FFFFFF', 'type': 3, 'url': ''}, {'agencyId': 'MTA NYCT', 'color': '00AEEF', 'description': 'via DeKalb & Lafayette Av', 'id': 'MTA NYCT_B38', 'longName': 'Ridgewood - Downtown Brooklyn', 'shortName': 'B38', 'textColor': 'FFFFFF', 'type': 3, 'url': ''}, {'agencyId': 'MTA NYCT', 'color': '006CB7', 'description': 'via Flatbush Av / Livingston St', 'id': 'MTA NYCT_B41', 'longName': 'Kings Plaza - Downtown Brooklyn', 'shortName': 'B41', 'textColor': 'FFFFFF', 'type': 3, 'url': ''}, {'agencyId': 'MTA NYCT', 'color': 'EE352E', 'description': 'via St Johns Place / Washington Av / Atlantic Av', 'id': 'MTA NYCT_B45', 'longName': 'Downtown Brooklyn - Crown Heights', 'shortName': 'B45', 'textColor': 'FFFFFF', 'type': 3, 'url': ''}, {'agencyId': 'MTABC', 'color': 'FAA61A', 'description': 'Via Ave M / Ave H / 3Rd & 4Th Ave', 'id': 'MTABC_B103', 'longName': 'Canarsie - Downtown Brooklyn Ltd', 'shortName': 'B103', 'textColor': 'FFFFFF', 'type': 3, 'url': 'https://new.mta.info/schedules/bus'}, {'agencyId': 'MTA NYCT', 'color': '6CBE45', 'description': 'via Lorimer St / Franklin & Classon Av', 'id': 'MTA NYCT_B48', 'longName': 'Lefferts Gardens - Greenpoint', 'shortName': 'B48', 'textColor': 'FFFFFF', 'type': 3, 'url': ''}, {'agencyId': 'MTA NYCT', 'color': 'FAA61A', 'description': 'via Crescent St / Jamaica Av / Wyckoff Av', 'id': 'MTA NYCT_B13', 'longName': 'Spring Creek - Wyckoff Hospital', 'shortName': 'B13', 'textColor': 'FFFFFF', 'type': 3, 'url': ''}], 'situations': [], 'stops': [{'code': '302368', 'direction': 'SE', 'id': 'MTA_302368', 'lat': 40.687146, 'locationType': 0, 'lon': -73.97669, 'name': 'FULTON ST/LAFAYETTE AV', 'routeIds': ['MTA NYCT_B25', 'MTA NYCT_B26', 'MTA NYCT_B52'], 'wheelchairBoarding': 'UNKNOWN'}, {'code': '302369', 'direction': 'E', 'id': 'MTA_302369', 'lat': 40.686059, 'locationType': 0, 'lon': -73.974034, 'name': 'FULTON ST/SOUTH PORTLAND AV', 'routeIds': ['MTA NYCT_B25', 'MTA NYCT_B26', 'MTA NYCT_B52'], 'wheelchairBoarding': 'UNKNOWN'}, {'code': '302427', 'direction': 'W', 'id': 'MTA_302427', 'lat': 40.686724, 'locationType': 0, 'lon': -73.975391, 'name': 'FULTON ST/SOUTH ELLIOT PL', 'routeIds': ['MTA NYCT_B25', 'MTA NYCT_B26', 'MTA NYCT_B52'], 'wheelchairBoarding': 'UNKNOWN'}, {'code': '302428', 'direction': 'W', 'id': 'MTA_302428', 'lat': 40.68738, 'locationType': 0, 'lon': -73.977028, 'name': 'FULTON ST/FORT GREENE PL', 'routeIds': ['MTA NYCT_B25', 'MTA NYCT_B26', 'MTA NYCT_B52'], 'wheelchairBoarding': 'UNKNOWN'}, {'code': '302430', 'direction': 'W', 'id': 'MTA_302430', 'lat': 40.688635, 'locationType': 0, 'lon': -73.980164, 'name': 'FULTON ST/HUDSON AV', 'routeIds': ['MTA NYCT_B25', 'MTA NYCT_B26', 'MTA NYCT_B52'], 'wheelchairBoarding': 'UNKNOWN'}, {'code': '302431', 'direction': 'W', 'id': 'MTA_302431', 'lat': 40.689671, 'locationType': 0, 'lon': -73.982815, 'name': 'FULTON ST/BOND ST', 'routeIds': ['MTA NYCT_B25', 'MTA NYCT_B26', 'MTA NYCT_B52'], 'wheelchairBoarding': 'UNKNOWN'}, {'code': '302433', 'direction': 'W', 'id': 'MTA_302433', 'lat': 40.691398, 'locationType': 0, 'lon': -73.987134, 'name': 'FULTON ST/JAY ST', 'routeIds': ['MTA NYCT_B25', 'MTA NYCT_B26', 'MTA NYCT_B38', 'MTA NYCT_B52'], 'wheelchairBoarding': 'UNKNOWN'}, {'code': '302434', 'direction': 'NE', 'id': 'MTA_302434', 'lat': 40.693437, 'locationType': 0, 'lon': -73.990476, 'name': 'COURT ST/MONTAGUE ST', 'routeIds': ['MTA NYCT_B26', 'MTA NYCT_B38', 'MTA NYCT_B41', 'MTA NYCT_B45', 'MTA NYCT_B52'], 'wheelchairBoarding': 'UNKNOWN'}, {'code': '302945', 'direction': 'E', 'id': 'MTA_302945', 'lat': 40.69148, 'locationType': 0, 'lon': -73.987534, 'name': 'FULTON ST/SMITH ST', 'routeIds': ['MTA NYCT_B25', 'MTA NYCT_B38', 'MTA NYCT_B52'], 'wheelchairBoarding': 'UNKNOWN'}, {'code': '302947', 'direction': 'SE', 'id': 'MTA_302947', 'lat': 40.689709, 'locationType': 0, 'lon': -73.983099, 'name': 'FULTON ST/BOND ST', 'routeIds': ['MTA NYCT_B25', 'MTA NYCT_B26', 'MTA NYCT_B38', 'MTA NYCT_B52'], 'wheelchairBoarding': 'UNKNOWN'}, {'code': '303017', 'direction': 'E', 'id': 'MTA_303017', 'lat': 40.688106, 'locationType': 0, 'lon': -73.979087, 'name': 'FULTON ST/ROCKWELL PL', 'routeIds': ['MTA NYCT_B52'], 'wheelchairBoarding': 'UNKNOWN'}, {'code': '304196', 'direction': 'SW', 'id': 'MTA_304196', 'lat': 40.698169, 'locationType': 0, 'lon': -73.9136, 'name': 'GATES AV/IRVING AV', 'routeIds': ['MTA NYCT_B52'], 'wheelchairBoarding': 'UNKNOWN'}, {'code': '304197', 'direction': 'SW', 'id': 'MTA_304197', 'lat': 40.696571, 'locationType': 0, 'lon': -73.915192, 'name': 'GATES AV/KNICKERBOCKER AV', 'routeIds': ['MTA NYCT_B52'], 'wheelchairBoarding': 'UNKNOWN'}, {'code': '304198', 'direction': 'SW', 'id': 'MTA_304198', 'lat': 40.695173, 'locationType': 0, 'lon': -73.916567, 'name': 'GATES AV/WILSON AV', 'routeIds': ['MTA NYCT_B52'], 'wheelchairBoarding': 'UNKNOWN'}, {'code': '304199', 'direction': 'SW', 'id': 'MTA_304199', 'lat': 40.693667, 'locationType': 0, 'lon': -73.918051, 'name': 'GATES AV/CENTRAL AV', 'routeIds': ['MTA NYCT_B52'], 'wheelchairBoarding': 'UNKNOWN'}, {'code': '304200', 'direction': 'SW', 'id': 'MTA_304200', 'lat': 40.69192, 'locationType': 0, 'lon': -73.919766, 'name': 'GATES AV/EVERGREEN AV', 'routeIds': ['MTA NYCT_B52'], 'wheelchairBoarding': 'UNKNOWN'}, {'code': '304201', 'direction': 'SW', 'id': 'MTA_304201', 'lat': 40.690696, 'locationType': 0, 'lon': -73.920979, 'name': 'GATES AV/BUSHWICK AV', 'routeIds': ['MTA NYCT_B52'], 'wheelchairBoarding': 'UNKNOWN'}, {'code': '304203', 'direction': 'W', 'id': 'MTA_304203', 'lat': 40.689263, 'locationType': 0, 'lon': -73.924414, 'name': 'GATES AV/RALPH AV', 'routeIds': ['MTA NYCT_B52'], 'wheelchairBoarding': 'UNKNOWN'}, {'code': '304204', 'direction': 'W', 'id': 'MTA_304204', 'lat': 40.688886, 'locationType': 0, 'lon': -73.92766, 'name': 'GATES AV/PATCHEN AV', 'routeIds': ['MTA NYCT_B52'], 'wheelchairBoarding': 'UNKNOWN'}, {'code': '304205', 'direction': 'W', 'id': 'MTA_304205', 'lat': 40.68853, 'locationType': 0, 'lon': -73.930617, 'name': 'GATES AV/MALCOLM X BLVD', 'routeIds': ['MTA NYCT_B52'], 'wheelchairBoarding': 'UNKNOWN'}, {'code': '304206', 'direction': 'W', 'id': 'MTA_304206', 'lat': 40.688206, 'locationType': 0, 'lon': -73.933536, 'name': 'GATES AV/STUYVESANT AV', 'routeIds': ['MTA NYCT_B52'], 'wheelchairBoarding': 'UNKNOWN'}, {'code': '304207', 'direction': 'W', 'id': 'MTA_304207', 'lat': 40.687934, 'locationType': 0, 'lon': -73.935916, 'name': 'GATES AV/LEWIS AV', 'routeIds': ['MTA NYCT_B52'], 'wheelchairBoarding': 'UNKNOWN'}, {'code': '304209', 'direction': 'W', 'id': 'MTA_304209', 'lat': 40.687251, 'locationType': 0, 'lon': -73.941654, 'name': 'GATES AV/THROOP AV', 'routeIds': ['MTA NYCT_B52'], 'wheelchairBoarding': 'UNKNOWN'}, {'code': '304210', 'direction': 'W', 'id': 'MTA_304210', 'lat': 40.686884, 'locationType': 0, 'lon': -73.945016, 'name': 'GATES AV/TOMPKINS AV', 'routeIds': ['MTA NYCT_B52'], 'wheelchairBoarding': 'UNKNOWN'}, {'code': '304211', 'direction': 'W', 'id': 'MTA_304211', 'lat': 40.686541, 'locationType': 0, 'lon': -73.94787, 'name': 'GATES AV/MARCY AV', 'routeIds': ['MTA NYCT_B52'], 'wheelchairBoarding': 'UNKNOWN'}, {'code': '304212', 'direction': 'W', 'id': 'MTA_304212', 'lat': 40.686164, 'locationType': 0, 'lon': -73.951161, 'name': 'GATES AV/NOSTRAND AV', 'routeIds': ['MTA NYCT_B52'], 'wheelchairBoarding': 'UNKNOWN'}, {'code': '304213', 'direction': 'W', 'id': 'MTA_304213', 'lat': 40.685761, 'locationType': 0, 'lon': -73.954837, 'name': 'GATES AV/BEDFORD AV', 'routeIds': ['MTA NYCT_B52'], 'wheelchairBoarding': 'UNKNOWN'}, {'code': '304214', 'direction': 'W', 'id': 'MTA_304214', 'lat': 40.685515, 'locationType': 0, 'lon': -73.956944, 'name': 'GATES AV/FRANKLIN AV', 'routeIds': ['MTA NYCT_B52'], 'wheelchairBoarding': 'UNKNOWN'}, {'code': '304415', 'direction': 'NE', 'id': 'MTA_304415', 'lat': 40.6982, 'locationType': 0, 'lon': -73.912261, 'name': 'PALMETTO ST/IRVING AV', 'routeIds': ['MTA NYCT_B52'], 'wheelchairBoarding': 'UNKNOWN'}, {'code': '306530', 'direction': 'W', 'id': 'MTA_306530', 'lat': 40.687516, 'locationType': 0, 'lon': -73.939383, 'name': 'GATES AV/MARCUS GARVEY BLVD', 'routeIds': ['MTA NYCT_B52'], 'wheelchairBoarding': 'UNKNOWN'}, {'code': '307175', 'direction': 'N', 'id': 'MTA_307175', 'lat': 40.695988, 'locationType': 0, 'lon': -73.991009, 'name': 'CADMAN PLAZA WEST/TILLARY ST', 'routeIds': ['MTA NYCT_B26', 'MTA NYCT_B52', 'MTABC_B103'], 'wheelchairBoarding': 'UNKNOWN'}, {'code': '307460', 'direction': 'S', 'id': 'MTA_307460', 'lat': 40.69256, 'locationType': 0, 'lon': -73.989131, 'name': 'ADAMS ST/BROOKLYN SUPREME COURT', 'routeIds': ['MTA NYCT_B25', 'MTA NYCT_B38', 'MTA NYCT_B41', 'MTA NYCT_B52'], 'wheelchairBoarding': 'UNKNOWN'}, {'code': '307491', 'direction': 'E', 'id': 'MTA_307491', 'lat': 40.69069, 'locationType': 0, 'lon': -73.985547, 'name': 'FULTON ST/HOYT ST', 'routeIds': ['MTA NYCT_B25', 'MTA NYCT_B26', 'MTA NYCT_B38', 'MTA NYCT_B52'], 'wheelchairBoarding': 'UNKNOWN'}, {'code': '307492', 'direction': 'NW', 'id': 'MTA_307492', 'lat': 40.690536, 'locationType': 0, 'lon': -73.984949, 'name': 'FULTON ST/DUFFIELD ST', 'routeIds': ['MTA NYCT_B25', 'MTA NYCT_B26', 'MTA NYCT_B38', 'MTA NYCT_B52'], 'wheelchairBoarding': 'UNKNOWN'}, {'code': '307547', 'direction': 'E', 'id': 'MTA_307547', 'lat': 40.685878, 'locationType': 0, 'lon': -73.97255, 'name': 'GREENE AV/FULTON ST', 'routeIds': ['MTA NYCT_B52'], 'wheelchairBoarding': 'UNKNOWN'}, {'code': '307549', 'direction': 'E', 'id': 'MTA_307549', 'lat': 40.686401, 'locationType': 0, 'lon': -73.968035, 'name': 'GREENE AV/VANDERBILT AV', 'routeIds': ['MTA NYCT_B52'], 'wheelchairBoarding': 'UNKNOWN'}, {'code': '307550', 'direction': 'E', 'id': 'MTA_307550', 'lat': 40.686738, 'locationType': 0, 'lon': -73.965107, 'name': 'GREENE AV/WASHINGTON AV', 'routeIds': ['MTA NYCT_B52'], 'wheelchairBoarding': 'UNKNOWN'}, {'code': '307551', 'direction': 'E', 'id': 'MTA_307551', 'lat': 40.687089, 'locationType': 0, 'lon': -73.962078, 'name': 'GREENE AV/GRAND AV', 'routeIds': ['MTA NYCT_B52'], 'wheelchairBoarding': 'UNKNOWN'}, {'code': '307552', 'direction': 'E', 'id': 'MTA_307552', 'lat': 40.687412, 'locationType': 0, 'lon': -73.95928, 'name': 'GREENE AV/CLASSON AV', 'routeIds': ['MTA NYCT_B52'], 'wheelchairBoarding': 'UNKNOWN'}, {'code': '307553', 'direction': 'S', 'id': 'MTA_307553', 'lat': 40.687399, 'locationType': 0, 'lon': -73.956963, 'name': 'FRANKLIN AV/GREENE AV', 'routeIds': ['MTA NYCT_B48', 'MTA NYCT_B52'], 'wheelchairBoarding': 'UNKNOWN'}, {'code': '307572', 'direction': 'W', 'id': 'MTA_307572', 'lat': 40.687391, 'locationType': 0, 'lon': -73.960122, 'name': 'GREENE AV/CLASSON AV', 'routeIds': ['MTA NYCT_B52'], 'wheelchairBoarding': 'UNKNOWN'}, {'code': '307573', 'direction': 'W', 'id': 'MTA_307573', 'lat': 40.687092, 'locationType': 0, 'lon': -73.962958, 'name': 'GREENE AV/GRAND AV', 'routeIds': ['MTA NYCT_B52'], 'wheelchairBoarding': 'UNKNOWN'}, {'code': '307575', 'direction': 'W', 'id': 'MTA_307575', 'lat': 40.686366, 'locationType': 0, 'lon': -73.968929, 'name': 'GREENE AV/VANDERBILT AV', 'routeIds': ['MTA NYCT_B52'], 'wheelchairBoarding': 'UNKNOWN'}, {'code': '307576', 'direction': 'W', 'id': 'MTA_307576', 'lat': 40.686129, 'locationType': 0, 'lon': -73.970882, 'name': 'GREENE AV/ADELPHI ST', 'routeIds': ['MTA NYCT_B52'], 'wheelchairBoarding': 'UNKNOWN'}, {'code': '307577', 'direction': 'W', 'id': 'MTA_307577', 'lat': 40.685925, 'locationType': 0, 'lon': -73.972816, 'name': 'GREENE AV/CUMBERLAND ST', 'routeIds': ['MTA NYCT_B52'], 'wheelchairBoarding': 'UNKNOWN'}, {'code': '307596', 'direction': 'W', 'id': 'MTA_307596', 'lat': 40.686704, 'locationType': 0, 'lon': -73.965978, 'name': 'GREENE AV/WASHINGTON AV', 'routeIds': ['MTA NYCT_B52'], 'wheelchairBoarding': 'UNKNOWN'}, {'code': '307674', 'direction': 'E', 'id': 'MTA_307674', 'lat': 40.685527, 'locationType': 0, 'lon': -73.956108, 'name': 'GATES AV/FRANKLIN AV', 'routeIds': ['MTA NYCT_B52'], 'wheelchairBoarding': 'UNKNOWN'}, {'code': '307675', 'direction': 'E', 'id': 'MTA_307675', 'lat': 40.685774, 'locationType': 0, 'lon': -73.953956, 'name': 'GATES AV/BEDFORD AV', 'routeIds': ['MTA NYCT_B52'], 'wheelchairBoarding': 'UNKNOWN'}, {'code': '307676', 'direction': 'E', 'id': 'MTA_307676', 'lat': 40.686129, 'locationType': 0, 'lon': -73.950865, 'name': 'GATES AV/NOSTRAND AV', 'routeIds': ['MTA NYCT_B52'], 'wheelchairBoarding': 'UNKNOWN'}, {'code': '307677', 'direction': 'E', 'id': 'MTA_307677', 'lat': 40.686569, 'locationType': 0, 'lon': -73.947043, 'name': 'GATES AV/MARCY AV', 'routeIds': ['MTA NYCT_B52'], 'wheelchairBoarding': 'UNKNOWN'}, {'code': '307678', 'direction': 'E', 'id': 'MTA_307678', 'lat': 40.686906, 'locationType': 0, 'lon': -73.944118, 'name': 'GATES AV/TOMPKINS AV', 'routeIds': ['MTA NYCT_B52'], 'wheelchairBoarding': 'UNKNOWN'}, {'code': '307679', 'direction': 'E', 'id': 'MTA_307679', 'lat': 40.687217, 'locationType': 0, 'lon': -73.941334, 'name': 'GATES AV/THROOP AV', 'routeIds': ['MTA NYCT_B52'], 'wheelchairBoarding': 'UNKNOWN'}, {'code': '307680', 'direction': 'E', 'id': 'MTA_307680', 'lat': 40.68754, 'locationType': 0, 'lon': -73.938532, 'name': 'GATES AV/MARCUS GARVEY BLVD', 'routeIds': ['MTA NYCT_B52'], 'wheelchairBoarding': 'UNKNOWN'}, {'code': '307681', 'direction': 'E', 'id': 'MTA_307681', 'lat': 40.687873, 'locationType': 0, 'lon': -73.935615, 'name': 'GATES AV/LEWIS AV', 'routeIds': ['MTA NYCT_B52'], 'wheelchairBoarding': 'UNKNOWN'}, {'code': '307682', 'direction': 'E', 'id': 'MTA_307682', 'lat': 40.688214, 'locationType': 0, 'lon': -73.932665, 'name': 'GATES AV/STUYVESANT AV', 'routeIds': ['MTA NYCT_B52'], 'wheelchairBoarding': 'UNKNOWN'}, {'code': '307683', 'direction': 'E', 'id': 'MTA_307683', 'lat': 40.688553, 'locationType': 0, 'lon': -73.92974, 'name': 'GATES AV/MALCOLM X BLVD', 'routeIds': ['MTA NYCT_B52'], 'wheelchairBoarding': 'UNKNOWN'}, {'code': '307684', 'direction': 'E', 'id': 'MTA_307684', 'lat': 40.688902, 'locationType': 0, 'lon': -73.926862, 'name': 'GATES AV/PATCHEN AV', 'routeIds': ['MTA NYCT_B52'], 'wheelchairBoarding': 'UNKNOWN'}, {'code': '307686', 'direction': 'E', 'id': 'MTA_307686', 'lat': 40.689438, 'locationType': 0, 'lon': -73.922215, 'name': 'GATES AV/BROADWAY', 'routeIds': ['MTA NYCT_B52'], 'wheelchairBoarding': 'UNKNOWN'}, {'code': '307687', 'direction': 'NE', 'id': 'MTA_307687', 'lat': 40.69113, 'locationType': 0, 'lon': -73.92038, 'name': 'GATES AV/BUSHWICK AV', 'routeIds': ['MTA NYCT_B52'], 'wheelchairBoarding': 'UNKNOWN'}, {'code': '307688', 'direction': 'NE', 'id': 'MTA_307688', 'lat': 40.692361, 'locationType': 0, 'lon': -73.919202, 'name': 'GATES AV/EVERGREEN AV', 'routeIds': ['MTA NYCT_B52'], 'wheelchairBoarding': 'UNKNOWN'}, {'code': '307689', 'direction': 'NE', 'id': 'MTA_307689', 'lat': 40.694104, 'locationType': 0, 'lon': -73.917491, 'name': 'GATES AV/CENTRAL AV', 'routeIds': ['MTA NYCT_B52'], 'wheelchairBoarding': 'UNKNOWN'}, {'code': '307690', 'direction': 'NE', 'id': 'MTA_307690', 'lat': 40.695572, 'locationType': 0, 'lon': -73.916057, 'name': 'GATES AV/WILSON AV', 'routeIds': ['MTA NYCT_B52'], 'wheelchairBoarding': 'UNKNOWN'}, {'code': '307691', 'direction': 'NE', 'id': 'MTA_307691', 'lat': 40.69704, 'locationType': 0, 'lon': -73.914567, 'name': 'GATES AV/KNICKERBOCKER AV', 'routeIds': ['MTA NYCT_B52'], 'wheelchairBoarding': 'UNKNOWN'}, {'code': '307901', 'direction': 'E', 'id': 'MTA_307901', 'lat': 40.689211, 'locationType': 0, 'lon': -73.924117, 'name': 'GATES AV/RALPH AV', 'routeIds': ['MTA NYCT_B52'], 'wheelchairBoarding': 'UNKNOWN'}, {'code': '307948', 'direction': 'W', 'id': 'MTA_307948', 'lat': 40.685282, 'locationType': 0, 'lon': -73.959148, 'name': 'GATES AV/CLASSON AV', 'routeIds': ['MTA NYCT_B52'], 'wheelchairBoarding': 'UNKNOWN'}, {'code': '308046', 'direction': 'W', 'id': 'MTA_308046', 'lat': 40.689479, 'locationType': 0, 'lon': -73.922704, 'name': 'GATES AV/BROADWAY', 'routeIds': ['MTA NYCT_B52'], 'wheelchairBoarding': 'UNKNOWN'}, {'code': '504119', 'direction': 'SW', 'id': 'MTA_504119', 'lat': 40.70005, 'locationType': 0, 'lon': -73.911769, 'name': 'GATES AV/WYCKOFF AV', 'routeIds': ['MTA NYCT_B13', 'MTA NYCT_B52'], 'wheelchairBoarding': 'UNKNOWN'}, {'code': '504965', 'direction': 'NE', 'id': 'MTA_504965', 'lat': 40.700421, 'locationType': 0, 'lon': -73.909993, 'name': 'PALMETTO ST/SAINT NICHOLAS AV', 'routeIds': ['MTA NYCT_B52'], 'wheelchairBoarding': 'UNKNOWN'}, {'code': '801117', 'direction': 'NE', 'id': 'MTA_801117', 'lat': 40.699297, 'locationType': 0, 'lon': -73.911223, 'name': 'PALMETTO ST/WYCKOFF AV', 'routeIds': ['MTA NYCT_B52'], 'wheelchairBoarding': 'UNKNOWN'}, {'code': '901463', 'direction': 'N', 'id': 'MTA_901463', 'lat': 40.695231, 'locationType': 0, 'lon': -73.990816, 'name': 'CADMAN PLAZA WEST/TILLARY ST', 'routeIds': ['MTA NYCT_B26', 'MTA NYCT_B52'], 'wheelchairBoarding': 'UNKNOWN'}], 'trips': []}}, 'text': 'OK', 'version': 2}\n"
     ]
    }
   ],
   "source": [
    "route_id = \"B52\" # Example route\n",
    "route_data = await get_bus_route(route_id)\n",
    "print(route_data)\n",
    "\n"
   ]
  },
  {
   "cell_type": "code",
   "execution_count": 172,
   "id": "02ae4517",
   "metadata": {},
   "outputs": [],
   "source": [
    "def get_stop_groups(route_data):\n",
    "    if not route_data['data']['entry']['stopGroupings'][0]['ordered']:\n",
    "        print(f\"{route_data['routeId']} not ordered\")\n",
    "        return {}\n",
    "    route_lists = {}\n",
    "    stopGroups = route_data['data']['entry']['stopGroupings'][0]['stopGroups']\n",
    "    \n",
    "    for group in stopGroups:\n",
    "\n",
    "        route_lists[group['name']['name']] = group['stopIds']\n",
    "    \n",
    "    return route_lists\n",
    "\n",
    "    "
   ]
  },
  {
   "cell_type": "code",
   "execution_count": 161,
   "id": "9b58c790",
   "metadata": {},
   "outputs": [],
   "source": [
    "test_route_lists = get_stop_groups(route_data)"
   ]
  },
  {
   "cell_type": "code",
   "execution_count": 162,
   "id": "c117dec0",
   "metadata": {},
   "outputs": [],
   "source": [
    "json_path='./graph_data/bus_info_dict.json'\n",
    "with open(json_path) as json_file:\n",
    "    bus_info = json.load(json_file)"
   ]
  },
  {
   "cell_type": "code",
   "execution_count": 163,
   "id": "81635f1b",
   "metadata": {},
   "outputs": [
    {
     "name": "stdout",
     "output_type": "stream",
     "text": [
      "{'name': 'Brooklyn Bridge Park /PIER 6', 'routes': ['B63'], 'direction': 'W', 'link': 'https://bustime.mta.info/m/index?q=901601', 'id': 'MTA_901601', 'latitude': 40.693078, 'longitude': -74.000877, 'osmid': 1567286111}\n"
     ]
    }
   ],
   "source": [
    "print(bus_info['MTA_901601'])"
   ]
  },
  {
   "cell_type": "code",
   "execution_count": 186,
   "id": "719031be",
   "metadata": {},
   "outputs": [],
   "source": [
    "json_path='./graph_data/all_routes.json'\n",
    "with open(json_path) as json_file:\n",
    "    all_routes = json.load(json_file)"
   ]
  },
  {
   "cell_type": "code",
   "execution_count": 187,
   "id": "270ee51f",
   "metadata": {},
   "outputs": [
    {
     "name": "stdout",
     "output_type": "stream",
     "text": [
      "267\n"
     ]
    }
   ],
   "source": [
    "print(len(all_routes))"
   ]
  },
  {
   "cell_type": "code",
   "execution_count": 188,
   "id": "2070506c",
   "metadata": {},
   "outputs": [],
   "source": [
    "def shorten_id(route):\n",
    "    shortened_id = route['id'].split('_')[1]\n",
    "    return shortened_id"
   ]
  },
  {
   "cell_type": "code",
   "execution_count": 189,
   "id": "e88f1033",
   "metadata": {},
   "outputs": [
    {
     "data": {
      "text/plain": [
       "'M34+'"
      ]
     },
     "execution_count": 189,
     "metadata": {},
     "output_type": "execute_result"
    }
   ],
   "source": [
    "shorten_id(all_routes[0])"
   ]
  },
  {
   "cell_type": "code",
   "execution_count": 190,
   "id": "06647f28",
   "metadata": {},
   "outputs": [
    {
     "name": "stdout",
     "output_type": "stream",
     "text": [
      "<coroutine object get_bus_route at 0x123cf4d40>\n"
     ]
    }
   ],
   "source": [
    "route_data = get_bus_route('B52')\n",
    "print(route_data)"
   ]
  },
  {
   "cell_type": "code",
   "execution_count": 191,
   "id": "e5cacc8c",
   "metadata": {},
   "outputs": [],
   "source": [
    "from tqdm import tqdm"
   ]
  },
  {
   "cell_type": "code",
   "execution_count": 192,
   "id": "97ab8f23",
   "metadata": {},
   "outputs": [
    {
     "name": "stderr",
     "output_type": "stream",
     "text": [
      "fetching routes:   0%|          | 0/267 [00:00<?, ?it/s]/var/folders/ly/ml1ytmcj1137w_s0w0f7j0g80000gn/T/ipykernel_6200/2375378829.py:8: RuntimeWarning: coroutine 'get_bus_route' was never awaited\n",
      "  route_data = await get_bus_route(route_id)\n",
      "RuntimeWarning: Enable tracemalloc to get the object allocation traceback\n",
      "fetching routes: 100%|██████████| 267/267 [01:53<00:00,  2.35it/s]"
     ]
    },
    {
     "name": "stdout",
     "output_type": "stream",
     "text": [
      "failed to fetch 12 routes: ['D90', 'B101', 'L90', 'B90', 'B94', 'B96', 'B98', 'Q90', 'BX92', 'Q107', 'Q108', 'M90']\n"
     ]
    },
    {
     "name": "stderr",
     "output_type": "stream",
     "text": [
      "\n"
     ]
    }
   ],
   "source": [
    "#getting a dict of all routes \n",
    "all_route_lists = {}\n",
    "fails = []\n",
    "for i in tqdm(range(len(all_routes)), desc=\"fetching routes\"):\n",
    "    route_id = shorten_id(all_routes[i])\n",
    "\n",
    "    try:\n",
    "        route_data = await get_bus_route(route_id)\n",
    "    except Exception as e:\n",
    "        fails.append(route_id)\n",
    "        continue\n",
    "\n",
    "    stop_groups = get_stop_groups(route_data)\n",
    "    all_route_lists.update(stop_groups)\n",
    "    \n",
    "print(f\"failed to fetch {len(fails)} routes: {fails}\")\n",
    "    "
   ]
  },
  {
   "cell_type": "code",
   "execution_count": null,
   "id": "2621afe0",
   "metadata": {},
   "outputs": [
    {
     "name": "stdout",
     "output_type": "stream",
     "text": [
      "446\n"
     ]
    }
   ],
   "source": [
    "print(len(all_route_lists))\n"
   ]
  },
  {
   "cell_type": "code",
   "execution_count": 196,
   "id": "41637d14",
   "metadata": {},
   "outputs": [],
   "source": [
    "filename = \"./graph_data/all_route_lists.json\"\n",
    "with open(filename, 'w') as file:\n",
    "    json.dump(all_route_lists, file, indent=4)"
   ]
  }
 ],
 "metadata": {
  "kernelspec": {
   "display_name": "DSA",
   "language": "python",
   "name": "python3"
  },
  "language_info": {
   "codemirror_mode": {
    "name": "ipython",
    "version": 3
   },
   "file_extension": ".py",
   "mimetype": "text/x-python",
   "name": "python",
   "nbconvert_exporter": "python",
   "pygments_lexer": "ipython3",
   "version": "3.13.2"
  }
 },
 "nbformat": 4,
 "nbformat_minor": 5
}
