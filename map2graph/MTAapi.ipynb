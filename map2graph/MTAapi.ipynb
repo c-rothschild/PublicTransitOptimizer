{
 "cells": [
  {
   "cell_type": "code",
   "execution_count": 73,
   "id": "0257d24f",
   "metadata": {},
   "outputs": [],
   "source": [
    "import requests\n",
    "import json\n",
    "import os\n",
    "from dotenv import load_dotenv\n",
    "import osmnx as ox"
   ]
  },
  {
   "cell_type": "code",
   "execution_count": 74,
   "id": "06173724",
   "metadata": {},
   "outputs": [],
   "source": [
    "import asyncio\n",
    "import aiohttp\n",
    "    "
   ]
  },
  {
   "cell_type": "code",
   "execution_count": 75,
   "id": "f0a73c0e",
   "metadata": {},
   "outputs": [
    {
     "data": {
      "text/plain": [
       "True"
      ]
     },
     "execution_count": 75,
     "metadata": {},
     "output_type": "execute_result"
    }
   ],
   "source": [
    "load_dotenv()  # take environment variables"
   ]
  },
  {
   "cell_type": "code",
   "execution_count": 76,
   "id": "7e4d687d",
   "metadata": {},
   "outputs": [],
   "source": [
    "MTA_API_KEY = os.getenv(\"MTA_API_KEY\")"
   ]
  },
  {
   "cell_type": "code",
   "execution_count": 77,
   "id": "0ecb9d24",
   "metadata": {},
   "outputs": [],
   "source": [
    "# getting data given a route id\n",
    "async def get_bus_route(route_id):\n",
    "    url = f\"https://bustime.mta.info/api/where/stops-for-route/MTA%20NYCT_{route_id}.json?key={MTA_API_KEY}&includePolylines=false&version=2\"\n",
    "    async with aiohttp.ClientSession() as session:\n",
    "        async with session.get(url) as response:\n",
    "            response = await response.json()\n",
    "    if response['code'] == 200:\n",
    "        return response\n",
    "    else:\n",
    "        raise Exception(f\"Error: bus route {route_id} returned response code {response['code']}\")"
   ]
  },
  {
   "cell_type": "code",
   "execution_count": 78,
   "id": "110e9f12",
   "metadata": {},
   "outputs": [
    {
     "name": "stdout",
     "output_type": "stream",
     "text": [
      "{'code': 200, 'currentTime': 1746670368732, 'data': {'entry': {'polylines': [], 'routeId': 'MTA NYCT_B52', 'stopGroupings': [{'ordered': True, 'stopGroups': [{'id': '1', 'name': {'name': 'DOWNTOWN BKLYN TILLARY ST via GATES', 'names': ['DOWNTOWN BKLYN TILLARY ST via GATES'], 'type': 'destination'}, 'polylines': [], 'stopIds': ['MTA_504965', 'MTA_504119', 'MTA_304196', 'MTA_304197', 'MTA_304198', 'MTA_304199', 'MTA_304200', 'MTA_304201', 'MTA_308046', 'MTA_304203', 'MTA_304204', 'MTA_304205', 'MTA_304206', 'MTA_304207', 'MTA_306530', 'MTA_304209', 'MTA_304210', 'MTA_304211', 'MTA_304212', 'MTA_304213', 'MTA_304214', 'MTA_307948', 'MTA_307572', 'MTA_307573', 'MTA_307596', 'MTA_307575', 'MTA_307576', 'MTA_307577', 'MTA_302427', 'MTA_302428', 'MTA_302430', 'MTA_302431', 'MTA_307492', 'MTA_302433', 'MTA_302434', 'MTA_901463'], 'subGroups': []}, {'id': '0', 'name': {'name': 'RIDGEWOOD TERM via GATES', 'names': ['RIDGEWOOD TERM via GATES'], 'type': 'destination'}, 'polylines': [], 'stopIds': ['MTA_307175', 'MTA_307460', 'MTA_302945', 'MTA_307491', 'MTA_302947', 'MTA_303017', 'MTA_302368', 'MTA_302369', 'MTA_307547', 'MTA_307549', 'MTA_307550', 'MTA_307551', 'MTA_307552', 'MTA_307553', 'MTA_307674', 'MTA_307675', 'MTA_307676', 'MTA_307677', 'MTA_307678', 'MTA_307679', 'MTA_307680', 'MTA_307681', 'MTA_307682', 'MTA_307683', 'MTA_307684', 'MTA_307901', 'MTA_307686', 'MTA_307687', 'MTA_307688', 'MTA_307689', 'MTA_307690', 'MTA_307691', 'MTA_304415', 'MTA_801117'], 'subGroups': []}], 'type': 'direction'}], 'stopIds': ['MTA_302368', 'MTA_302369', 'MTA_302427', 'MTA_302428', 'MTA_302430', 'MTA_302431', 'MTA_302433', 'MTA_302434', 'MTA_302945', 'MTA_302947', 'MTA_303017', 'MTA_304196', 'MTA_304197', 'MTA_304198', 'MTA_304199', 'MTA_304200', 'MTA_304201', 'MTA_304203', 'MTA_304204', 'MTA_304205', 'MTA_304206', 'MTA_304207', 'MTA_304209', 'MTA_304210', 'MTA_304211', 'MTA_304212', 'MTA_304213', 'MTA_304214', 'MTA_304415', 'MTA_306530', 'MTA_307175', 'MTA_307460', 'MTA_307491', 'MTA_307492', 'MTA_307547', 'MTA_307549', 'MTA_307550', 'MTA_307551', 'MTA_307552', 'MTA_307553', 'MTA_307572', 'MTA_307573', 'MTA_307575', 'MTA_307576', 'MTA_307577', 'MTA_307596', 'MTA_307674', 'MTA_307675', 'MTA_307676', 'MTA_307677', 'MTA_307678', 'MTA_307679', 'MTA_307680', 'MTA_307681', 'MTA_307682', 'MTA_307683', 'MTA_307684', 'MTA_307686', 'MTA_307687', 'MTA_307688', 'MTA_307689', 'MTA_307690', 'MTA_307691', 'MTA_307901', 'MTA_307948', 'MTA_308046', 'MTA_504119', 'MTA_504965', 'MTA_801117', 'MTA_901463']}, 'references': {'agencies': [{'disclaimer': '', 'id': 'MTA NYCT', 'lang': 'en', 'name': 'MTA New York City Transit', 'phone': '718-330-1234', 'privateService': False, 'timezone': 'America/New_York', 'url': 'http://www.mta.info'}, {'disclaimer': '', 'id': 'MTABC', 'lang': 'EN', 'name': 'MTA Bus Company', 'phone': '', 'privateService': False, 'timezone': 'America/New_York', 'url': 'http://www.mta.info'}], 'routes': [{'agencyId': 'MTA NYCT', 'color': 'EE352E', 'description': 'via Gates Av / Greene Av / Atlantic Av', 'id': 'MTA NYCT_B52', 'longName': 'Downtown Brooklyn - Ridgewood', 'shortName': 'B52', 'textColor': 'FFFFFF', 'type': 3, 'url': ''}, {'agencyId': 'MTA NYCT', 'color': '6CBE45', 'description': 'via Fulton St', 'id': 'MTA NYCT_B25', 'longName': 'Dwntn Bklyn & DUMBO - Broadway Junction', 'shortName': 'B25', 'textColor': 'FFFFFF', 'type': 3, 'url': ''}, {'agencyId': 'MTA NYCT', 'color': '006CB7', 'description': 'via Halsey St / Fulton St', 'id': 'MTA NYCT_B26', 'longName': 'Downtown Brooklyn - Ridgewood', 'shortName': 'B26', 'textColor': 'FFFFFF', 'type': 3, 'url': ''}, {'agencyId': 'MTA NYCT', 'color': '00AEEF', 'description': 'via DeKalb & Lafayette Av', 'id': 'MTA NYCT_B38', 'longName': 'Ridgewood - Downtown Brooklyn', 'shortName': 'B38', 'textColor': 'FFFFFF', 'type': 3, 'url': ''}, {'agencyId': 'MTA NYCT', 'color': '006CB7', 'description': 'via Flatbush Av / Livingston St', 'id': 'MTA NYCT_B41', 'longName': 'Kings Plaza - Downtown Brooklyn', 'shortName': 'B41', 'textColor': 'FFFFFF', 'type': 3, 'url': ''}, {'agencyId': 'MTA NYCT', 'color': 'EE352E', 'description': 'via St Johns Place / Washington Av / Atlantic Av', 'id': 'MTA NYCT_B45', 'longName': 'Downtown Brooklyn - Crown Heights', 'shortName': 'B45', 'textColor': 'FFFFFF', 'type': 3, 'url': ''}, {'agencyId': 'MTABC', 'color': 'FAA61A', 'description': 'Via Ave M / Ave H / 3Rd & 4Th Ave', 'id': 'MTABC_B103', 'longName': 'Canarsie - Downtown Brooklyn Ltd', 'shortName': 'B103', 'textColor': 'FFFFFF', 'type': 3, 'url': 'https://new.mta.info/schedules/bus'}, {'agencyId': 'MTA NYCT', 'color': '6CBE45', 'description': 'via Lorimer St / Franklin & Classon Av', 'id': 'MTA NYCT_B48', 'longName': 'Lefferts Gardens - Greenpoint', 'shortName': 'B48', 'textColor': 'FFFFFF', 'type': 3, 'url': ''}, {'agencyId': 'MTA NYCT', 'color': 'FAA61A', 'description': 'via Crescent St / Jamaica Av / Wyckoff Av', 'id': 'MTA NYCT_B13', 'longName': 'Spring Creek - Wyckoff Hospital', 'shortName': 'B13', 'textColor': 'FFFFFF', 'type': 3, 'url': ''}], 'situations': [], 'stops': [{'code': '302368', 'direction': 'SE', 'id': 'MTA_302368', 'lat': 40.687146, 'locationType': 0, 'lon': -73.97669, 'name': 'FULTON ST/LAFAYETTE AV', 'routeIds': ['MTA NYCT_B25', 'MTA NYCT_B26', 'MTA NYCT_B52'], 'wheelchairBoarding': 'UNKNOWN'}, {'code': '302369', 'direction': 'E', 'id': 'MTA_302369', 'lat': 40.686059, 'locationType': 0, 'lon': -73.974034, 'name': 'FULTON ST/SOUTH PORTLAND AV', 'routeIds': ['MTA NYCT_B25', 'MTA NYCT_B26', 'MTA NYCT_B52'], 'wheelchairBoarding': 'UNKNOWN'}, {'code': '302427', 'direction': 'W', 'id': 'MTA_302427', 'lat': 40.686724, 'locationType': 0, 'lon': -73.975391, 'name': 'FULTON ST/SOUTH ELLIOT PL', 'routeIds': ['MTA NYCT_B25', 'MTA NYCT_B26', 'MTA NYCT_B52'], 'wheelchairBoarding': 'UNKNOWN'}, {'code': '302428', 'direction': 'W', 'id': 'MTA_302428', 'lat': 40.68738, 'locationType': 0, 'lon': -73.977028, 'name': 'FULTON ST/FORT GREENE PL', 'routeIds': ['MTA NYCT_B25', 'MTA NYCT_B26', 'MTA NYCT_B52'], 'wheelchairBoarding': 'UNKNOWN'}, {'code': '302430', 'direction': 'W', 'id': 'MTA_302430', 'lat': 40.688635, 'locationType': 0, 'lon': -73.980164, 'name': 'FULTON ST/HUDSON AV', 'routeIds': ['MTA NYCT_B25', 'MTA NYCT_B26', 'MTA NYCT_B52'], 'wheelchairBoarding': 'UNKNOWN'}, {'code': '302431', 'direction': 'W', 'id': 'MTA_302431', 'lat': 40.689671, 'locationType': 0, 'lon': -73.982815, 'name': 'FULTON ST/BOND ST', 'routeIds': ['MTA NYCT_B25', 'MTA NYCT_B26', 'MTA NYCT_B52'], 'wheelchairBoarding': 'UNKNOWN'}, {'code': '302433', 'direction': 'W', 'id': 'MTA_302433', 'lat': 40.691398, 'locationType': 0, 'lon': -73.987134, 'name': 'FULTON ST/JAY ST', 'routeIds': ['MTA NYCT_B25', 'MTA NYCT_B26', 'MTA NYCT_B38', 'MTA NYCT_B52'], 'wheelchairBoarding': 'UNKNOWN'}, {'code': '302434', 'direction': 'NE', 'id': 'MTA_302434', 'lat': 40.693437, 'locationType': 0, 'lon': -73.990476, 'name': 'COURT ST/MONTAGUE ST', 'routeIds': ['MTA NYCT_B26', 'MTA NYCT_B38', 'MTA NYCT_B41', 'MTA NYCT_B45', 'MTA NYCT_B52'], 'wheelchairBoarding': 'UNKNOWN'}, {'code': '302945', 'direction': 'E', 'id': 'MTA_302945', 'lat': 40.69148, 'locationType': 0, 'lon': -73.987534, 'name': 'FULTON ST/SMITH ST', 'routeIds': ['MTA NYCT_B25', 'MTA NYCT_B38', 'MTA NYCT_B52'], 'wheelchairBoarding': 'UNKNOWN'}, {'code': '302947', 'direction': 'SE', 'id': 'MTA_302947', 'lat': 40.689709, 'locationType': 0, 'lon': -73.983099, 'name': 'FULTON ST/BOND ST', 'routeIds': ['MTA NYCT_B25', 'MTA NYCT_B26', 'MTA NYCT_B38', 'MTA NYCT_B52'], 'wheelchairBoarding': 'UNKNOWN'}, {'code': '303017', 'direction': 'E', 'id': 'MTA_303017', 'lat': 40.688106, 'locationType': 0, 'lon': -73.979087, 'name': 'FULTON ST/ROCKWELL PL', 'routeIds': ['MTA NYCT_B52'], 'wheelchairBoarding': 'UNKNOWN'}, {'code': '304196', 'direction': 'SW', 'id': 'MTA_304196', 'lat': 40.698169, 'locationType': 0, 'lon': -73.9136, 'name': 'GATES AV/IRVING AV', 'routeIds': ['MTA NYCT_B52'], 'wheelchairBoarding': 'UNKNOWN'}, {'code': '304197', 'direction': 'SW', 'id': 'MTA_304197', 'lat': 40.696571, 'locationType': 0, 'lon': -73.915192, 'name': 'GATES AV/KNICKERBOCKER AV', 'routeIds': ['MTA NYCT_B52'], 'wheelchairBoarding': 'UNKNOWN'}, {'code': '304198', 'direction': 'SW', 'id': 'MTA_304198', 'lat': 40.695173, 'locationType': 0, 'lon': -73.916567, 'name': 'GATES AV/WILSON AV', 'routeIds': ['MTA NYCT_B52'], 'wheelchairBoarding': 'UNKNOWN'}, {'code': '304199', 'direction': 'SW', 'id': 'MTA_304199', 'lat': 40.693667, 'locationType': 0, 'lon': -73.918051, 'name': 'GATES AV/CENTRAL AV', 'routeIds': ['MTA NYCT_B52'], 'wheelchairBoarding': 'UNKNOWN'}, {'code': '304200', 'direction': 'SW', 'id': 'MTA_304200', 'lat': 40.69192, 'locationType': 0, 'lon': -73.919766, 'name': 'GATES AV/EVERGREEN AV', 'routeIds': ['MTA NYCT_B52'], 'wheelchairBoarding': 'UNKNOWN'}, {'code': '304201', 'direction': 'SW', 'id': 'MTA_304201', 'lat': 40.690696, 'locationType': 0, 'lon': -73.920979, 'name': 'GATES AV/BUSHWICK AV', 'routeIds': ['MTA NYCT_B52'], 'wheelchairBoarding': 'UNKNOWN'}, {'code': '304203', 'direction': 'W', 'id': 'MTA_304203', 'lat': 40.689263, 'locationType': 0, 'lon': -73.924414, 'name': 'GATES AV/RALPH AV', 'routeIds': ['MTA NYCT_B52'], 'wheelchairBoarding': 'UNKNOWN'}, {'code': '304204', 'direction': 'W', 'id': 'MTA_304204', 'lat': 40.688886, 'locationType': 0, 'lon': -73.92766, 'name': 'GATES AV/PATCHEN AV', 'routeIds': ['MTA NYCT_B52'], 'wheelchairBoarding': 'UNKNOWN'}, {'code': '304205', 'direction': 'W', 'id': 'MTA_304205', 'lat': 40.68853, 'locationType': 0, 'lon': -73.930617, 'name': 'GATES AV/MALCOLM X BLVD', 'routeIds': ['MTA NYCT_B52'], 'wheelchairBoarding': 'UNKNOWN'}, {'code': '304206', 'direction': 'W', 'id': 'MTA_304206', 'lat': 40.688206, 'locationType': 0, 'lon': -73.933536, 'name': 'GATES AV/STUYVESANT AV', 'routeIds': ['MTA NYCT_B52'], 'wheelchairBoarding': 'UNKNOWN'}, {'code': '304207', 'direction': 'W', 'id': 'MTA_304207', 'lat': 40.687934, 'locationType': 0, 'lon': -73.935916, 'name': 'GATES AV/LEWIS AV', 'routeIds': ['MTA NYCT_B52'], 'wheelchairBoarding': 'UNKNOWN'}, {'code': '304209', 'direction': 'W', 'id': 'MTA_304209', 'lat': 40.687251, 'locationType': 0, 'lon': -73.941654, 'name': 'GATES AV/THROOP AV', 'routeIds': ['MTA NYCT_B52'], 'wheelchairBoarding': 'UNKNOWN'}, {'code': '304210', 'direction': 'W', 'id': 'MTA_304210', 'lat': 40.686884, 'locationType': 0, 'lon': -73.945016, 'name': 'GATES AV/TOMPKINS AV', 'routeIds': ['MTA NYCT_B52'], 'wheelchairBoarding': 'UNKNOWN'}, {'code': '304211', 'direction': 'W', 'id': 'MTA_304211', 'lat': 40.686541, 'locationType': 0, 'lon': -73.94787, 'name': 'GATES AV/MARCY AV', 'routeIds': ['MTA NYCT_B52'], 'wheelchairBoarding': 'UNKNOWN'}, {'code': '304212', 'direction': 'W', 'id': 'MTA_304212', 'lat': 40.686164, 'locationType': 0, 'lon': -73.951161, 'name': 'GATES AV/NOSTRAND AV', 'routeIds': ['MTA NYCT_B52'], 'wheelchairBoarding': 'UNKNOWN'}, {'code': '304213', 'direction': 'W', 'id': 'MTA_304213', 'lat': 40.685761, 'locationType': 0, 'lon': -73.954837, 'name': 'GATES AV/BEDFORD AV', 'routeIds': ['MTA NYCT_B52'], 'wheelchairBoarding': 'UNKNOWN'}, {'code': '304214', 'direction': 'W', 'id': 'MTA_304214', 'lat': 40.685515, 'locationType': 0, 'lon': -73.956944, 'name': 'GATES AV/FRANKLIN AV', 'routeIds': ['MTA NYCT_B52'], 'wheelchairBoarding': 'UNKNOWN'}, {'code': '304415', 'direction': 'NE', 'id': 'MTA_304415', 'lat': 40.6982, 'locationType': 0, 'lon': -73.912261, 'name': 'PALMETTO ST/IRVING AV', 'routeIds': ['MTA NYCT_B52'], 'wheelchairBoarding': 'UNKNOWN'}, {'code': '306530', 'direction': 'W', 'id': 'MTA_306530', 'lat': 40.687516, 'locationType': 0, 'lon': -73.939383, 'name': 'GATES AV/MARCUS GARVEY BLVD', 'routeIds': ['MTA NYCT_B52'], 'wheelchairBoarding': 'UNKNOWN'}, {'code': '307175', 'direction': 'N', 'id': 'MTA_307175', 'lat': 40.695988, 'locationType': 0, 'lon': -73.991009, 'name': 'CADMAN PLAZA WEST/TILLARY ST', 'routeIds': ['MTA NYCT_B26', 'MTA NYCT_B52', 'MTABC_B103'], 'wheelchairBoarding': 'UNKNOWN'}, {'code': '307460', 'direction': 'S', 'id': 'MTA_307460', 'lat': 40.69256, 'locationType': 0, 'lon': -73.989131, 'name': 'ADAMS ST/BROOKLYN SUPREME COURT', 'routeIds': ['MTA NYCT_B25', 'MTA NYCT_B38', 'MTA NYCT_B41', 'MTA NYCT_B52'], 'wheelchairBoarding': 'UNKNOWN'}, {'code': '307491', 'direction': 'E', 'id': 'MTA_307491', 'lat': 40.69069, 'locationType': 0, 'lon': -73.985547, 'name': 'FULTON ST/HOYT ST', 'routeIds': ['MTA NYCT_B25', 'MTA NYCT_B26', 'MTA NYCT_B38', 'MTA NYCT_B52'], 'wheelchairBoarding': 'UNKNOWN'}, {'code': '307492', 'direction': 'NW', 'id': 'MTA_307492', 'lat': 40.690536, 'locationType': 0, 'lon': -73.984949, 'name': 'FULTON ST/DUFFIELD ST', 'routeIds': ['MTA NYCT_B25', 'MTA NYCT_B26', 'MTA NYCT_B38', 'MTA NYCT_B52'], 'wheelchairBoarding': 'UNKNOWN'}, {'code': '307547', 'direction': 'E', 'id': 'MTA_307547', 'lat': 40.685878, 'locationType': 0, 'lon': -73.97255, 'name': 'GREENE AV/FULTON ST', 'routeIds': ['MTA NYCT_B52'], 'wheelchairBoarding': 'UNKNOWN'}, {'code': '307549', 'direction': 'E', 'id': 'MTA_307549', 'lat': 40.686401, 'locationType': 0, 'lon': -73.968035, 'name': 'GREENE AV/VANDERBILT AV', 'routeIds': ['MTA NYCT_B52'], 'wheelchairBoarding': 'UNKNOWN'}, {'code': '307550', 'direction': 'E', 'id': 'MTA_307550', 'lat': 40.686738, 'locationType': 0, 'lon': -73.965107, 'name': 'GREENE AV/WASHINGTON AV', 'routeIds': ['MTA NYCT_B52'], 'wheelchairBoarding': 'UNKNOWN'}, {'code': '307551', 'direction': 'E', 'id': 'MTA_307551', 'lat': 40.687089, 'locationType': 0, 'lon': -73.962078, 'name': 'GREENE AV/GRAND AV', 'routeIds': ['MTA NYCT_B52'], 'wheelchairBoarding': 'UNKNOWN'}, {'code': '307552', 'direction': 'E', 'id': 'MTA_307552', 'lat': 40.687412, 'locationType': 0, 'lon': -73.95928, 'name': 'GREENE AV/CLASSON AV', 'routeIds': ['MTA NYCT_B52'], 'wheelchairBoarding': 'UNKNOWN'}, {'code': '307553', 'direction': 'S', 'id': 'MTA_307553', 'lat': 40.687399, 'locationType': 0, 'lon': -73.956963, 'name': 'FRANKLIN AV/GREENE AV', 'routeIds': ['MTA NYCT_B48', 'MTA NYCT_B52'], 'wheelchairBoarding': 'UNKNOWN'}, {'code': '307572', 'direction': 'W', 'id': 'MTA_307572', 'lat': 40.687391, 'locationType': 0, 'lon': -73.960122, 'name': 'GREENE AV/CLASSON AV', 'routeIds': ['MTA NYCT_B52'], 'wheelchairBoarding': 'UNKNOWN'}, {'code': '307573', 'direction': 'W', 'id': 'MTA_307573', 'lat': 40.687092, 'locationType': 0, 'lon': -73.962958, 'name': 'GREENE AV/GRAND AV', 'routeIds': ['MTA NYCT_B52'], 'wheelchairBoarding': 'UNKNOWN'}, {'code': '307575', 'direction': 'W', 'id': 'MTA_307575', 'lat': 40.686366, 'locationType': 0, 'lon': -73.968929, 'name': 'GREENE AV/VANDERBILT AV', 'routeIds': ['MTA NYCT_B52'], 'wheelchairBoarding': 'UNKNOWN'}, {'code': '307576', 'direction': 'W', 'id': 'MTA_307576', 'lat': 40.686129, 'locationType': 0, 'lon': -73.970882, 'name': 'GREENE AV/ADELPHI ST', 'routeIds': ['MTA NYCT_B52'], 'wheelchairBoarding': 'UNKNOWN'}, {'code': '307577', 'direction': 'W', 'id': 'MTA_307577', 'lat': 40.685925, 'locationType': 0, 'lon': -73.972816, 'name': 'GREENE AV/CUMBERLAND ST', 'routeIds': ['MTA NYCT_B52'], 'wheelchairBoarding': 'UNKNOWN'}, {'code': '307596', 'direction': 'W', 'id': 'MTA_307596', 'lat': 40.686704, 'locationType': 0, 'lon': -73.965978, 'name': 'GREENE AV/WASHINGTON AV', 'routeIds': ['MTA NYCT_B52'], 'wheelchairBoarding': 'UNKNOWN'}, {'code': '307674', 'direction': 'E', 'id': 'MTA_307674', 'lat': 40.685527, 'locationType': 0, 'lon': -73.956108, 'name': 'GATES AV/FRANKLIN AV', 'routeIds': ['MTA NYCT_B52'], 'wheelchairBoarding': 'UNKNOWN'}, {'code': '307675', 'direction': 'E', 'id': 'MTA_307675', 'lat': 40.685774, 'locationType': 0, 'lon': -73.953956, 'name': 'GATES AV/BEDFORD AV', 'routeIds': ['MTA NYCT_B52'], 'wheelchairBoarding': 'UNKNOWN'}, {'code': '307676', 'direction': 'E', 'id': 'MTA_307676', 'lat': 40.686129, 'locationType': 0, 'lon': -73.950865, 'name': 'GATES AV/NOSTRAND AV', 'routeIds': ['MTA NYCT_B52'], 'wheelchairBoarding': 'UNKNOWN'}, {'code': '307677', 'direction': 'E', 'id': 'MTA_307677', 'lat': 40.686569, 'locationType': 0, 'lon': -73.947043, 'name': 'GATES AV/MARCY AV', 'routeIds': ['MTA NYCT_B52'], 'wheelchairBoarding': 'UNKNOWN'}, {'code': '307678', 'direction': 'E', 'id': 'MTA_307678', 'lat': 40.686906, 'locationType': 0, 'lon': -73.944118, 'name': 'GATES AV/TOMPKINS AV', 'routeIds': ['MTA NYCT_B52'], 'wheelchairBoarding': 'UNKNOWN'}, {'code': '307679', 'direction': 'E', 'id': 'MTA_307679', 'lat': 40.687217, 'locationType': 0, 'lon': -73.941334, 'name': 'GATES AV/THROOP AV', 'routeIds': ['MTA NYCT_B52'], 'wheelchairBoarding': 'UNKNOWN'}, {'code': '307680', 'direction': 'E', 'id': 'MTA_307680', 'lat': 40.68754, 'locationType': 0, 'lon': -73.938532, 'name': 'GATES AV/MARCUS GARVEY BLVD', 'routeIds': ['MTA NYCT_B52'], 'wheelchairBoarding': 'UNKNOWN'}, {'code': '307681', 'direction': 'E', 'id': 'MTA_307681', 'lat': 40.687873, 'locationType': 0, 'lon': -73.935615, 'name': 'GATES AV/LEWIS AV', 'routeIds': ['MTA NYCT_B52'], 'wheelchairBoarding': 'UNKNOWN'}, {'code': '307682', 'direction': 'E', 'id': 'MTA_307682', 'lat': 40.688214, 'locationType': 0, 'lon': -73.932665, 'name': 'GATES AV/STUYVESANT AV', 'routeIds': ['MTA NYCT_B52'], 'wheelchairBoarding': 'UNKNOWN'}, {'code': '307683', 'direction': 'E', 'id': 'MTA_307683', 'lat': 40.688553, 'locationType': 0, 'lon': -73.92974, 'name': 'GATES AV/MALCOLM X BLVD', 'routeIds': ['MTA NYCT_B52'], 'wheelchairBoarding': 'UNKNOWN'}, {'code': '307684', 'direction': 'E', 'id': 'MTA_307684', 'lat': 40.688902, 'locationType': 0, 'lon': -73.926862, 'name': 'GATES AV/PATCHEN AV', 'routeIds': ['MTA NYCT_B52'], 'wheelchairBoarding': 'UNKNOWN'}, {'code': '307686', 'direction': 'E', 'id': 'MTA_307686', 'lat': 40.689438, 'locationType': 0, 'lon': -73.922215, 'name': 'GATES AV/BROADWAY', 'routeIds': ['MTA NYCT_B52'], 'wheelchairBoarding': 'UNKNOWN'}, {'code': '307687', 'direction': 'NE', 'id': 'MTA_307687', 'lat': 40.69113, 'locationType': 0, 'lon': -73.92038, 'name': 'GATES AV/BUSHWICK AV', 'routeIds': ['MTA NYCT_B52'], 'wheelchairBoarding': 'UNKNOWN'}, {'code': '307688', 'direction': 'NE', 'id': 'MTA_307688', 'lat': 40.692361, 'locationType': 0, 'lon': -73.919202, 'name': 'GATES AV/EVERGREEN AV', 'routeIds': ['MTA NYCT_B52'], 'wheelchairBoarding': 'UNKNOWN'}, {'code': '307689', 'direction': 'NE', 'id': 'MTA_307689', 'lat': 40.694104, 'locationType': 0, 'lon': -73.917491, 'name': 'GATES AV/CENTRAL AV', 'routeIds': ['MTA NYCT_B52'], 'wheelchairBoarding': 'UNKNOWN'}, {'code': '307690', 'direction': 'NE', 'id': 'MTA_307690', 'lat': 40.695572, 'locationType': 0, 'lon': -73.916057, 'name': 'GATES AV/WILSON AV', 'routeIds': ['MTA NYCT_B52'], 'wheelchairBoarding': 'UNKNOWN'}, {'code': '307691', 'direction': 'NE', 'id': 'MTA_307691', 'lat': 40.69704, 'locationType': 0, 'lon': -73.914567, 'name': 'GATES AV/KNICKERBOCKER AV', 'routeIds': ['MTA NYCT_B52'], 'wheelchairBoarding': 'UNKNOWN'}, {'code': '307901', 'direction': 'E', 'id': 'MTA_307901', 'lat': 40.689211, 'locationType': 0, 'lon': -73.924117, 'name': 'GATES AV/RALPH AV', 'routeIds': ['MTA NYCT_B52'], 'wheelchairBoarding': 'UNKNOWN'}, {'code': '307948', 'direction': 'W', 'id': 'MTA_307948', 'lat': 40.685282, 'locationType': 0, 'lon': -73.959148, 'name': 'GATES AV/CLASSON AV', 'routeIds': ['MTA NYCT_B52'], 'wheelchairBoarding': 'UNKNOWN'}, {'code': '308046', 'direction': 'W', 'id': 'MTA_308046', 'lat': 40.689479, 'locationType': 0, 'lon': -73.922704, 'name': 'GATES AV/BROADWAY', 'routeIds': ['MTA NYCT_B52'], 'wheelchairBoarding': 'UNKNOWN'}, {'code': '504119', 'direction': 'SW', 'id': 'MTA_504119', 'lat': 40.70005, 'locationType': 0, 'lon': -73.911769, 'name': 'GATES AV/WYCKOFF AV', 'routeIds': ['MTA NYCT_B13', 'MTA NYCT_B52'], 'wheelchairBoarding': 'UNKNOWN'}, {'code': '504965', 'direction': 'NE', 'id': 'MTA_504965', 'lat': 40.700421, 'locationType': 0, 'lon': -73.909993, 'name': 'PALMETTO ST/SAINT NICHOLAS AV', 'routeIds': ['MTA NYCT_B52'], 'wheelchairBoarding': 'UNKNOWN'}, {'code': '801117', 'direction': 'NE', 'id': 'MTA_801117', 'lat': 40.699297, 'locationType': 0, 'lon': -73.911223, 'name': 'PALMETTO ST/WYCKOFF AV', 'routeIds': ['MTA NYCT_B52'], 'wheelchairBoarding': 'UNKNOWN'}, {'code': '901463', 'direction': 'N', 'id': 'MTA_901463', 'lat': 40.695231, 'locationType': 0, 'lon': -73.990816, 'name': 'CADMAN PLAZA WEST/TILLARY ST', 'routeIds': ['MTA NYCT_B26', 'MTA NYCT_B52'], 'wheelchairBoarding': 'UNKNOWN'}], 'trips': []}}, 'text': 'OK', 'version': 2}\n"
     ]
    }
   ],
   "source": [
    "route_id = \"B52\" # Example route\n",
    "route_data = await get_bus_route(route_id)\n",
    "print(route_data)\n",
    "\n"
   ]
  },
  {
   "cell_type": "code",
   "execution_count": 79,
   "id": "02ae4517",
   "metadata": {},
   "outputs": [],
   "source": [
    "def get_stop_groups(route_data):\n",
    "    if not route_data['data']['entry']['stopGroupings'][0]['ordered']:\n",
    "        print(f\"{route_data['routeId']} not ordered\")\n",
    "        return {}\n",
    "    route_lists = {}\n",
    "    stopGroups = route_data['data']['entry']['stopGroupings'][0]['stopGroups']\n",
    "    \n",
    "    for group in stopGroups:\n",
    "\n",
    "        route_lists[group['name']['name']] = group['stopIds']\n",
    "    \n",
    "    return route_lists\n",
    "\n",
    "    "
   ]
  },
  {
   "cell_type": "code",
   "execution_count": 80,
   "id": "9b58c790",
   "metadata": {},
   "outputs": [],
   "source": [
    "test_route_lists = get_stop_groups(route_data)"
   ]
  },
  {
   "cell_type": "code",
   "execution_count": 93,
   "id": "c117dec0",
   "metadata": {},
   "outputs": [],
   "source": [
    "json_path='./graph_data/bus_info_dict.json'\n",
    "with open(json_path) as json_file:\n",
    "    bus_info = json.load(json_file)"
   ]
  },
  {
   "cell_type": "code",
   "execution_count": 82,
   "id": "81635f1b",
   "metadata": {},
   "outputs": [
    {
     "name": "stdout",
     "output_type": "stream",
     "text": [
      "{'name': 'Brooklyn Bridge Park /PIER 6', 'routes': ['B63'], 'direction': 'W', 'link': 'https://bustime.mta.info/m/index?q=901601', 'id': 'MTA_901601', 'latitude': 40.693078, 'longitude': -74.000877, 'osmid': 1567286111}\n"
     ]
    }
   ],
   "source": [
    "print(bus_info['MTA_901601'])"
   ]
  },
  {
   "cell_type": "code",
   "execution_count": 83,
   "id": "719031be",
   "metadata": {},
   "outputs": [
    {
     "ename": "FileNotFoundError",
     "evalue": "[Errno 2] No such file or directory: './graph_data/all_routes.json'",
     "output_type": "error",
     "traceback": [
      "\u001b[31m---------------------------------------------------------------------------\u001b[39m",
      "\u001b[31mFileNotFoundError\u001b[39m                         Traceback (most recent call last)",
      "\u001b[36mCell\u001b[39m\u001b[36m \u001b[39m\u001b[32mIn[83]\u001b[39m\u001b[32m, line 2\u001b[39m\n\u001b[32m      1\u001b[39m json_path=\u001b[33m'\u001b[39m\u001b[33m./graph_data/all_routes.json\u001b[39m\u001b[33m'\u001b[39m\n\u001b[32m----> \u001b[39m\u001b[32m2\u001b[39m \u001b[38;5;28;01mwith\u001b[39;00m \u001b[38;5;28mopen\u001b[39m(json_path) \u001b[38;5;28;01mas\u001b[39;00m json_file:\n\u001b[32m      3\u001b[39m     all_routes = json.load(json_file)\n",
      "\u001b[36mFile \u001b[39m\u001b[32m~/miniforge3/envs/DSA/lib/python3.13/site-packages/IPython/core/interactiveshell.py:326\u001b[39m, in \u001b[36m_modified_open\u001b[39m\u001b[34m(file, *args, **kwargs)\u001b[39m\n\u001b[32m    319\u001b[39m \u001b[38;5;28;01mif\u001b[39;00m file \u001b[38;5;129;01min\u001b[39;00m {\u001b[32m0\u001b[39m, \u001b[32m1\u001b[39m, \u001b[32m2\u001b[39m}:\n\u001b[32m    320\u001b[39m     \u001b[38;5;28;01mraise\u001b[39;00m \u001b[38;5;167;01mValueError\u001b[39;00m(\n\u001b[32m    321\u001b[39m         \u001b[33mf\u001b[39m\u001b[33m\"\u001b[39m\u001b[33mIPython won\u001b[39m\u001b[33m'\u001b[39m\u001b[33mt let you open fd=\u001b[39m\u001b[38;5;132;01m{\u001b[39;00mfile\u001b[38;5;132;01m}\u001b[39;00m\u001b[33m by default \u001b[39m\u001b[33m\"\u001b[39m\n\u001b[32m    322\u001b[39m         \u001b[33m\"\u001b[39m\u001b[33mas it is likely to crash IPython. If you know what you are doing, \u001b[39m\u001b[33m\"\u001b[39m\n\u001b[32m    323\u001b[39m         \u001b[33m\"\u001b[39m\u001b[33myou can use builtins\u001b[39m\u001b[33m'\u001b[39m\u001b[33m open.\u001b[39m\u001b[33m\"\u001b[39m\n\u001b[32m    324\u001b[39m     )\n\u001b[32m--> \u001b[39m\u001b[32m326\u001b[39m \u001b[38;5;28;01mreturn\u001b[39;00m io_open(file, *args, **kwargs)\n",
      "\u001b[31mFileNotFoundError\u001b[39m: [Errno 2] No such file or directory: './graph_data/all_routes.json'"
     ]
    }
   ],
   "source": [
    "json_path='./graph_data/all_routes.json'\n",
    "with open(json_path) as json_file:\n",
    "    all_routes = json.load(json_file)"
   ]
  },
  {
   "cell_type": "code",
   "execution_count": null,
   "id": "270ee51f",
   "metadata": {},
   "outputs": [
    {
     "name": "stdout",
     "output_type": "stream",
     "text": [
      "267\n"
     ]
    }
   ],
   "source": [
    "print(len(all_routes))"
   ]
  },
  {
   "cell_type": "code",
   "execution_count": null,
   "id": "2070506c",
   "metadata": {},
   "outputs": [],
   "source": [
    "def shorten_id(route):\n",
    "    shortened_id = route['id'].split('_')[1]\n",
    "    return shortened_id"
   ]
  },
  {
   "cell_type": "code",
   "execution_count": null,
   "id": "e88f1033",
   "metadata": {},
   "outputs": [
    {
     "data": {
      "text/plain": [
       "'M34+'"
      ]
     },
     "execution_count": 189,
     "metadata": {},
     "output_type": "execute_result"
    }
   ],
   "source": [
    "shorten_id(all_routes[0])"
   ]
  },
  {
   "cell_type": "code",
   "execution_count": null,
   "id": "06647f28",
   "metadata": {},
   "outputs": [
    {
     "name": "stdout",
     "output_type": "stream",
     "text": [
      "<coroutine object get_bus_route at 0x123cf4d40>\n"
     ]
    }
   ],
   "source": [
    "route_data = get_bus_route('B52')\n",
    "print(route_data)"
   ]
  },
  {
   "cell_type": "code",
   "execution_count": null,
   "id": "e5cacc8c",
   "metadata": {},
   "outputs": [],
   "source": [
    "from tqdm import tqdm"
   ]
  },
  {
   "cell_type": "code",
   "execution_count": null,
   "id": "97ab8f23",
   "metadata": {},
   "outputs": [
    {
     "name": "stderr",
     "output_type": "stream",
     "text": [
      "fetching routes:   0%|          | 0/267 [00:00<?, ?it/s]/var/folders/ly/ml1ytmcj1137w_s0w0f7j0g80000gn/T/ipykernel_6200/2375378829.py:8: RuntimeWarning: coroutine 'get_bus_route' was never awaited\n",
      "  route_data = await get_bus_route(route_id)\n",
      "RuntimeWarning: Enable tracemalloc to get the object allocation traceback\n",
      "fetching routes: 100%|██████████| 267/267 [01:53<00:00,  2.35it/s]"
     ]
    },
    {
     "name": "stdout",
     "output_type": "stream",
     "text": [
      "failed to fetch 12 routes: ['D90', 'B101', 'L90', 'B90', 'B94', 'B96', 'B98', 'Q90', 'BX92', 'Q107', 'Q108', 'M90']\n"
     ]
    },
    {
     "name": "stderr",
     "output_type": "stream",
     "text": [
      "\n"
     ]
    }
   ],
   "source": [
    "#getting a dict of all routes \n",
    "all_route_lists = {}\n",
    "fails = []\n",
    "for i in tqdm(range(len(all_routes)), desc=\"fetching routes\"):\n",
    "    route_id = shorten_id(all_routes[i])\n",
    "\n",
    "    try:\n",
    "        route_data = await get_bus_route(route_id)\n",
    "    except Exception as e:\n",
    "        fails.append(route_id)\n",
    "        continue\n",
    "\n",
    "    stop_groups = get_stop_groups(route_data)\n",
    "    all_route_lists.update(stop_groups)\n",
    "    \n",
    "print(f\"failed to fetch {len(fails)} routes: {fails}\")\n",
    "    "
   ]
  },
  {
   "cell_type": "code",
   "execution_count": null,
   "id": "2621afe0",
   "metadata": {},
   "outputs": [
    {
     "name": "stdout",
     "output_type": "stream",
     "text": [
      "446\n"
     ]
    }
   ],
   "source": [
    "print(len(all_route_lists))\n"
   ]
  },
  {
   "cell_type": "code",
   "execution_count": 94,
   "id": "41637d14",
   "metadata": {},
   "outputs": [],
   "source": [
    "filename = \"./graph_data/all_route_lists.json\"\n",
    "with open(filename, 'w') as file:\n",
    "    json.dump(all_route_lists, file, indent=4)"
   ]
  },
  {
   "cell_type": "code",
   "execution_count": 95,
   "id": "77318d22",
   "metadata": {},
   "outputs": [],
   "source": [
    "json_path='./graph_data/all_route_lists.json'\n",
    "with open(json_path) as json_file:\n",
    "    all_route_lists = json.load(json_file)"
   ]
  },
  {
   "cell_type": "markdown",
   "id": "7a2f15ab",
   "metadata": {},
   "source": [
    "## Need to get all missing stops into stations.graphml"
   ]
  },
  {
   "cell_type": "code",
   "execution_count": 96,
   "id": "d83441e7",
   "metadata": {},
   "outputs": [],
   "source": [
    "async def get_stop_info(stop_id):\n",
    "        url = f\"https://bustime.mta.info/api/where/stop/{stop_id}.json?key={MTA_API_KEY}\"\n",
    "        async with aiohttp.ClientSession() as session:\n",
    "            async with session.get(url) as response:\n",
    "                return await response.json()"
   ]
  },
  {
   "cell_type": "code",
   "execution_count": 97,
   "id": "947cf8ff",
   "metadata": {},
   "outputs": [],
   "source": [
    "def findNearestNode2Placemark(G, placemark_info):\n",
    "    '''\n",
    "    get the ID of the node nearest to a placemark\n",
    "    '''\n",
    "    placemark_longitude, placemark_latitude = placemark_info['longitude'], placemark_info['latitude']\n",
    "\n",
    "    nearest_node = ox.distance.nearest_nodes(G,\n",
    "                                         placemark_longitude, placemark_latitude,\n",
    "                                         return_dist=True)\n",
    "    \n",
    "    return nearest_node[0]"
   ]
  },
  {
   "cell_type": "code",
   "execution_count": 98,
   "id": "e30a82c5",
   "metadata": {},
   "outputs": [],
   "source": [
    "async def add_info(stop_id, bus_info_dict, G):\n",
    "    info = {}\n",
    "    #add data retrieved online ab a stop id\n",
    "    response = await get_stop_info(stop_id)\n",
    "    info['name'] = response['data']['name']\n",
    "    info['direction'] = response['data']['direction']\n",
    "    info['id'] = stop_id\n",
    "    info['longitude'] = response['data']['lon']\n",
    "    info['latitude'] = response['data']['lat']\n",
    "    info['osmid'] = findNearestNode2Placemark(G, info)\n",
    "    if 'bus_stops' not in G.nodes[info['osmid']]:\n",
    "        G.nodes[info['osmid']]['bus_stops'] = []\n",
    "    G.nodes[info['osmid']]['bus_stops'].append(stop_id)\n",
    "    bus_info_dict[stop_id] = info\n",
    "    print(bus_info_dict[stop_id])\n",
    "    print(G.nodes[info['osmid']])\n",
    "\n",
    "    return bus_info_dict\n",
    "    \n",
    "    \n",
    "    \n",
    "\n",
    "\n"
   ]
  },
  {
   "cell_type": "code",
   "execution_count": 99,
   "id": "7fc3777a",
   "metadata": {},
   "outputs": [],
   "source": [
    "# example info entry\n",
    "# \"MTA_308248\": {\n",
    "#         \"name\": \"4 AV/SENATOR ST\",\n",
    "#         \"routes\": [\n",
    "#             \"B9\"\n",
    "#         ],\n",
    "#         \"direction\": \"S\",\n",
    "#         \"link\": \"https://bustime.mta.info/m/index?q=308248\",\n",
    "#         \"id\": \"MTA_308248\",\n",
    "#         \"latitude\": 40.636048,\n",
    "#         \"longitude\": -74.022991,\n",
    "#         \"osmid\": 42521235"
   ]
  },
  {
   "cell_type": "code",
   "execution_count": 100,
   "id": "44312d8e",
   "metadata": {},
   "outputs": [],
   "source": [
    "G = ox.io.load_graphml('./graph_data/stations.graphml')"
   ]
  },
  {
   "cell_type": "code",
   "execution_count": 101,
   "id": "8f7c11dd",
   "metadata": {},
   "outputs": [
    {
     "name": "stdout",
     "output_type": "stream",
     "text": [
      "{'name': 'FDR DR/E 35 ST', 'direction': 'NE', 'id': 'MTA_903355', 'longitude': -73.971636, 'latitude': 40.743473, 'osmid': 406048768}\n",
      "{'y': 40.7438669, 'x': -73.9716376, 'highway': 'traffic_signals', 'street_count': 3, 'bus_stops': ['MTA_903355']}\n",
      "{'name': 'W 34 ST/DYER AV', 'direction': 'W', 'id': 'MTA_403530', 'longitude': -73.998474, 'latitude': 40.754416, 'osmid': 427841052}\n",
      "{'y': 40.7543851, 'x': -73.9982439, 'street_count': 3, 'bus_stops': ['MTA_403530']}\n",
      "{'name': 'W 34 ST/HUDSON BLVD E', 'direction': 'NW', 'id': 'MTA_405485', 'longitude': -74.000813, 'latitude': 40.755349, 'osmid': 3270031002}\n",
      "{'y': 40.755166, 'x': -74.0005225, 'highway': 'traffic_signals', 'street_count': 4, 'bus_stops': ['MTA_803079', 'MTA_903292', 'MTA_903293', 'MTA_405485']}\n",
      "{'name': 'SEAVIEW AV/NUGENT AV', 'direction': 'SE', 'id': 'MTA_905248', 'longitude': -74.086714, 'latitude': 40.583714, 'osmid': 42957538}\n",
      "{'y': 40.5836798, 'x': -74.0865823, 'highway': 'traffic_signals', 'street_count': 4, 'bus_stops': ['MTA_905248']}\n",
      "{'name': 'LEXINGTON AV/E 45 ST', 'direction': 'SW', 'id': 'MTA_402843', 'longitude': -73.974905, 'latitude': 40.753095, 'osmid': 42444049}\n",
      "{'y': 40.753367, 'x': -73.974648, 'highway': 'traffic_signals', 'street_count': 4, 'bus_stops': ['MTA_402843']}\n",
      "{'name': 'ROGERS AV/STERLING ST', 'direction': 'N', 'id': 'MTA_308695', 'longitude': -73.953775, 'latitude': 40.663262, 'osmid': 42520764}\n",
      "{'y': 40.6629454, 'x': -73.9537858, 'highway': 'traffic_signals', 'street_count': 4, 'bus_stops': ['MTA_308695']}\n",
      "{'name': 'LORRAINE ST/HICKS ST', 'direction': 'E', 'id': 'MTA_306088', 'longitude': -74.005656, 'latitude': 40.673983, 'osmid': 42483620}\n",
      "{'y': 40.6741541, 'x': -74.0059955, 'street_count': 4, 'bus_stops': ['MTA_306111', 'MTA_306088']}\n",
      "{'name': 'ARDEN AV/HAMPTON GREEN', 'direction': 'SE', 'id': 'MTA_203974', 'longitude': -74.19348, 'latitude': 40.554757, 'osmid': 42994361}\n",
      "{'y': 40.5548811, 'x': -74.1935785, 'highway': 'traffic_signals', 'street_count': 4, 'bus_stops': ['MTA_202295', 'MTA_202886', 'MTA_203588', 'MTA_203974']}\n",
      "{'name': 'MYRTLE AV/PARK LN SOUTH', 'direction': 'W', 'id': 'MTA_702273', 'longitude': -73.841959, 'latitude': 40.701187, 'osmid': 2547440226}\n",
      "{'y': 40.7010999, 'x': -73.8415851, 'highway': 'traffic_signals', 'street_count': 4, 'bus_stops': ['MTA_551235', 'MTA_702273']}\n",
      "{'name': 'HUNTS POINT AV/SOUTHERN BLVD', 'direction': 'SE', 'id': 'MTA_103911', 'longitude': -73.891175, 'latitude': 40.820553, 'osmid': 42737467}\n",
      "{'y': 40.8203283, 'x': -73.8908133, 'highway': 'traffic_signals', 'street_count': 4, 'bus_stops': ['MTA_103911']}\n",
      "{'name': 'E 116 ST/LEXINGTON AV', 'direction': 'SE', 'id': 'MTA_405313', 'longitude': -73.941796, 'latitude': 40.798605, 'osmid': 42447199}\n",
      "{'y': 40.7986336, 'x': -73.9416222, 'highway': 'traffic_signals', 'street_count': 4, 'bus_stops': ['MTA_401992', 'MTA_402003', 'MTA_405313']}\n",
      "{'name': '1 AV/E 120 ST', 'direction': 'NE', 'id': 'MTA_401279', 'longitude': -73.933223, 'latitude': 40.798954, 'osmid': 3931519753}\n",
      "{'y': 40.798685, 'x': -73.9334544, 'highway': 'crossing', 'street_count': 3, 'bus_stops': ['MTA_401729', 'MTA_401279']}\n",
      "{'name': 'E 120 ST/PLEASANT AV', 'direction': 'NW', 'id': 'MTA_405312', 'longitude': -73.931142, 'latitude': 40.797674, 'osmid': 42443826}\n",
      "{'y': 40.7976374, 'x': -73.9312818, 'highway': 'stop', 'street_count': 3, 'bus_stops': ['MTA_401998', 'MTA_803059', 'MTA_405312']}\n",
      "{'name': 'HILLSIDE AV/267 ST', 'direction': 'E', 'id': 'MTA_904413', 'longitude': -73.701998, 'latitude': 40.73865, 'osmid': 42856106}\n",
      "{'y': 40.7387205, 'x': -73.7019157, 'highway': 'traffic_signals', 'street_count': 4, 'bus_stops': ['MTA_502085', 'MTA_904413']}\n",
      "{'name': 'HILLSIDE AV/CHELSEA ST', 'direction': 'W', 'id': 'MTA_505308', 'longitude': -73.775568, 'latitude': 40.714657, 'osmid': 42898218}\n",
      "{'y': 40.714598, 'x': -73.775715, 'street_count': 3, 'bus_stops': ['MTA_500010', 'MTA_505308']}\n",
      "{'name': 'CONEY ISLAND AV/TURNER PL', 'direction': 'N', 'id': 'MTA_901770', 'longitude': -73.970463, 'latitude': 40.645243, 'osmid': 42489115}\n",
      "{'y': 40.645317, 'x': -73.970546, 'street_count': 4, 'bus_stops': ['MTA_901617', 'MTA_901770']}\n",
      "{'name': 'E 23 ST/PARK AV SOUTH', 'direction': 'SE', 'id': 'MTA_405555', 'longitude': -73.985587, 'latitude': 40.739743, 'osmid': 42446925}\n",
      "{'y': 40.7395138, 'x': -73.9847521, 'street_count': 4, 'bus_stops': ['MTA_402146', 'MTA_402133', 'MTA_405555']}\n",
      "{'name': 'E 23 ST/1 AV', 'direction': 'SE', 'id': 'MTA_405508', 'longitude': -73.97724, 'latitude': 40.736071, 'osmid': 6331080435}\n",
      "{'y': 40.7360982, 'x': -73.9787384, 'street_count': 1, 'bus_stops': ['MTA_405508']}\n",
      "{'name': 'CENTRAL PARK SOUTH/6 AV', 'direction': 'NW', 'id': 'MTA_903165', 'longitude': -73.976956, 'latitude': 40.766037, 'osmid': 42430394}\n",
      "{'y': 40.7656797, 'x': -73.976244, 'highway': 'traffic_signals', 'street_count': 3, 'bus_stops': ['MTA_404923', 'MTA_903036', 'MTA_400943', 'MTA_403047', 'MTA_903165']}\n",
      "{'name': '108 ST/MARTENSE AV', 'direction': 'NW', 'id': 'MTA_505340', 'longitude': -73.854317, 'latitude': 40.742195, 'osmid': 42875001}\n",
      "{'y': 40.7421042, 'x': -73.8543247, 'highway': 'traffic_signals', 'street_count': 4, 'bus_stops': ['MTA_503490', 'MTA_505340']}\n",
      "{'name': 'W 97 ST/WEST END AV', 'direction': 'NW', 'id': 'MTA_405464', 'longitude': -73.972385, 'latitude': 40.795852, 'osmid': 42431102}\n",
      "{'y': 40.7959381, 'x': -73.972717, 'highway': 'traffic_signals', 'street_count': 4, 'bus_stops': ['MTA_401966', 'MTA_405464']}\n",
      "{'name': 'LEXINGTON AV/E 85 ST', 'direction': 'SW', 'id': 'MTA_405358', 'longitude': -73.955768, 'latitude': 40.779281, 'osmid': 42429334}\n",
      "{'y': 40.7795073, 'x': -73.9555832, 'highway': 'traffic_signals', 'street_count': 4, 'bus_stops': ['MTA_403419', 'MTA_401905', 'MTA_405358']}\n",
      "{'name': 'E 24 ST/LEXINGTON AV', 'direction': 'SE', 'id': 'MTA_402853', 'longitude': -73.983862, 'latitude': 40.739939, 'osmid': 42436582}\n",
      "{'y': 40.7401771, 'x': -73.9842672, 'street_count': 4, 'bus_stops': ['MTA_405272', 'MTA_402853']}\n",
      "{'name': '3 AV/E 24 ST', 'direction': 'NE', 'id': 'MTA_405650', 'longitude': -73.98251, 'latitude': 40.739601, 'osmid': 42436586}\n",
      "{'y': 40.7394995, 'x': -73.9826691, 'highway': 'traffic_signals', 'street_count': 4, 'bus_stops': ['MTA_403855', 'MTA_405650']}\n",
      "{'name': '3 AV/E 86 ST', 'direction': 'NE', 'id': 'MTA_405652', 'longitude': -73.954028, 'latitude': 40.778595, 'osmid': 42429338}\n",
      "{'y': 40.7788275, 'x': -73.9539771, 'highway': 'traffic_signals', 'street_count': 4, 'bus_stops': ['MTA_403434', 'MTA_401906', 'MTA_401921', 'MTA_405652']}\n",
      "{'name': 'AMSTERDAM AV/W 147 ST', 'direction': 'NE', 'id': 'MTA_402522', 'longitude': -73.946404, 'latitude': 40.826778, 'osmid': 42442628}\n",
      "{'y': 40.8265263, 'x': -73.9466483, 'highway': 'traffic_signals', 'street_count': 4, 'bus_stops': ['MTA_402522']}\n",
      "{'name': 'AMSTERDAM AV/W 153 ST', 'direction': 'NE', 'id': 'MTA_402525', 'longitude': -73.943814, 'latitude': 40.830343, 'osmid': 42442645}\n",
      "{'y': 40.8302699, 'x': -73.9439142, 'highway': 'traffic_signals', 'street_count': 4, 'bus_stops': ['MTA_402525']}\n",
      "{'name': 'SAINT NICHOLAS AV/FORT GEORGE HILL', 'direction': 'W', 'id': 'MTA_903360', 'longitude': -73.927813, 'latitude': 40.857047, 'osmid': 42451932}\n",
      "{'y': 40.8571682, 'x': -73.9274354, 'street_count': 3, 'bus_stops': ['MTA_903340', 'MTA_905247', 'MTA_903360']}\n",
      "{'name': 'COOPER SQ/E 4 ST', 'direction': 'S', 'id': 'MTA_405615', 'longitude': -73.991564, 'latitude': 40.727211, 'osmid': 1773084402}\n",
      "{'y': 40.7270874, 'x': -73.9915502, 'highway': 'traffic_signals', 'street_count': 5, 'bus_stops': ['MTA_402762', 'MTA_903276', 'MTA_405615']}\n",
      "{'name': 'PARK ROW/BEEKMAN ST', 'direction': 'W', 'id': 'MTA_404142', 'longitude': -74.007528, 'latitude': 40.711713, 'osmid': 4143875757}\n",
      "{'y': 40.7117314, 'x': -74.0078441, 'street_count': 3, 'bus_stops': ['MTA_404142']}\n",
      "{'name': 'PARK ROW/BEEKMAN ST', 'direction': 'NE', 'id': 'MTA_403639', 'longitude': -74.007131, 'latitude': 40.711591, 'osmid': 42443844}\n",
      "{'y': 40.7117008, 'x': -74.0069661, 'highway': 'traffic_signals', 'street_count': 4, 'bus_stops': ['MTA_401165', 'MTA_903098', 'MTA_903281', 'MTA_403639']}\n",
      "{'name': 'BOWERY/SPRING ST', 'direction': 'N', 'id': 'MTA_405477', 'longitude': -73.993749, 'latitude': 40.720859, 'osmid': 1773076509}\n",
      "{'y': 40.7209449, 'x': -73.9937437, 'street_count': 3, 'bus_stops': ['MTA_402757', 'MTA_405477']}\n",
      "{'name': 'BOWERY/E HOUSTON ST', 'direction': 'N', 'id': 'MTA_405561', 'longitude': -73.992372, 'latitude': 40.724412, 'osmid': 1773082410}\n",
      "{'y': 40.7241972, 'x': -73.9925309, 'street_count': 4, 'bus_stops': ['MTA_405561']}\n",
      "{'name': 'COLUMBUS CIRCLE/8 AV', 'direction': 'SE', 'id': 'MTA_405521', 'longitude': -73.982285, 'latitude': 40.767698, 'osmid': 1825841704}\n",
      "{'y': 40.7677227, 'x': -73.9821343, 'highway': 'traffic_signals', 'street_count': 3, 'bus_stops': ['MTA_400861', 'MTA_405521']}\n",
      "{'name': '7 AV/W 49 ST', 'direction': 'SW', 'id': 'MTA_405292', 'longitude': -73.983615, 'latitude': 40.760601, 'osmid': 42432585}\n",
      "{'y': 40.7604633, 'x': -73.9837062, 'highway': 'traffic_signals', 'street_count': 4, 'bus_stops': ['MTA_405292']}\n",
      "{'name': '8 AV/W 42 ST', 'direction': 'NE', 'id': 'MTA_404870', 'longitude': -73.98947, 'latitude': 40.757537, 'osmid': 42435663}\n",
      "{'y': 40.7572335, 'x': -73.9897914, 'highway': 'traffic_signals', 'street_count': 4, 'bus_stops': ['MTA_401851', 'MTA_403239', 'MTA_404870']}\n",
      "{'name': '8 AV/W 46 ST', 'direction': 'NE', 'id': 'MTA_405592', 'longitude': -73.987677, 'latitude': 40.759936, 'osmid': 42435675}\n",
      "{'y': 40.7597869, 'x': -73.9879285, 'highway': 'traffic_signals', 'street_count': 4, 'bus_stops': ['MTA_404872', 'MTA_405592']}\n",
      "{'name': 'W 129 St/AMSTERDAM AV', 'direction': 'SE', 'id': 'MTA_903352', 'longitude': -73.954741, 'latitude': 40.814961, 'osmid': 42442592}\n",
      "{'y': 40.8151098, 'x': -73.9550004, 'highway': 'traffic_signals', 'street_count': 4, 'bus_stops': ['MTA_401446', 'MTA_401459', 'MTA_903089', 'MTA_903352']}\n",
      "{'name': 'W 145 ST/CONVENT AV', 'direction': 'SE', 'id': 'MTA_902244', 'longitude': -73.946098, 'latitude': 40.824558, 'osmid': 42434259}\n",
      "{'y': 40.8246596, 'x': -73.946223, 'highway': 'traffic_signals', 'street_count': 4, 'bus_stops': ['MTA_403683', 'MTA_403694', 'MTA_902244']}\n",
      "{'name': 'WILLIS AV/E 140 ST', 'direction': 'SW', 'id': 'MTA_104630', 'longitude': -73.921819, 'latitude': 40.810753, 'osmid': 42761237}\n",
      "{'y': 40.8104007, 'x': -73.9219307, 'highway': 'traffic_signals', 'street_count': 3, 'bus_stops': ['MTA_101015', 'MTA_104630']}\n",
      "{'name': 'LINCOLN AV/BRUCKNER BLVD', 'direction': 'SW', 'id': 'MTA_104075', 'longitude': -73.929335, 'latitude': 40.80803, 'osmid': 42749813}\n",
      "{'y': 40.8077146, 'x': -73.9295664, 'highway': 'traffic_signals', 'street_count': 5, 'bus_stops': ['MTA_102839', 'MTA_104075']}\n",
      "{'name': 'E 125 ST/2 AV', 'direction': 'E', 'id': 'MTA_405420', 'longitude': -73.933881, 'latitude': 40.802838, 'osmid': 42443116}\n",
      "{'y': 40.8027638, 'x': -73.9335768, 'highway': 'traffic_signals', 'street_count': 4, 'bus_stops': ['MTA_405414', 'MTA_403673', 'MTA_403676', 'MTA_405420']}\n",
      "{'name': 'BERGEN AV/WESTCHESTER AV', 'direction': 'NE', 'id': 'MTA_103772', 'longitude': -73.915859, 'latitude': 40.816234, 'osmid': 42746080}\n",
      "{'y': 40.8164026, 'x': -73.9157647, 'highway': 'traffic_signals', 'street_count': 4, 'bus_stops': ['MTA_103772']}\n",
      "{'name': 'WESTCHESTER AV/LANE AV', 'direction': 'SW', 'id': 'MTA_104368', 'longitude': -73.843223, 'latitude': 40.839766, 'osmid': 42760539}\n",
      "{'y': 40.8397824, 'x': -73.8430728, 'street_count': 5, 'bus_stops': ['MTA_902004', 'MTA_104368']}\n",
      "{'name': 'MORRIS PARK AV/ADAMS ST', 'direction': 'NE', 'id': 'MTA_104084', 'longitude': -73.872012, 'latitude': 40.841829, 'osmid': 10001766728}\n",
      "{'y': 40.84207, 'x': -73.8718912, 'street_count': 3, 'bus_stops': ['MTA_104084']}\n",
      "{'name': '1 AV/E 43 ST', 'direction': 'NE', 'id': 'MTA_405325', 'longitude': -73.969293, 'latitude': 40.749377, 'osmid': 595105472}\n",
      "{'y': 40.7494064, 'x': -73.9693844, 'highway': 'crossing', 'street_count': 3, 'bus_stops': ['MTA_401698', 'MTA_405325']}\n",
      "{'name': '1 AV/E 81 ST', 'direction': 'NE', 'id': 'MTA_405633', 'longitude': -73.951694, 'latitude': 40.773505, 'osmid': 42452956}\n",
      "{'y': 40.7736593, 'x': -73.9517225, 'highway': 'traffic_signals', 'street_count': 4, 'bus_stops': ['MTA_405633']}\n",
      "{'name': '1 AV/E 97 ST', 'direction': 'NE', 'id': 'MTA_404254', 'longitude': -73.944031, 'latitude': 40.784095, 'osmid': 42449010}\n",
      "{'y': 40.7839383, 'x': -73.9442196, 'highway': 'traffic_signals', 'street_count': 4, 'bus_stops': ['MTA_903102', 'MTA_903275', 'MTA_903003', 'MTA_404254']}\n",
      "{'name': '1 AV/E 106 ST', 'direction': 'NE', 'id': 'MTA_405331', 'longitude': -73.939885, 'latitude': 40.789769, 'osmid': 42450468}\n",
      "{'y': 40.7896284, 'x': -73.9400642, 'highway': 'traffic_signals', 'street_count': 4, 'bus_stops': ['MTA_401951', 'MTA_401969', 'MTA_401723', 'MTA_405331']}\n",
      "{'name': '2 AV/E 103 ST', 'direction': 'SW', 'id': 'MTA_405653', 'longitude': -73.943801, 'latitude': 40.788904, 'osmid': 42434912}\n",
      "{'y': 40.7886864, 'x': -73.9438661, 'highway': 'traffic_signals', 'street_count': 3, 'bus_stops': ['MTA_401746', 'MTA_405653']}\n",
      "{'name': '2 AV/E 95 ST', 'direction': 'SW', 'id': 'MTA_405516', 'longitude': -73.947583, 'latitude': 40.78368, 'osmid': 42434175}\n",
      "{'y': 40.7835688, 'x': -73.947588, 'highway': 'traffic_signals', 'street_count': 4, 'bus_stops': ['MTA_405516']}\n",
      "{'name': '2 AV/E 87 ST', 'direction': 'SW', 'id': 'MTA_405517', 'longitude': -73.951482, 'latitude': 40.778374, 'osmid': 42443040}\n",
      "{'y': 40.778551, 'x': -73.951248, 'highway': 'traffic_signals', 'street_count': 4, 'bus_stops': ['MTA_401753', 'MTA_405517']}\n",
      "{'name': '2 AV/E 32 ST', 'direction': 'SW', 'id': 'MTA_405611', 'longitude': -73.976803, 'latitude': 40.743666, 'osmid': 42442910}\n",
      "{'y': 40.7435047, 'x': -73.9768235, 'highway': 'traffic_signals', 'street_count': 3, 'bus_stops': ['MTA_405611']}\n",
      "{'name': 'ALLEN ST/E HOUSTON ST', 'direction': 'S', 'id': 'MTA_405472', 'longitude': -73.989021, 'latitude': 40.722486, 'osmid': 7480301864}\n",
      "{'y': 40.7229037, 'x': -73.9887754, 'street_count': 4, 'bus_stops': ['MTA_405311', 'MTA_403849', 'MTA_405472']}\n",
      "{'name': 'WATER ST/GOUVERNEUR LN', 'direction': 'SW', 'id': 'MTA_405645', 'longitude': -74.008244, 'latitude': 40.704628, 'osmid': 42421941}\n",
      "{'y': 40.7042693, 'x': -74.0087265, 'street_count': 3, 'bus_stops': ['MTA_405337', 'MTA_401665', 'MTA_405645']}\n",
      "{'name': 'SOUTH ST/WHITEHALL ST', 'direction': 'W', 'id': 'MTA_405083', 'longitude': -74.012461, 'latitude': 40.701556, 'osmid': 370880739}\n",
      "{'y': 40.7016101, 'x': -74.0119669, 'street_count': 3, 'bus_stops': ['MTA_803002', 'MTA_803019', 'MTA_405083']}\n",
      "{'name': 'WATER ST/WHITEHALL ST', 'direction': 'NE', 'id': 'MTA_405164', 'longitude': -74.012429, 'latitude': 40.702508, 'osmid': 42433834}\n",
      "{'y': 40.7027177, 'x': -74.0122358, 'street_count': 3, 'bus_stops': ['MTA_405164']}\n",
      "{'name': 'ALLEN ST/GRAND ST', 'direction': 'NE', 'id': 'MTA_405470', 'longitude': -73.991191, 'latitude': 40.717202, 'osmid': 42437962}\n",
      "{'y': 40.717351, 'x': -73.9911718, 'highway': 'traffic_signals', 'street_count': 4, 'bus_stops': ['MTA_405320', 'MTA_405470']}\n",
      "{'name': '1 AV/E 1 ST', 'direction': 'NE', 'id': 'MTA_405321', 'longitude': -73.988208, 'latitude': 40.723486, 'osmid': 42443513}\n",
      "{'y': 40.7232759, 'x': -73.9884461, 'highway': 'traffic_signals', 'street_count': 4, 'bus_stops': ['MTA_401682', 'MTA_405321']}\n",
      "{'name': '1 AV/E 28 ST', 'direction': 'NE', 'id': 'MTA_404251', 'longitude': -73.976194, 'latitude': 40.740022, 'osmid': 42446293}\n",
      "{'y': 40.7400362, 'x': -73.9762474, 'highway': 'traffic_signals', 'street_count': 3, 'bus_stops': ['MTA_405396', 'MTA_404251']}\n",
      "{'name': '1 AV/E 67 ST', 'direction': 'NE', 'id': 'MTA_405328', 'longitude': -73.957943, 'latitude': 40.765037, 'osmid': 42431684}\n",
      "{'y': 40.7652359, 'x': -73.9578431, 'highway': 'traffic_signals', 'street_count': 4, 'bus_stops': ['MTA_403995', 'MTA_405328']}\n",
      "{'name': '1 AV/E 97 ST', 'direction': 'NE', 'id': 'MTA_405612', 'longitude': -73.943991, 'latitude': 40.784147, 'osmid': 42449010}\n",
      "{'y': 40.7839383, 'x': -73.9442196, 'highway': 'traffic_signals', 'street_count': 4, 'bus_stops': ['MTA_903102', 'MTA_903275', 'MTA_903003', 'MTA_404254', 'MTA_405612']}\n",
      "{'name': '1 AV/E 109 ST', 'direction': 'NE', 'id': 'MTA_405333', 'longitude': -73.938483, 'latitude': 40.791732, 'osmid': 42456107}\n",
      "{'y': 40.7915669, 'x': -73.9386452, 'highway': 'traffic_signals', 'street_count': 3, 'bus_stops': ['MTA_401724', 'MTA_405333']}\n",
      "{'name': 'E 126 ST/2 AV', 'direction': 'NW', 'id': 'MTA_405471', 'longitude': -73.932491, 'latitude': 40.803247, 'osmid': 42423189}\n",
      "{'y': 40.8033683, 'x': -73.9329255, 'highway': 'traffic_signals', 'street_count': 4, 'bus_stops': ['MTA_401732', 'MTA_405471']}\n",
      "{'name': '2 AV/E 124 ST', 'direction': 'SW', 'id': 'MTA_405349', 'longitude': -73.934072, 'latitude': 40.802238, 'osmid': 3786728678}\n",
      "{'y': 40.8020916, 'x': -73.9340754, 'highway': 'traffic_signals', 'street_count': 4, 'bus_stops': ['MTA_405349']}\n",
      "{'name': '2 AV/E 111 ST', 'direction': 'SW', 'id': 'MTA_405558', 'longitude': -73.940351, 'latitude': 40.793598, 'osmid': 42443077}\n",
      "{'y': 40.7938155, 'x': -73.9401082, 'highway': 'traffic_signals', 'street_count': 4, 'bus_stops': ['MTA_803228', 'MTA_405558']}\n",
      "{'name': '2 AV/E 96 ST', 'direction': 'SW', 'id': 'MTA_401479', 'longitude': -73.946883, 'latitude': 40.784624, 'osmid': 42443056}\n",
      "{'y': 40.7849455, 'x': -73.9465916, 'highway': 'traffic_signals', 'street_count': 4, 'bus_stops': ['MTA_401748', 'MTA_401954', 'MTA_401955', 'MTA_401479']}\n",
      "{'name': '2 AV/E 92 ST', 'direction': 'SW', 'id': 'MTA_403369', 'longitude': -73.94926, 'latitude': 40.781467, 'osmid': 42443048}\n",
      "{'y': 40.7816881, 'x': -73.9489622, 'highway': 'traffic_signals', 'street_count': 4, 'bus_stops': ['MTA_405233', 'MTA_403369']}\n",
      "{'name': '2 AV/E 89 ST', 'direction': 'SW', 'id': 'MTA_403343', 'longitude': -73.950645, 'latitude': 40.779574, 'osmid': 42436549}\n",
      "{'y': 40.7798089, 'x': -73.9503368, 'highway': 'traffic_signals', 'street_count': 4, 'bus_stops': ['MTA_405307', 'MTA_403343']}\n",
      "{'name': '2 AV/E 78 ST', 'direction': 'SW', 'id': 'MTA_405346', 'longitude': -73.955567, 'latitude': 40.77276, 'osmid': 42436921}\n",
      "{'y': 40.7726645, 'x': -73.9555742, 'highway': 'traffic_signals', 'street_count': 4, 'bus_stops': ['MTA_401756', 'MTA_405346']}\n",
      "{'name': '2 AV/E 75 ST', 'direction': 'SW', 'id': 'MTA_405102', 'longitude': -73.957273, 'latitude': 40.770486, 'osmid': 42430068}\n",
      "{'y': 40.7707623, 'x': -73.9569342, 'highway': 'traffic_signals', 'street_count': 4, 'bus_stops': ['MTA_401758', 'MTA_405102']}\n",
      "{'name': '2 AV/E 56 ST', 'direction': 'SW', 'id': 'MTA_405387', 'longitude': -73.96601, 'latitude': 40.75843, 'osmid': 42442960}\n",
      "{'y': 40.758647, 'x': -73.9657958, 'highway': 'traffic_signals', 'street_count': 4, 'bus_stops': ['MTA_401765', 'MTA_405387']}\n",
      "{'name': '2 AV/E 41 ST', 'direction': 'SW', 'id': 'MTA_405343', 'longitude': -73.972721, 'latitude': 40.749242, 'osmid': 42432464}\n",
      "{'y': 40.7491639, 'x': -73.9727006, 'highway': 'traffic_signals', 'street_count': 4, 'bus_stops': ['MTA_401771', 'MTA_405343']}\n",
      "{'name': '2 AV/E 33 ST', 'direction': 'SW', 'id': 'MTA_405610', 'longitude': -73.976649, 'latitude': 40.743833, 'osmid': 42442913}\n",
      "{'y': 40.7441114, 'x': -73.9763847, 'highway': 'traffic_signals', 'street_count': 4, 'bus_stops': ['MTA_405342', 'MTA_903266', 'MTA_405610']}\n",
      "{'name': '2 AV/E 22 ST', 'direction': 'SW', 'id': 'MTA_405341', 'longitude': -73.981193, 'latitude': 40.737536, 'osmid': 42440330}\n",
      "{'y': 40.7372187, 'x': -73.9813983, 'highway': 'traffic_signals', 'street_count': 4, 'bus_stops': ['MTA_401779', 'MTA_405341']}\n",
      "{'name': 'ALLEN ST/GRAND ST', 'direction': 'SW', 'id': 'MTA_401791', 'longitude': -73.991663, 'latitude': 40.717144, 'osmid': 42437996}\n",
      "{'y': 40.7174356, 'x': -73.991452, 'highway': 'traffic_signals', 'street_count': 4, 'bus_stops': ['MTA_401791']}\n",
      "{'name': 'MADISON ST/OLIVER ST', 'direction': 'W', 'id': 'MTA_405339', 'longitude': -73.997597, 'latitude': 40.712048, 'osmid': 42431992}\n",
      "{'y': 40.7119737, 'x': -73.9977759, 'highway': 'traffic_signals', 'street_count': 3, 'bus_stops': ['MTA_402112', 'MTA_402088', 'MTA_405339']}\n",
      "{'name': 'MADISON ST/SAINT JAMES PL', 'direction': 'W', 'id': 'MTA_402113', 'longitude': -73.99943, 'latitude': 40.711872, 'osmid': 42437749}\n",
      "{'y': 40.7117851, 'x': -73.9997076, 'highway': 'traffic_signals', 'street_count': 4, 'bus_stops': ['MTA_903054', 'MTA_402113']}\n",
      "{'name': 'BROAD ST/SOUTH ST', 'direction': 'S', 'id': 'MTA_840005', 'longitude': -74.011309, 'latitude': 40.702099, 'osmid': 42431902}\n",
      "{'y': 40.7017865, 'x': -74.0111627, 'street_count': 3, 'bus_stops': ['MTA_903297', 'MTA_840005']}\n",
      "{'name': 'W 57 ST/BROADWAY', 'direction': 'W', 'id': 'MTA_803243', 'longitude': -73.982201, 'latitude': 40.766499, 'osmid': 42428329}\n",
      "{'y': 40.7663007, 'x': -73.9818927, 'highway': 'traffic_signals', 'street_count': 4, 'bus_stops': ['MTA_400745', 'MTA_405376', 'MTA_803243']}\n",
      "{'name': '11 AV/W 54 ST', 'direction': 'SW', 'id': 'MTA_405585', 'longitude': -73.99299, 'latitude': 40.768253, 'osmid': 42430736}\n",
      "{'y': 40.76837, 'x': -73.992786, 'highway': 'traffic_signals', 'street_count': 4, 'bus_stops': ['MTA_405443', 'MTA_404058', 'MTA_903074', 'MTA_405585']}\n",
      "{'name': '11 AV/W 47 ST', 'direction': 'SW', 'id': 'MTA_405583', 'longitude': -73.996014, 'latitude': 40.76407, 'osmid': 42430691}\n",
      "{'y': 40.7639924, 'x': -73.9959815, 'highway': 'traffic_signals', 'street_count': 4, 'bus_stops': ['MTA_405445', 'MTA_405583']}\n",
      "{'name': '11 AV/W 44 ST', 'direction': 'SW', 'id': 'MTA_405586', 'longitude': -73.997557, 'latitude': 40.762035, 'osmid': 42430680}\n",
      "{'y': 40.7621145, 'x': -73.9973436, 'highway': 'traffic_signals', 'street_count': 4, 'bus_stops': ['MTA_405446', 'MTA_405586']}\n",
      "{'name': 'W 18 ST/10 AV', 'direction': 'SE', 'id': 'MTA_940010', 'longitude': -74.005998, 'latitude': 40.744354, 'osmid': 42429664}\n",
      "{'y': 40.744646, 'x': -74.006385, 'highway': 'traffic_signals', 'street_count': 4, 'bus_stops': ['MTA_450222', 'MTA_940010']}\n",
      "{'name': 'YORK AV/E 87 ST', 'direction': 'NE', 'id': 'MTA_405537', 'longitude': -73.946694, 'latitude': 40.77642, 'osmid': 42428039}\n",
      "{'y': 40.7766022, 'x': -73.9466326, 'highway': 'traffic_signals', 'street_count': 4, 'bus_stops': ['MTA_401909', 'MTA_405537']}\n",
      "{'name': 'EAST HOUSTON ST/AV B', 'direction': 'W', 'id': 'MTA_405644', 'longitude': -73.983484, 'latitude': 40.721473, 'osmid': 42440401}\n",
      "{'y': 40.7215294, 'x': -73.9837985, 'highway': 'traffic_signals', 'street_count': 4, 'bus_stops': ['MTA_402067', 'MTA_405644']}\n",
      "{'name': 'WEST HOUSTON ST/GREENE ST', 'direction': 'NW', 'id': 'MTA_400890', 'longitude': -73.998164, 'latitude': 40.72623, 'osmid': 5799117244}\n",
      "{'y': 40.7262337, 'x': -73.9983091, 'highway': 'traffic_signals', 'street_count': 3, 'bus_stops': ['MTA_400890']}\n",
      "{'name': 'WEST HOUSTON ST/VARICK ST', 'direction': 'W', 'id': 'MTA_405620', 'longitude': -74.004555, 'latitude': 40.728563, 'osmid': 42448563}\n",
      "{'y': 40.7286179, 'x': -74.0053218, 'highway': 'traffic_signals', 'street_count': 4, 'bus_stops': ['MTA_405575', 'MTA_404940', 'MTA_405620']}\n",
      "{'name': 'SPRING ST/GREENWICH ST', 'direction': 'E', 'id': 'MTA_903079', 'longitude': -74.008902, 'latitude': 40.725939, 'osmid': 42436088}\n",
      "{'y': 40.7260025, 'x': -74.0090892, 'highway': 'traffic_signals', 'street_count': 4, 'bus_stops': ['MTA_404990', 'MTA_903079']}\n",
      "{'name': '8 AV/W 23 ST', 'direction': 'NE', 'id': 'MTA_405623', 'longitude': -73.998656, 'latitude': 40.744919, 'osmid': 42434271}\n",
      "{'y': 40.74463, 'x': -73.9989693, 'highway': 'traffic_signals', 'street_count': 4, 'bus_stops': ['MTA_405623']}\n",
      "{'name': '8 AV/W 39 ST', 'direction': 'NE', 'id': 'MTA_403552', 'longitude': -73.991135, 'latitude': 40.755175, 'osmid': 42435654}\n",
      "{'y': 40.75533, 'x': -73.991177, 'highway': 'traffic_signals', 'street_count': 4, 'bus_stops': ['MTA_403552']}\n",
      "{'name': '8 AV/W 41 ST', 'direction': 'NE', 'id': 'MTA_404052', 'longitude': -73.990405, 'latitude': 40.756182, 'osmid': 42435657}\n",
      "{'y': 40.7559486, 'x': -73.9907278, 'highway': 'traffic_signals', 'street_count': 4, 'bus_stops': ['MTA_404052']}\n",
      "{'name': '7 AV/W 53 ST', 'direction': 'SW', 'id': 'MTA_405294', 'longitude': -73.982234, 'latitude': 40.762679, 'osmid': 42440009}\n",
      "{'y': 40.7623476, 'x': -73.9823472, 'highway': 'traffic_signals', 'street_count': 4, 'bus_stops': ['MTA_405295', 'MTA_405294']}\n",
      "{'name': '7 AV/W 15 ST', 'direction': 'SW', 'id': 'MTA_405625', 'longitude': -73.999158, 'latitude': 40.73939, 'osmid': 42439826}\n",
      "{'y': 40.7392462, 'x': -73.9991824, 'highway': 'traffic_signals', 'street_count': 4, 'bus_stops': ['MTA_903285', 'MTA_405625']}\n",
      "{'name': '7 AV/W 12 ST', 'direction': 'SW', 'id': 'MTA_405383', 'longitude': -74.000795, 'latitude': 40.737149, 'osmid': 42439073}\n",
      "{'y': 40.7372222, 'x': -74.0006278, 'highway': 'traffic_signals', 'street_count': 4, 'bus_stops': ['MTA_405383']}\n",
      "{'name': 'CHAMBERS ST/HUDSON ST', 'direction': 'NW', 'id': 'MTA_404972', 'longitude': -74.009541, 'latitude': 40.715717, 'osmid': 42431614}\n",
      "{'y': 40.7155294, 'x': -74.0092468, 'highway': 'traffic_signals', 'street_count': 4, 'bus_stops': ['MTA_404976', 'MTA_402120', 'MTA_404972']}\n",
      "{'name': 'BATTERY PL/WASHINGTON ST', 'direction': 'E', 'id': 'MTA_450367', 'longitude': -74.01555, 'latitude': 40.704768, 'osmid': 1772136810}\n",
      "{'y': 40.7048354, 'x': -74.0156504, 'highway': 'traffic_signals', 'street_count': 3, 'bus_stops': ['MTA_803164', 'MTA_905194', 'MTA_450367']}\n",
      "{'name': 'STATE ST/WHITEHALL ST', 'direction': 'E', 'id': 'MTA_405068', 'longitude': -74.012897, 'latitude': 40.702344, 'osmid': 42426747}\n",
      "{'y': 40.7024415, 'x': -74.0128371, 'highway': 'traffic_signals', 'street_count': 4, 'bus_stops': ['MTA_405043', 'MTA_803185', 'MTA_405068']}\n",
      "{'name': 'CHAMBERS ST/GREENWICH ST', 'direction': 'SE', 'id': 'MTA_403858', 'longitude': -74.01115, 'latitude': 40.716244, 'osmid': 42431617}\n",
      "{'y': 40.7163041, 'x': -74.0109232, 'highway': 'traffic_signals', 'street_count': 4, 'bus_stops': ['MTA_404969', 'MTA_404973', 'MTA_403858']}\n",
      "{'name': 'YORK AV/E 66 ST', 'direction': 'SW', 'id': 'MTA_405648', 'longitude': -73.956657, 'latitude': 40.762944, 'osmid': 42427979}\n",
      "{'y': 40.7630517, 'x': -73.9565342, 'highway': 'traffic_signals', 'street_count': 3, 'bus_stops': ['MTA_402331', 'MTA_903344', 'MTA_405648']}\n",
      "{'name': 'YORK AV/E 60 ST', 'direction': 'SW', 'id': 'MTA_405499', 'longitude': -73.959263, 'latitude': 40.759392, 'osmid': 42424672}\n",
      "{'y': 40.7593001, 'x': -73.9592658, 'highway': 'traffic_signals', 'street_count': 4, 'bus_stops': ['MTA_404154', 'MTA_405499']}\n",
      "{'name': 'E 57 ST/MADISON AV', 'direction': 'NW', 'id': 'MTA_940040', 'longitude': -73.972213, 'latitude': 40.762273, 'osmid': 42432825}\n",
      "{'y': 40.7622945, 'x': -73.9723653, 'highway': 'traffic_signals', 'street_count': 4, 'bus_stops': ['MTA_450032', 'MTA_803117', 'MTA_404907', 'MTA_402227', 'MTA_450224', 'MTA_403620', 'MTA_450033', 'MTA_940040']}\n",
      "{'name': 'W 54 ST/10 AV', 'direction': 'E', 'id': 'MTA_404057', 'longitude': -73.990191, 'latitude': 40.767151, 'osmid': 42450434}\n",
      "{'y': 40.7671828, 'x': -73.9899624, 'highway': 'traffic_signals', 'street_count': 4, 'bus_stops': ['MTA_404057']}\n",
      "{'name': 'E 57 ST/5 AV', 'direction': 'SE', 'id': 'MTA_402211', 'longitude': -73.973746, 'latitude': 40.762773, 'osmid': 42432818}\n",
      "{'y': 40.7629723, 'x': -73.9739744, 'highway': 'traffic_signals', 'street_count': 4, 'bus_stops': ['MTA_402228', 'MTA_405529', 'MTA_402446', 'MTA_450031', 'MTA_402211']}\n",
      "{'name': 'YORK AV/E 74 ST', 'direction': 'NE', 'id': 'MTA_402335', 'longitude': -73.952509, 'latitude': 40.768374, 'osmid': 42428012}\n",
      "{'y': 40.7681722, 'x': -73.9527922, 'highway': 'traffic_signals', 'street_count': 4, 'bus_stops': ['MTA_403726', 'MTA_803159', 'MTA_402335']}\n",
      "{'name': 'SUNKEN GARDEN LOOP/CHARLES H GAY CENTER', 'direction': 'NW', 'id': 'MTA_404357', 'longitude': -73.931265, 'latitude': 40.785463, 'osmid': 7734633950}\n",
      "{'y': 40.7852222, 'x': -73.9306953, 'street_count': 3, 'bus_stops': ['MTA_803026', 'MTA_803034', 'MTA_404357']}\n",
      "{'name': 'HELL GATE CIRCLE/SUNKEN GARDEN LOOP', 'direction': 'SE', 'id': 'MTA_405493', 'longitude': -73.929126, 'latitude': 40.785395, 'osmid': 740060236}\n",
      "{'y': 40.7852025, 'x': -73.928919, 'highway': 'stop', 'street_count': 3, 'bus_stops': ['MTA_803028', 'MTA_405493']}\n",
      "{'name': 'HELL GATE CIRCLE/Opp ODYSSEY House', 'direction': 'E', 'id': 'MTA_405494', 'longitude': -73.927653, 'latitude': 40.784581, 'osmid': 2298803501}\n",
      "{'y': 40.7842406, 'x': -73.9270236, 'street_count': 3, 'bus_stops': ['MTA_803029', 'MTA_405494']}\n",
      "{'name': 'HELL GATE CIRCLE/IFO FIELD 61', 'direction': 'N', 'id': 'MTA_405495', 'longitude': -73.925604, 'latitude': 40.785992, 'osmid': 1242159743}\n",
      "{'y': 40.784562, 'x': -73.9268492, 'street_count': 3, 'bus_stops': ['MTA_803030', 'MTA_405495']}\n",
      "{'name': 'HELL GATE CIRCLE/CENTRAL RD', 'direction': 'NW', 'id': 'MTA_405496', 'longitude': -73.925782, 'latitude': 40.789991, 'osmid': 1242159811}\n",
      "{'y': 40.7899969, 'x': -73.9258576, 'highway': 'stop', 'street_count': 3, 'bus_stops': ['MTA_803021', 'MTA_405496']}\n",
      "{'name': 'MAIN RDWY/TENNIS CENTER 11', 'direction': 'NE', 'id': 'MTA_404351', 'longitude': -73.920014, 'latitude': 40.795131, 'osmid': 11939017652}\n",
      "{'y': 40.795537, 'x': -73.9196556, 'street_count': 3, 'bus_stops': ['MTA_414350', 'MTA_404351']}\n",
      "{'name': 'RIVERS EDGE RD/MANHATTAN PSYCHAITRIC CENTER', 'direction': 'NE', 'id': 'MTA_405609', 'longitude': -73.928937, 'latitude': 40.790482, 'osmid': 7890202648}\n",
      "{'y': 40.7895727, 'x': -73.9271215, 'street_count': 1, 'bus_stops': ['MTA_903318', 'MTA_405609']}\n",
      "{'name': 'MAIN RDWY/MANHATTAN PSYCH CENTER', 'direction': 'SW', 'id': 'MTA_404354', 'longitude': -73.926831, 'latitude': 40.789145, 'osmid': 277482212}\n",
      "{'y': 40.789375, 'x': -73.9265374, 'highway': 'stop', 'street_count': 4, 'bus_stops': ['MTA_803239', 'MTA_404354']}\n",
      "{'name': '10 AV/W 18 ST', 'direction': 'NE', 'id': 'MTA_903358', 'longitude': -74.006596, 'latitude': 40.744278, 'osmid': 42439286}\n",
      "{'y': 40.744061, 'x': -74.006811, 'highway': 'traffic_signals', 'street_count': 4, 'bus_stops': ['MTA_903358']}\n",
      "{'name': 'W 18 ST/10 AV', 'direction': 'SE', 'id': 'MTA_405514', 'longitude': -74.006027, 'latitude': 40.744354, 'osmid': 42429664}\n",
      "{'y': 40.744646, 'x': -74.006385, 'highway': 'traffic_signals', 'street_count': 4, 'bus_stops': ['MTA_450222', 'MTA_940010', 'MTA_405514']}\n",
      "{'name': 'E 10 ST/AVENUE D', 'direction': 'SE', 'id': 'MTA_405409', 'longitude': -73.975365, 'latitude': 40.724917, 'osmid': 42430942}\n",
      "{'y': 40.7248848, 'x': -73.9751696, 'highway': 'traffic_signals', 'street_count': 4, 'bus_stops': ['MTA_401591', 'MTA_403443', 'MTA_405409']}\n",
      "{'name': '12 AV/W 42 ST', 'direction': 'SW', 'id': 'MTA_401811', 'longitude': -74.001188, 'latitude': 40.762461, 'osmid': 42437379}\n",
      "{'y': 40.7620659, 'x': -74.0013362, 'highway': 'traffic_signals', 'street_count': 3, 'bus_stops': ['MTA_803055', 'MTA_401811']}\n",
      "{'name': 'E 42 ST/3 AV', 'direction': 'E', 'id': 'MTA_405593', 'longitude': -73.974543, 'latitude': 40.750781, 'osmid': 11337295608}\n",
      "{'y': 40.7507733, 'x': -73.9744736, 'street_count': 4, 'bus_stops': ['MTA_403246', 'MTA_403253', 'MTA_405593']}\n",
      "{'name': 'E 42 ST/PARK AV', 'direction': 'W', 'id': 'MTA_405241', 'longitude': -73.97748, 'latitude': 40.752111, 'osmid': 9140654137}\n",
      "{'y': 40.752195, 'x': -73.9776221, 'street_count': 3, 'bus_stops': ['MTA_904041', 'MTA_403459', 'MTA_405241']}\n",
      "{'name': 'W 42 ST/7 AV', 'direction': 'NW', 'id': 'MTA_405549', 'longitude': -73.987403, 'latitude': 40.756311, 'osmid': 42437363}\n",
      "{'y': 40.7560361, 'x': -73.9869489, 'highway': 'traffic_signals', 'street_count': 4, 'bus_stops': ['MTA_903295', 'MTA_403240', 'MTA_403259', 'MTA_405549']}\n",
      "{'name': 'PARK ROW/SPRUCE ST', 'direction': 'W', 'id': 'MTA_401809', 'longitude': -74.006641, 'latitude': 40.711845, 'osmid': 42443844}\n",
      "{'y': 40.7117008, 'x': -74.0069661, 'highway': 'traffic_signals', 'street_count': 4, 'bus_stops': ['MTA_401165', 'MTA_903098', 'MTA_903281', 'MTA_403639', 'MTA_401809']}\n",
      "{'name': 'MURRAY ST/WEST BROADWAY', 'direction': 'NW', 'id': 'MTA_405643', 'longitude': -74.010208, 'latitude': 40.714457, 'osmid': 42429563}\n",
      "{'y': 40.7143998, 'x': -74.010163, 'highway': 'traffic_signals', 'street_count': 4, 'bus_stops': ['MTA_903298', 'MTA_405643']}\n",
      "{'name': 'WARREN ST/GREENWICH ST', 'direction': 'SE', 'id': 'MTA_450424', 'longitude': -74.011304, 'latitude': 40.715601, 'osmid': 5812723033}\n",
      "{'y': 40.7156024, 'x': -74.0111062, 'highway': 'traffic_signals', 'street_count': 4, 'bus_stops': ['MTA_803147', 'MTA_450424']}\n",
      "{'name': 'WARREN ST/CHURCH ST', 'direction': 'SE', 'id': 'MTA_450422', 'longitude': -74.008232, 'latitude': 40.714219, 'osmid': 42449597}\n",
      "{'y': 40.7143576, 'x': -74.008378, 'highway': 'traffic_signals', 'street_count': 4, 'bus_stops': ['MTA_803105', 'MTA_405279', 'MTA_450422']}\n",
      "{'name': 'AVENUE C/E 14 ST', 'direction': 'NE', 'id': 'MTA_405474', 'longitude': -73.97553, 'latitude': 40.728558, 'osmid': 42440754}\n",
      "{'y': 40.7284433, 'x': -73.9756824, 'highway': 'traffic_signals', 'street_count': 4, 'bus_stops': ['MTA_402041', 'MTA_402057', 'MTA_401587', 'MTA_401633', 'MTA_405474']}\n",
      "{'name': 'MADISON AV/E 111 ST', 'direction': 'NE', 'id': 'MTA_400048', 'longitude': -73.947073, 'latitude': 40.796865, 'osmid': 42446152}\n",
      "{'y': 40.7968004, 'x': -73.9471765, 'highway': 'traffic_signals', 'street_count': 4, 'bus_stops': ['MTA_400048']}\n",
      "{'name': 'MOUNT MORRIS PARK WEST/W 121 ST', 'direction': 'SW', 'id': 'MTA_405370', 'longitude': -73.945674, 'latitude': 40.804662, 'osmid': 3858909357}\n",
      "{'y': 40.8045239, 'x': -73.9457212, 'street_count': 3, 'bus_stops': ['MTA_405370']}\n",
      "{'name': 'SAINT NICHOLAS AV/W 192 ST', 'direction': 'SW', 'id': 'MTA_400448', 'longitude': -73.928691, 'latitude': 40.856246, 'osmid': 42427769}\n",
      "{'y': 40.856182, 'x': -73.928716, 'highway': 'traffic_signals', 'street_count': 4, 'bus_stops': ['MTA_901342', 'MTA_903351', 'MTA_400448']}\n",
      "{'name': 'W 155 ST/AMSTERDAM AV', 'direction': 'SE', 'id': 'MTA_405525', 'longitude': -73.942273, 'latitude': 40.831216, 'osmid': 42442651}\n",
      "{'y': 40.8315772, 'x': -73.9429836, 'highway': 'traffic_signals', 'street_count': 4, 'bus_stops': ['MTA_402526', 'MTA_402639', 'MTA_403698', 'MTA_403703', 'MTA_405525']}\n",
      "{'name': '4 AV/E 9 ST', 'direction': 'N', 'id': 'MTA_400001', 'longitude': -73.990418, 'latitude': 40.730955, 'osmid': 595407648}\n",
      "{'y': 40.7310098, 'x': -73.9904506, 'street_count': 3, 'bus_stops': ['MTA_400001']}\n",
      "{'name': 'SAINT NICHOLAS AV/W 163 ST', 'direction': 'N', 'id': 'MTA_405466', 'longitude': -73.940034, 'latitude': 40.837193, 'osmid': 42433020}\n",
      "{'y': 40.8369673, 'x': -73.9401365, 'highway': 'traffic_signals', 'street_count': 4, 'bus_stops': ['MTA_400414', 'MTA_405466']}\n",
      "{'name': 'FORT GEORGE AV/66 FORT GEORGE AV', 'direction': 'SW', 'id': 'MTA_405091', 'longitude': -73.926614, 'latitude': 40.857887, 'osmid': 42451932}\n",
      "{'y': 40.8571682, 'x': -73.9274354, 'street_count': 3, 'bus_stops': ['MTA_903340', 'MTA_905247', 'MTA_903360', 'MTA_405091']}\n",
      "{'name': 'BROADWAY/W 135 ST', 'direction': 'SW', 'id': 'MTA_401450', 'longitude': -73.955315, 'latitude': 40.820088, 'osmid': 42428892}\n",
      "{'y': 40.8201617, 'x': -73.9551864, 'highway': 'traffic_signals', 'street_count': 4, 'bus_stops': ['MTA_404011', 'MTA_803157', 'MTA_401450']}\n",
      "{'name': 'E 32 ST/5 AV', 'direction': 'SE', 'id': 'MTA_405548', 'longitude': -73.984976, 'latitude': 40.746891, 'osmid': 42443680}\n",
      "{'y': 40.747152, 'x': -73.9854903, 'highway': 'traffic_signals', 'street_count': 4, 'bus_stops': ['MTA_400555', 'MTA_803040', 'MTA_903128', 'MTA_404206', 'MTA_405548']}\n",
      "{'name': 'BROADWAY/W 135 ST', 'direction': 'NE', 'id': 'MTA_403462', 'longitude': -73.954599, 'latitude': 40.820447, 'osmid': 561035350}\n",
      "{'y': 40.8207479, 'x': -73.954523, 'highway': 'traffic_signals', 'street_count': 4, 'bus_stops': ['MTA_903236', 'MTA_403462']}\n",
      "{'name': 'W 31 ST/6 AV', 'direction': 'NW', 'id': 'MTA_405505', 'longitude': -73.988889, 'latitude': 40.747801, 'osmid': 42430292}\n",
      "{'y': 40.7478958, 'x': -73.9891568, 'highway': 'traffic_signals', 'street_count': 4, 'bus_stops': ['MTA_403769', 'MTA_405582', 'MTA_803082', 'MTA_803083', 'MTA_405505']}\n",
      "{'name': 'CHURCH ST/LIBERTY ST', 'direction': 'NE', 'id': 'MTA_405492', 'longitude': -74.011403, 'latitude': 40.709922, 'osmid': 42422038}\n",
      "{'y': 40.7096669, 'x': -74.0116583, 'highway': 'traffic_signals', 'street_count': 3, 'bus_stops': ['MTA_405492']}\n",
      "{'name': 'BROADWAY/GRAND ST', 'direction': 'SW', 'id': 'MTA_405159', 'longitude': -74.001026, 'latitude': 40.720536, 'osmid': 42428436}\n",
      "{'y': 40.7208548, 'x': -74.0006545, 'highway': 'traffic_signals', 'street_count': 4, 'bus_stops': ['MTA_400159', 'MTA_405159']}\n",
      "{'name': 'BROADWAY/FRANKLIN ST', 'direction': 'SW', 'id': 'MTA_400162', 'longitude': -74.003435, 'latitude': 40.717587, 'osmid': 42428420}\n",
      "{'y': 40.717449, 'x': -74.003533, 'highway': 'traffic_signals', 'street_count': 4, 'bus_stops': ['MTA_405377', 'MTA_400162']}\n",
      "{'name': 'WEST END AV/W 61 ST', 'direction': 'SW', 'id': 'MTA_405565', 'longitude': -73.989602, 'latitude': 40.772964, 'osmid': 42421985}\n",
      "{'y': 40.7728633, 'x': -73.9895402, 'highway': 'traffic_signals', 'street_count': 4, 'bus_stops': ['MTA_404036', 'MTA_405353', 'MTA_405565']}\n",
      "{'name': 'HUNTS POINT AV/BRUCKNER BLVD', 'direction': 'SE', 'id': 'MTA_902062', 'longitude': -73.890936, 'latitude': 40.820353, 'osmid': 42737467}\n",
      "{'y': 40.8203283, 'x': -73.8908133, 'highway': 'traffic_signals', 'street_count': 4, 'bus_stops': ['MTA_103911', 'MTA_902062']}\n",
      "{'name': 'E 72 ST/2 AV', 'direction': 'E', 'id': 'MTA_402294', 'longitude': -73.958281, 'latitude': 40.768637, 'osmid': 42436489}\n",
      "{'y': 40.7688122, 'x': -73.9583845, 'highway': 'traffic_signals', 'street_count': 4, 'bus_stops': ['MTA_401759', 'MTA_402299', 'MTA_405365', 'MTA_402294']}\n",
      "{'name': 'E 67 ST/MADISON AV', 'direction': 'NW', 'id': 'MTA_405622', 'longitude': -73.967567, 'latitude': 40.768564, 'osmid': 42437425}\n",
      "{'y': 40.7686004, 'x': -73.9677557, 'highway': 'traffic_signals', 'street_count': 4, 'bus_stops': ['MTA_400028', 'MTA_405489', 'MTA_403508', 'MTA_405622']}\n",
      "{'name': '58 ST/ 2 AV', 'direction': 'SE', 'id': 'MTA_308973', 'longitude': -74.021817, 'latitude': 40.644691, 'osmid': 42496046}\n",
      "{'y': 40.6446047, 'x': -74.0216055, 'highway': 'traffic_signals', 'street_count': 4, 'bus_stops': ['MTA_308973']}\n",
      "{'name': '5 AV/E 72 ST', 'direction': 'SW', 'id': 'MTA_400008', 'longitude': -73.967365, 'latitude': 40.772134, 'osmid': 42445225}\n",
      "{'y': 40.7717837, 'x': -73.9675292, 'highway': 'traffic_signals', 'street_count': 3, 'bus_stops': ['MTA_400124', 'MTA_400008']}\n",
      "{'name': 'W 43 ST/8 AV', 'direction': 'NW', 'id': 'MTA_405412', 'longitude': -73.99116, 'latitude': 40.75877, 'osmid': 42445011}\n",
      "{'y': 40.7591038, 'x': -73.9921385, 'highway': 'traffic_signals', 'street_count': 4, 'bus_stops': ['MTA_903078', 'MTA_405412']}\n",
      "{'name': '9 AV/W 40 ST', 'direction': 'SW', 'id': 'MTA_405540', 'longitude': -73.993896, 'latitude': 40.756938, 'osmid': 42444991}\n",
      "{'y': 40.7571536, 'x': -73.9935785, 'highway': 'traffic_signals', 'street_count': 4, 'bus_stops': ['MTA_405026', 'MTA_405540']}\n",
      "{'name': 'E 79 ST/1 AV', 'direction': 'NW', 'id': 'MTA_405634', 'longitude': -73.952862, 'latitude': 40.772446, 'osmid': 42456060}\n",
      "{'y': 40.7723435, 'x': -73.9526796, 'highway': 'traffic_signals', 'street_count': 4, 'bus_stops': ['MTA_401712', 'MTA_401876', 'MTA_401882', 'MTA_405634']}\n",
      "{'name': 'E 79 ST/3 AV', 'direction': 'E', 'id': 'MTA_401874', 'longitude': -73.957524, 'latitude': 40.774286, 'osmid': 42450015}\n",
      "{'y': 40.7742888, 'x': -73.9572919, 'highway': 'traffic_signals', 'street_count': 4, 'bus_stops': ['MTA_401884', 'MTA_405369', 'MTA_401874']}\n"
     ]
    }
   ],
   "source": [
    "\n",
    "for route_list in all_route_lists.values():\n",
    "    for stop in route_list:\n",
    "        if stop not in bus_info:\n",
    "            bus_info = await add_info(stop, bus_info, G)\n",
    "\n",
    "filename = \"./graph_data/bus_info_dict.json\"\n",
    "with open(filename, 'w') as file:\n",
    "    json.dump(bus_info, file, indent=4)\n",
    "ox.io.save_graphml(G, filepath='./graph_data/stations.graphml')"
   ]
  }
 ],
 "metadata": {
  "kernelspec": {
   "display_name": "DSA",
   "language": "python",
   "name": "python3"
  },
  "language_info": {
   "codemirror_mode": {
    "name": "ipython",
    "version": 3
   },
   "file_extension": ".py",
   "mimetype": "text/x-python",
   "name": "python",
   "nbconvert_exporter": "python",
   "pygments_lexer": "ipython3",
   "version": "3.13.2"
  }
 },
 "nbformat": 4,
 "nbformat_minor": 5
}
