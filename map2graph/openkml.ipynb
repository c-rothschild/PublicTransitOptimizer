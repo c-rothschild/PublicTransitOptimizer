{
 "cells": [
  {
   "cell_type": "markdown",
   "id": "ecb3a407",
   "metadata": {},
   "source": [
    "# Adding New York bus routes to OSMnx map"
   ]
  },
  {
   "cell_type": "markdown",
   "id": "061a0030",
   "metadata": {},
   "source": [
    "## Section 1: Extracting bus stops from KML\n",
    "KML source: \n",
    "<a href=\"https://www.google.com/maps/d/u/0/viewer?mid=1Y-euNeFcsu06Zxfdl6u6-sca3Yp-KYY&ll=40.75502933824687%2C-74.00066380083778&z=18\">\n",
    "MTA Bus Map\n",
    "</a>"
   ]
  },
  {
   "cell_type": "markdown",
   "id": "2fb217eb",
   "metadata": {},
   "source": [
    "### Opening KML file and extracting placemarks"
   ]
  },
  {
   "cell_type": "code",
   "execution_count": 1,
   "id": "e0389c24",
   "metadata": {},
   "outputs": [
    {
     "name": "stderr",
     "output_type": "stream",
     "text": [
      "/Users/charlierothschild/miniforge3/envs/DSA/lib/python3.13/site-packages/fastkml/config.py:39: UserWarning: Package `lxml` missing. Pretty print will be disabled\n",
      "  warnings.warn(\"Package `lxml` missing. Pretty print will be disabled\")  # noqa: B028\n"
     ]
    }
   ],
   "source": [
    "from fastkml import KML\n",
    "from fastkml import Placemark, Point, StyleUrl, Style\n",
    "from fastkml.utils import find, find_all\n",
    "import os"
   ]
  },
  {
   "cell_type": "code",
   "execution_count": 2,
   "id": "40cfadcb",
   "metadata": {},
   "outputs": [],
   "source": [
    "#read .kml file as KML object with fastkml\n",
    "k = KML.parse(\"../data/doc.kml\")"
   ]
  },
  {
   "cell_type": "code",
   "execution_count": 3,
   "id": "b1a71f82",
   "metadata": {},
   "outputs": [],
   "source": [
    "#extract all placemarks in .kml file\n",
    "placemarks = list(find_all(k, of_type=Placemark))"
   ]
  },
  {
   "cell_type": "code",
   "execution_count": 4,
   "id": "7587f681",
   "metadata": {},
   "outputs": [
    {
     "name": "stdout",
     "output_type": "stream",
     "text": [
      "15042\n"
     ]
    }
   ],
   "source": [
    "#print the number of placemarks\n",
    "print(len(placemarks))"
   ]
  },
  {
   "cell_type": "code",
   "execution_count": 5,
   "id": "fd3ee05d",
   "metadata": {},
   "outputs": [
    {
     "name": "stdout",
     "output_type": "stream",
     "text": [
      "name: HYLAN BLVD/MIDLAND AV<br>routes: S51, S78, S79+, S81<br>direction: SW<br>link: https://bustime.mta.info/m/index?q=200237<br>id: MTA_200237<br>Latitude,Longitude: 40.577699, -74.102611\n"
     ]
    }
   ],
   "source": [
    "print(placemarks[0].description)"
   ]
  },
  {
   "cell_type": "markdown",
   "id": "4131db30",
   "metadata": {},
   "source": [
    "### Parsing Placemark Description"
   ]
  },
  {
   "cell_type": "code",
   "execution_count": 6,
   "id": "0d2560fb",
   "metadata": {},
   "outputs": [],
   "source": [
    "#extravcting info from placemarker description\n",
    "\n",
    "def parse_placemark_info(desc_str):\n",
    "    \"\"\"\n",
    "    Parse a description string like:\n",
    "      \"name: HYLAN BLVD/MIDLAND AV<br>\"\n",
    "      \"routes: S51, S78, S79+, S81<br>\"\n",
    "      \"direction: SW<br>\"\n",
    "      \"link: https://…<br>\"\n",
    "      \"id: MTA_200237<br>\"\n",
    "      \"Latitude,Longitude: 40.577699, -74.102611\"\n",
    "    into a dict with proper types.\n",
    "    \"\"\"\n",
    "    # 1) split into lines\n",
    "    parts = desc_str.split('<br>')\n",
    "    \n",
    "    data = {}\n",
    "    for part in parts:\n",
    "        if not part.strip():\n",
    "            continue\n",
    "        # split on the first \": \"\n",
    "        key, val = part.split(': ', 1)\n",
    "        data[key.strip()] = val.strip()\n",
    "    \n",
    "    # 2) post‑process some fields:\n",
    "    #   routes → list of route codes\n",
    "    if 'routes' in data:\n",
    "        data['routes'] = [r.strip() for r in data['routes'].split(',')]\n",
    "    \n",
    "    #   Latitude,Longitude → two floats\n",
    "    if 'Latitude,Longitude' in data:\n",
    "        lat_str, lon_str = data['Latitude,Longitude'].split(',', 1)\n",
    "        data['latitude']  = float(lat_str)\n",
    "        data['longitude'] = float(lon_str)\n",
    "        # optional: you can delete the original key\n",
    "        del data['Latitude,Longitude']\n",
    "    \n",
    "    return data"
   ]
  },
  {
   "cell_type": "code",
   "execution_count": 7,
   "id": "8eaed7a1",
   "metadata": {},
   "outputs": [
    {
     "data": {
      "text/plain": [
       "{'name': 'HYLAN BLVD/MIDLAND AV',\n",
       " 'routes': ['S51', 'S78', 'S79+', 'S81'],\n",
       " 'direction': 'SW',\n",
       " 'link': 'https://bustime.mta.info/m/index?q=200237',\n",
       " 'id': 'MTA_200237',\n",
       " 'latitude': 40.577699,\n",
       " 'longitude': -74.102611}"
      ]
     },
     "execution_count": 7,
     "metadata": {},
     "output_type": "execute_result"
    }
   ],
   "source": [
    "# testing\n",
    "test_placemark_info = parse_placemark_info(placemarks[0].description)\n",
    "test_placemark_info"
   ]
  },
  {
   "cell_type": "markdown",
   "id": "c64d5e01",
   "metadata": {},
   "source": [
    "placemark.description seems to have all the data we might need for the OSM"
   ]
  },
  {
   "cell_type": "markdown",
   "id": "ebfc8bd7",
   "metadata": {},
   "source": [
    "## Section 2: Getting a Placemark based on OSMnx bus route name"
   ]
  },
  {
   "cell_type": "code",
   "execution_count": 8,
   "id": "d004e22b",
   "metadata": {},
   "outputs": [
    {
     "data": {
      "text/plain": [
       "'2.0.2'"
      ]
     },
     "execution_count": 8,
     "metadata": {},
     "output_type": "execute_result"
    }
   ],
   "source": [
    "import multiprocessing as mp\n",
    "import numpy as np\n",
    "import osmnx as ox\n",
    "from matplotlib import pyplot as plt\n",
    "import networkx as nx\n",
    "\n",
    "ox.__version__"
   ]
  },
  {
   "cell_type": "markdown",
   "id": "980c2790",
   "metadata": {},
   "source": [
    "### Converting new york digraph to GeodataFrame"
   ]
  },
  {
   "cell_type": "code",
   "execution_count": 9,
   "id": "fa88cf9f",
   "metadata": {},
   "outputs": [],
   "source": [
    "# open New York\n",
    "place = \"New York, New York\"\n",
    "G = ox.graph.graph_from_place(place, network_type=\"drive\")\n",
    "Gp = ox.projection.project_graph(G)"
   ]
  },
  {
   "cell_type": "markdown",
   "id": "ffd7597a",
   "metadata": {},
   "source": [
    "Getting bus stops"
   ]
  },
  {
   "cell_type": "markdown",
   "id": "d8ed4e73",
   "metadata": {},
   "source": [
    "Should I use openstreetmap's data or just add my info to each node by using kd tree? <br>\n",
    "I'll use a KD tree because this is a DSA project <br>"
   ]
  },
  {
   "cell_type": "code",
   "execution_count": 10,
   "id": "b01bbeb9",
   "metadata": {},
   "outputs": [],
   "source": [
    "# convert drive multidigraph nodes to geodataframe\n",
    "gdf_nodes = ox.convert.graph_to_gdfs(\n",
    "    G, nodes=True, edges=False, node_geometry=True,\n",
    "    fill_edge_geometry=False)"
   ]
  },
  {
   "cell_type": "code",
   "execution_count": 11,
   "id": "0263305d",
   "metadata": {},
   "outputs": [],
   "source": [
    "# # display it on map\n",
    "# gdf_nodes.explore()"
   ]
  },
  {
   "cell_type": "markdown",
   "id": "55cf2043",
   "metadata": {},
   "source": [
    "The drive network loads much faster than the entire open street map network"
   ]
  },
  {
   "cell_type": "markdown",
   "id": "9e867855",
   "metadata": {},
   "source": [
    "### Locating the node closest to a placemarker"
   ]
  },
  {
   "cell_type": "code",
   "execution_count": 12,
   "id": "0826908d",
   "metadata": {},
   "outputs": [],
   "source": [
    "def findNearestNode2Placemark(G, placemark_info):\n",
    "    '''\n",
    "    get the ID of the node nearest to a placemark\n",
    "    '''\n",
    "    placemark_longitude, placemark_latitude = placemark_info['longitude'], placemark_info['latitude']\n",
    "\n",
    "    nearest_node = ox.distance.nearest_nodes(G,\n",
    "                                         placemark_longitude, placemark_latitude,\n",
    "                                         return_dist=True)\n",
    "    \n",
    "    return nearest_node"
   ]
  },
  {
   "cell_type": "code",
   "execution_count": 13,
   "id": "290e2a37",
   "metadata": {},
   "outputs": [],
   "source": [
    "#finding node nearest to placemark[0]\n",
    "nearest_node = findNearestNode2Placemark(G, test_placemark_info)"
   ]
  },
  {
   "cell_type": "code",
   "execution_count": 14,
   "id": "9916f5db",
   "metadata": {},
   "outputs": [
    {
     "data": {
      "text/plain": [
       "y                                    40.577717\n",
       "x                                    -74.10254\n",
       "highway                                    NaN\n",
       "ref                                        NaN\n",
       "street_count                                 2\n",
       "junction                                   NaN\n",
       "railway                                    NaN\n",
       "geometry        POINT (-74.1025398 40.5777173)\n",
       "Name: 5490128948, dtype: object"
      ]
     },
     "execution_count": 14,
     "metadata": {},
     "output_type": "execute_result"
    }
   ],
   "source": [
    "# fetch the node geometry based on node id\n",
    "nearest_node_id = nearest_node[0]\n",
    "gdf_nodes.loc[nearest_node_id]"
   ]
  },
  {
   "cell_type": "code",
   "execution_count": 15,
   "id": "2d1e13ea",
   "metadata": {},
   "outputs": [],
   "source": [
    "# visualizing node nearest to placemarker\n",
    "import geopandas as gpd\n",
    "from shapely import (\n",
    "    Point, LineString)\n",
    "\n",
    "# create a new geodataframe with the nearest node and new point\n",
    "nearest_node_dict = {'col1': ['Bus Station', 'Nearest Node'],\n",
    "                     'geometry': [Point(test_placemark_info['longitude'], test_placemark_info['latitude']),\n",
    "                                        LineString([\n",
    "                                      Point(gdf_nodes.loc[nearest_node_id].x,\n",
    "                                            gdf_nodes.loc[nearest_node_id].y),\n",
    "                                      Point(test_placemark_info['longitude'], test_placemark_info['latitude'])])]}\n",
    "# convert dictionary to geodataframe\n",
    "nearest_node_gdf = gpd.GeoDataFrame(nearest_node_dict, crs=\"EPSG:4326\")\n",
    "# nearest node map reference\n",
    "nearest_node_map = nearest_node_gdf.explore(color=\"red\")\n",
    "# # combine nearest node with existing node map\n",
    "# gdf_nodes.explore(m=nearest_node_map)"
   ]
  },
  {
   "cell_type": "markdown",
   "id": "47407ee6",
   "metadata": {},
   "source": [
    "### adding placemark info to gdf node"
   ]
  },
  {
   "cell_type": "code",
   "execution_count": 16,
   "id": "abb67b26",
   "metadata": {},
   "outputs": [],
   "source": [
    "def addPlacemark2GDF(G, node_id, placemark_info):\n",
    "    print(placemark_info)\n",
    "    attributes = {node_id : placemark_info}\n",
    "    nx.set_node_attributes(G, attributes)\n",
    "    \n",
    "    return G.nodes[node_id]"
   ]
  },
  {
   "cell_type": "code",
   "execution_count": 17,
   "id": "74941d2f",
   "metadata": {},
   "outputs": [
    {
     "name": "stdout",
     "output_type": "stream",
     "text": [
      "{'name': 'HYLAN BLVD/MIDLAND AV', 'routes': ['S51', 'S78', 'S79+', 'S81'], 'direction': 'SW', 'link': 'https://bustime.mta.info/m/index?q=200237', 'id': 'MTA_200237', 'latitude': 40.577699, 'longitude': -74.102611}\n",
      "{'y': 40.5777173, 'x': -74.1025398, 'street_count': 2, 'name': 'HYLAN BLVD/MIDLAND AV', 'routes': ['S51', 'S78', 'S79+', 'S81'], 'direction': 'SW', 'link': 'https://bustime.mta.info/m/index?q=200237', 'id': 'MTA_200237', 'latitude': 40.577699, 'longitude': -74.102611}\n"
     ]
    }
   ],
   "source": [
    "info = addPlacemark2GDF(G, nearest_node_id, test_placemark_info)\n",
    "print(info)\n"
   ]
  },
  {
   "cell_type": "code",
   "execution_count": 18,
   "id": "6bf3fc1e",
   "metadata": {},
   "outputs": [],
   "source": [
    "import time\n",
    "from tqdm import tqdm"
   ]
  },
  {
   "cell_type": "code",
   "execution_count": 19,
   "id": "50df82a6",
   "metadata": {},
   "outputs": [],
   "source": [
    "\n",
    "#add descriptions to closest neighbor (warning: some bus stations may appear on the same node. Be sure to handle properly)\n",
    "def get_attribute_list(G, placemarks):\n",
    "    # extracts description dicts from a list of placemarks\n",
    "    allDescriptions = list(map(lambda x: parse_placemark_info(x.description), placemarks))\n",
    "    print(f'number of placemarks: {len(allDescriptions)}')\n",
    "\n",
    "\n",
    "    #create a set containg each nearest node id\n",
    "    start = time.time()\n",
    "    nearest_node_ids = []\n",
    "\n",
    "    #display a progress bar\n",
    "    for i in tqdm(range(len(allDescriptions)), desc=\"finding neighbors\"):\n",
    "        nearest_node_ids.append(findNearestNode2Placemark(G, allDescriptions[i])[0])\n",
    "    end = time.time()\n",
    "\n",
    "    print(f'number of nodes: {len(set(nearest_node_ids))}')\n",
    "\n",
    "    \n",
    "    return list(zip(nearest_node_ids, allDescriptions))\n"
   ]
  },
  {
   "cell_type": "code",
   "execution_count": 20,
   "id": "e20ec7ec",
   "metadata": {},
   "outputs": [
    {
     "name": "stdout",
     "output_type": "stream",
     "text": [
      "number of placemarks: 15042\n"
     ]
    },
    {
     "name": "stderr",
     "output_type": "stream",
     "text": [
      "finding neighbors: 100%|██████████| 15042/15042 [20:42<00:00, 12.11it/s]  "
     ]
    },
    {
     "name": "stdout",
     "output_type": "stream",
     "text": [
      "number of nodes: 10259\n"
     ]
    },
    {
     "name": "stderr",
     "output_type": "stream",
     "text": [
      "\n"
     ]
    }
   ],
   "source": [
    "#this code takes 20+ minutes to run\n",
    "attribute_list = get_attribute_list(G, placemarks)\n",
    "#ended up with one fewer node than descriptions... i think we're fine"
   ]
  },
  {
   "cell_type": "code",
   "execution_count": 21,
   "id": "72b1bb5a",
   "metadata": {},
   "outputs": [],
   "source": [
    "#adding bus stations to each node\n",
    "def add_path_attributes(G, attribute_list):\n",
    "    #Giving each node an empty list as its bus values\n",
    "    nx.set_node_attributes(G, [], 'bus_stops')\n",
    "    for attributeTup in attribute_list:\n",
    "        #add the bus id to a list of bus stops\n",
    "        G.nodes[attributeTup[0]]['bus_stops'] = G.nodes[attributeTup[0]]['bus_stops'] + [attributeTup[1]['id']]\n",
    "\n",
    "        #store the attribute dictionary the bus id \n",
    "        G.nodes[attributeTup[0]][attributeTup[1]['id']] = [attributeTup[1]]"
   ]
  },
  {
   "cell_type": "code",
   "execution_count": 34,
   "id": "28c86b73",
   "metadata": {},
   "outputs": [],
   "source": [
    "#add bus stop attributes to each node with a bus stop\n",
    "add_path_attributes(G, attribute_list)"
   ]
  },
  {
   "cell_type": "code",
   "execution_count": 23,
   "id": "ff529e90",
   "metadata": {},
   "outputs": [
    {
     "data": {
      "text/plain": [
       "{'y': 40.5777173,\n",
       " 'x': -74.1025398,\n",
       " 'street_count': 2,\n",
       " 'name': 'HYLAN BLVD/MIDLAND AV',\n",
       " 'routes': ['S51', 'S78', 'S79+', 'S81'],\n",
       " 'direction': 'SW',\n",
       " 'link': 'https://bustime.mta.info/m/index?q=200237',\n",
       " 'id': 'MTA_200237',\n",
       " 'latitude': 40.577699,\n",
       " 'longitude': -74.102611,\n",
       " 'bus_stops': ['MTA_200237'],\n",
       " 'MTA_200237': [{'name': 'HYLAN BLVD/MIDLAND AV',\n",
       "   'routes': ['S51', 'S78', 'S79+', 'S81'],\n",
       "   'direction': 'SW',\n",
       "   'link': 'https://bustime.mta.info/m/index?q=200237',\n",
       "   'id': 'MTA_200237',\n",
       "   'latitude': 40.577699,\n",
       "   'longitude': -74.102611}]}"
      ]
     },
     "execution_count": 23,
     "metadata": {},
     "output_type": "execute_result"
    }
   ],
   "source": [
    "G.nodes[list(attribute_list)[0][0]]"
   ]
  },
  {
   "cell_type": "code",
   "execution_count": 24,
   "id": "446540a2",
   "metadata": {},
   "outputs": [],
   "source": [
    "# convert drive multidigraph nodes to geodataframe\n",
    "gdf_nodes = ox.convert.graph_to_gdfs(\n",
    "    G, nodes=True, edges=False, node_geometry=True,\n",
    "    fill_edge_geometry=False)"
   ]
  },
  {
   "cell_type": "code",
   "execution_count": 25,
   "id": "b952df1c",
   "metadata": {},
   "outputs": [],
   "source": [
    "# gdf_nodes.explore(m=nearest_node_map)"
   ]
  },
  {
   "cell_type": "code",
   "execution_count": 26,
   "id": "8c690a2b",
   "metadata": {},
   "outputs": [],
   "source": [
    "def stringer(data):\n",
    "    if isinstance(data, (int, float)):\n",
    "        return data\n",
    "    elif isinstance(data, dict):\n",
    "        return {k: stringer(v) for k, v in data.items()}\n",
    "    elif data is None:\n",
    "        return \"None\"\n",
    "    elif isinstance(data, (list, tuple)):\n",
    "         return [stringer(item) for item in data]\n",
    "    else:\n",
    "        return str(data)\n"
   ]
  },
  {
   "cell_type": "code",
   "execution_count": 39,
   "id": "56ee242e",
   "metadata": {},
   "outputs": [],
   "source": [
    "#saving as gml\n",
    "filepath = \"./graph_data/bus_stops.graphml\"\n",
    "ox.io.save_graphml(G, filepath)\n",
    "G = ox.io.load_graphml(filepath)"
   ]
  },
  {
   "cell_type": "code",
   "execution_count": 30,
   "id": "c170fb3e",
   "metadata": {},
   "outputs": [],
   "source": [
    "from pathlib import Path"
   ]
  },
  {
   "cell_type": "code",
   "execution_count": 31,
   "id": "5c0ae048",
   "metadata": {},
   "outputs": [],
   "source": [
    "Path(\"data\").mkdir(parents=True, exist_ok=True)"
   ]
  },
  {
   "cell_type": "code",
   "execution_count": null,
   "id": "41919522",
   "metadata": {},
   "outputs": [],
   "source": [
    "# get all \"amenities\" and save as a geopackage via geopandas\n",
    "gdf = ox.features.features_from_place(place, tags={\"amenity\": True})\n",
    "gdf = gdf.apply(lambda c: c.astype(str) if c.name != \"geometry\" else c, axis=0)\n",
    "gdf.to_file(\"./data/pois.gpkg\", driver=\"GPKG\")"
   ]
  },
  {
   "cell_type": "code",
   "execution_count": 41,
   "id": "cfd86193",
   "metadata": {},
   "outputs": [],
   "source": [
    "# open New York\n",
    "place = \"New York, New York\"\n",
    "G = ox.graph.graph_from_place(place, network_type=\"drive\")\n",
    "Gp = ox.projection.project_graph(G)"
   ]
  },
  {
   "cell_type": "code",
   "execution_count": 108,
   "id": "45a833cc",
   "metadata": {},
   "outputs": [],
   "source": [
    "NY_gdf_nodes, NY_gdf_edges = ox.convert.graph_to_gdfs(G)"
   ]
  },
  {
   "cell_type": "code",
   "execution_count": 109,
   "id": "9e78854f",
   "metadata": {},
   "outputs": [
    {
     "data": {
      "text/plain": [
       "<bound method NDFrame.head of                      y          x            highway  ref  street_count  \\\n",
       "osmid                                                                     \n",
       "39076461     40.786345 -73.794748  motorway_junction   33             3   \n",
       "39076490     40.762429 -73.757091  motorway_junction  31W             3   \n",
       "39076504     40.753467 -73.744164  motorway_junction  30W             3   \n",
       "42421728     40.798048 -73.960044    traffic_signals  NaN             3   \n",
       "42421731     40.798654 -73.961474    traffic_signals  NaN             4   \n",
       "...                ...        ...                ...  ...           ...   \n",
       "12798385432  40.857737 -73.899772                NaN  NaN             3   \n",
       "12798385434  40.858040 -73.899380                NaN  NaN             3   \n",
       "12798385435  40.858334 -73.899418                NaN  NaN             3   \n",
       "12803554307  40.659668 -73.987593                NaN  NaN             3   \n",
       "12804565238  40.589305 -74.093242     turning_circle  NaN             1   \n",
       "\n",
       "            junction railway                    geometry  \n",
       "osmid                                                     \n",
       "39076461         NaN     NaN  POINT (-73.79475 40.78635)  \n",
       "39076490         NaN     NaN  POINT (-73.75709 40.76243)  \n",
       "39076504         NaN     NaN  POINT (-73.74416 40.75347)  \n",
       "42421728         NaN     NaN  POINT (-73.96004 40.79805)  \n",
       "42421731         NaN     NaN  POINT (-73.96147 40.79865)  \n",
       "...              ...     ...                         ...  \n",
       "12798385432      NaN     NaN  POINT (-73.89977 40.85774)  \n",
       "12798385434      NaN     NaN  POINT (-73.89938 40.85804)  \n",
       "12798385435      NaN     NaN  POINT (-73.89942 40.85833)  \n",
       "12803554307      NaN     NaN  POINT (-73.98759 40.65967)  \n",
       "12804565238      NaN     NaN   POINT (-74.09324 40.5893)  \n",
       "\n",
       "[55250 rows x 8 columns]>"
      ]
     },
     "execution_count": 109,
     "metadata": {},
     "output_type": "execute_result"
    }
   ],
   "source": [
    "NY_gdf_nodes.head\n",
    "    "
   ]
  },
  {
   "cell_type": "code",
   "execution_count": 110,
   "id": "47ca1a1a",
   "metadata": {},
   "outputs": [],
   "source": [
    "from collections import defaultdict\n",
    "import pandas as pd\n",
    "import geopandas as gpd"
   ]
  },
  {
   "cell_type": "code",
   "execution_count": 111,
   "id": "335ee3ca",
   "metadata": {},
   "outputs": [],
   "source": [
    "#adding bus stations to each node\n",
    "def add_attributes_to_gdf(gdf, attribute_list):\n",
    "    bus_node_dict = {}\n",
    "    bus_info_dict = {}\n",
    "\n",
    "    for attributretup in attribute_list:\n",
    "        bus_info_dict[attributretup[1]['id']] = attributretup[1]\n",
    "\n",
    "        if attributretup[0] in bus_node_dict:\n",
    "            bus_node_dict[attributretup[0]].append(attributretup[1]['id'])\n",
    "            continue\n",
    "\n",
    "        bus_node_dict[attributretup[0]] = [attributretup[1]['id']]\n",
    "\n",
    "\n",
    "    osmids = list(bus_node_dict.keys())\n",
    "    stops = list(bus_node_dict.values())\n",
    "\n",
    "    df_dict = {'osmid': osmids, 'stops': stops}\n",
    "    \n",
    "    return df_dict, bus_info_dict"
   ]
  },
  {
   "cell_type": "code",
   "execution_count": 112,
   "id": "6fc173cd",
   "metadata": {},
   "outputs": [
    {
     "data": {
      "text/html": [
       "<div>\n",
       "<style scoped>\n",
       "    .dataframe tbody tr th:only-of-type {\n",
       "        vertical-align: middle;\n",
       "    }\n",
       "\n",
       "    .dataframe tbody tr th {\n",
       "        vertical-align: top;\n",
       "    }\n",
       "\n",
       "    .dataframe thead th {\n",
       "        text-align: right;\n",
       "    }\n",
       "</style>\n",
       "<table border=\"1\" class=\"dataframe\">\n",
       "  <thead>\n",
       "    <tr style=\"text-align: right;\">\n",
       "      <th></th>\n",
       "      <th>osmid</th>\n",
       "      <th>stops</th>\n",
       "    </tr>\n",
       "  </thead>\n",
       "  <tbody>\n",
       "    <tr>\n",
       "      <th>0</th>\n",
       "      <td>5490128948</td>\n",
       "      <td>[MTA_200237]</td>\n",
       "    </tr>\n",
       "    <tr>\n",
       "      <th>1</th>\n",
       "      <td>42965730</td>\n",
       "      <td>[MTA_200285, MTA_200153, MTA_200178, MTA_90500...</td>\n",
       "    </tr>\n",
       "    <tr>\n",
       "      <th>2</th>\n",
       "      <td>42955743</td>\n",
       "      <td>[MTA_200292]</td>\n",
       "    </tr>\n",
       "    <tr>\n",
       "      <th>3</th>\n",
       "      <td>2663757129</td>\n",
       "      <td>[MTA_200367]</td>\n",
       "    </tr>\n",
       "    <tr>\n",
       "      <th>4</th>\n",
       "      <td>2663757126</td>\n",
       "      <td>[MTA_200479]</td>\n",
       "    </tr>\n",
       "    <tr>\n",
       "      <th>...</th>\n",
       "      <td>...</td>\n",
       "      <td>...</td>\n",
       "    </tr>\n",
       "    <tr>\n",
       "      <th>10254</th>\n",
       "      <td>42991585</td>\n",
       "      <td>[MTA_250050]</td>\n",
       "    </tr>\n",
       "    <tr>\n",
       "      <th>10255</th>\n",
       "      <td>42991502</td>\n",
       "      <td>[MTA_250051]</td>\n",
       "    </tr>\n",
       "    <tr>\n",
       "      <th>10256</th>\n",
       "      <td>42991570</td>\n",
       "      <td>[MTA_250068]</td>\n",
       "    </tr>\n",
       "    <tr>\n",
       "      <th>10257</th>\n",
       "      <td>359875121</td>\n",
       "      <td>[MTA_805079]</td>\n",
       "    </tr>\n",
       "    <tr>\n",
       "      <th>10258</th>\n",
       "      <td>42958006</td>\n",
       "      <td>[MTA_805143]</td>\n",
       "    </tr>\n",
       "  </tbody>\n",
       "</table>\n",
       "<p>10259 rows × 2 columns</p>\n",
       "</div>"
      ],
      "text/plain": [
       "            osmid                                              stops\n",
       "0      5490128948                                       [MTA_200237]\n",
       "1        42965730  [MTA_200285, MTA_200153, MTA_200178, MTA_90500...\n",
       "2        42955743                                       [MTA_200292]\n",
       "3      2663757129                                       [MTA_200367]\n",
       "4      2663757126                                       [MTA_200479]\n",
       "...           ...                                                ...\n",
       "10254    42991585                                       [MTA_250050]\n",
       "10255    42991502                                       [MTA_250051]\n",
       "10256    42991570                                       [MTA_250068]\n",
       "10257   359875121                                       [MTA_805079]\n",
       "10258    42958006                                       [MTA_805143]\n",
       "\n",
       "[10259 rows x 2 columns]"
      ]
     },
     "execution_count": 112,
     "metadata": {},
     "output_type": "execute_result"
    }
   ],
   "source": [
    "attr = add_attributes_to_gdf(NY_gdf_nodes, attribute_list)\n",
    "df = pd.DataFrame(attr[0])\n",
    "df"
   ]
  },
  {
   "cell_type": "code",
   "execution_count": 113,
   "id": "4d966db9",
   "metadata": {},
   "outputs": [],
   "source": [
    "#adding bus ids to all nodes associated with bus stations\n",
    "bus_gdf = NY_gdf_nodes.merge(df, on='osmid',how='left')"
   ]
  },
  {
   "cell_type": "code",
   "execution_count": 114,
   "id": "f2518b45",
   "metadata": {},
   "outputs": [
    {
     "data": {
      "text/plain": [
       "{'PCIDSK': 'rw',\n",
       " 'PDS4': 'rw',\n",
       " 'VICAR': 'rw',\n",
       " 'MBTiles': 'rw',\n",
       " 'EEDA': 'r',\n",
       " 'OGCAPI': 'r',\n",
       " 'ESRI Shapefile': 'rw',\n",
       " 'MapInfo File': 'rw',\n",
       " 'UK .NTF': 'r',\n",
       " 'LVBAG': 'r',\n",
       " 'OGR_SDTS': 'r',\n",
       " 'S57': 'rw',\n",
       " 'DGN': 'rw',\n",
       " 'OGR_VRT': 'r',\n",
       " 'Memory': 'rw',\n",
       " 'CSV': 'rw',\n",
       " 'NAS': 'r',\n",
       " 'GML': 'rw',\n",
       " 'GPX': 'rw',\n",
       " 'LIBKML': 'rw',\n",
       " 'KML': 'rw',\n",
       " 'GeoJSON': 'rw',\n",
       " 'GeoJSONSeq': 'rw',\n",
       " 'ESRIJSON': 'r',\n",
       " 'TopoJSON': 'r',\n",
       " 'Interlis 1': 'rw',\n",
       " 'Interlis 2': 'rw',\n",
       " 'OGR_GMT': 'rw',\n",
       " 'GPKG': 'rw',\n",
       " 'SQLite': 'rw',\n",
       " 'WAsP': 'rw',\n",
       " 'OpenFileGDB': 'rw',\n",
       " 'DXF': 'rw',\n",
       " 'CAD': 'r',\n",
       " 'FlatGeobuf': 'rw',\n",
       " 'Geoconcept': 'rw',\n",
       " 'GeoRSS': 'rw',\n",
       " 'VFK': 'r',\n",
       " 'PGDUMP': 'rw',\n",
       " 'OSM': 'r',\n",
       " 'GPSBabel': 'rw',\n",
       " 'OGR_PDS': 'r',\n",
       " 'WFS': 'r',\n",
       " 'OAPIF': 'r',\n",
       " 'EDIGEO': 'r',\n",
       " 'SVG': 'r',\n",
       " 'Idrisi': 'r',\n",
       " 'ODS': 'rw',\n",
       " 'XLSX': 'rw',\n",
       " 'Elasticsearch': 'rw',\n",
       " 'Carto': 'rw',\n",
       " 'AmigoCloud': 'rw',\n",
       " 'SXF': 'r',\n",
       " 'Selafin': 'rw',\n",
       " 'JML': 'rw',\n",
       " 'PLSCENES': 'r',\n",
       " 'CSW': 'r',\n",
       " 'VDV': 'rw',\n",
       " 'GMLAS': 'r',\n",
       " 'MVT': 'rw',\n",
       " 'NGW': 'rw',\n",
       " 'MapML': 'rw',\n",
       " 'GTFS': 'r',\n",
       " 'PMTiles': 'rw',\n",
       " 'JSONFG': 'rw',\n",
       " 'MiraMonVector': 'rw',\n",
       " 'TIGER': 'r',\n",
       " 'AVCBin': 'r',\n",
       " 'AVCE00': 'r',\n",
       " 'HTTP': 'r'}"
      ]
     },
     "execution_count": 114,
     "metadata": {},
     "output_type": "execute_result"
    }
   ],
   "source": [
    "import pyogrio\n",
    "pyogrio.list_drivers() "
   ]
  },
  {
   "cell_type": "code",
   "execution_count": 121,
   "id": "e5bba810",
   "metadata": {},
   "outputs": [],
   "source": [
    "#saving nodes to file\n",
    "bus_gdf.to_file('./graph_data/gpkg/NY_gdf_nodes.gpkg')"
   ]
  },
  {
   "cell_type": "code",
   "execution_count": 118,
   "id": "70fb7b9b",
   "metadata": {},
   "outputs": [],
   "source": [
    "import json"
   ]
  },
  {
   "cell_type": "code",
   "execution_count": 117,
   "id": "ac771810",
   "metadata": {},
   "outputs": [],
   "source": [
    "#saving edges to file\n",
    "NY_gdf_edges.to_file('./graph_data/gpkg/NY_gdf_edges.gpkg')"
   ]
  },
  {
   "cell_type": "code",
   "execution_count": null,
   "id": "c9ba6a57",
   "metadata": {},
   "outputs": [
    {
     "name": "stdout",
     "output_type": "stream",
     "text": [
      "Dictionary saved to bus_info_dict.json\n"
     ]
    }
   ],
   "source": [
    "#saving bus stop dict to file\n",
    "filename = \"graph_data/gpkg/bus_info_dict.json\"\n",
    "with open(filename, 'w') as file:\n",
    "    json.dump(attr[1], file, indent=4)\n",
    "\n",
    "print(f\"Dictionary saved to {filename}\")"
   ]
  }
 ],
 "metadata": {
  "kernelspec": {
   "display_name": "DSA",
   "language": "python",
   "name": "python3"
  },
  "language_info": {
   "codemirror_mode": {
    "name": "ipython",
    "version": 3
   },
   "file_extension": ".py",
   "mimetype": "text/x-python",
   "name": "python",
   "nbconvert_exporter": "python",
   "pygments_lexer": "ipython3",
   "version": "3.13.2"
  }
 },
 "nbformat": 4,
 "nbformat_minor": 5
}
