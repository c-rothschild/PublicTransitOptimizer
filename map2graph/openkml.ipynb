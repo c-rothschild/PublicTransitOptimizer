{
 "cells": [
  {
   "cell_type": "markdown",
   "id": "ecb3a407",
   "metadata": {},
   "source": [
    "# Adding New York bus routes to OSMnx map"
   ]
  },
  {
   "cell_type": "markdown",
   "id": "3fd17955",
   "metadata": {},
   "source": [
    "This code is for extracting the locations of bus routes on the map and adding them to nodes"
   ]
  },
  {
   "cell_type": "markdown",
   "id": "061a0030",
   "metadata": {},
   "source": [
    "## Section 1: Extracting bus stops from KML\n",
    "KML source: \n",
    "<a href=\"https://www.google.com/maps/d/u/0/viewer?mid=1Y-euNeFcsu06Zxfdl6u6-sca3Yp-KYY&ll=40.75502933824687%2C-74.00066380083778&z=18\">\n",
    "MTA Bus Map\n",
    "</a>"
   ]
  },
  {
   "cell_type": "markdown",
   "id": "2fb217eb",
   "metadata": {},
   "source": [
    "### Opening KML file and extracting placemarks"
   ]
  },
  {
   "cell_type": "code",
   "execution_count": null,
   "id": "e0389c24",
   "metadata": {},
   "outputs": [],
   "source": [
    "from fastkml import KML\n",
    "from fastkml import Placemark, Point, StyleUrl, Style\n",
    "from fastkml.utils import find, find_all\n",
    "import os"
   ]
  },
  {
   "cell_type": "code",
   "execution_count": null,
   "id": "40cfadcb",
   "metadata": {},
   "outputs": [],
   "source": [
    "#read .kml file as KML object with fastkml\n",
    "k = KML.parse(\"../data/doc.kml\")"
   ]
  },
  {
   "cell_type": "code",
   "execution_count": null,
   "id": "b1a71f82",
   "metadata": {},
   "outputs": [],
   "source": [
    "#extract all placemarks in .kml file\n",
    "placemarks = list(find_all(k, of_type=Placemark))"
   ]
  },
  {
   "cell_type": "code",
   "execution_count": null,
   "id": "7587f681",
   "metadata": {},
   "outputs": [],
   "source": [
    "#print the number of placemarks\n",
    "print(len(placemarks))"
   ]
  },
  {
   "cell_type": "code",
   "execution_count": null,
   "id": "fd3ee05d",
   "metadata": {},
   "outputs": [],
   "source": [
    "print(placemarks[0].description)"
   ]
  },
  {
   "cell_type": "markdown",
   "id": "4131db30",
   "metadata": {},
   "source": [
    "### Parsing Placemark Description"
   ]
  },
  {
   "cell_type": "code",
   "execution_count": null,
   "id": "0d2560fb",
   "metadata": {},
   "outputs": [],
   "source": [
    "#extravcting info from placemarker description\n",
    "\n",
    "def parse_placemark_info(desc_str):\n",
    "    \"\"\"\n",
    "    Parse a description string like:\n",
    "      \"name: HYLAN BLVD/MIDLAND AV<br>\"\n",
    "      \"routes: S51, S78, S79+, S81<br>\"\n",
    "      \"direction: SW<br>\"\n",
    "      \"link: https://…<br>\"\n",
    "      \"id: MTA_200237<br>\"\n",
    "      \"Latitude,Longitude: 40.577699, -74.102611\"\n",
    "    into a dict with proper types.\n",
    "    \"\"\"\n",
    "    # 1) split into lines\n",
    "    parts = desc_str.split('<br>')\n",
    "    \n",
    "    data = {}\n",
    "    for part in parts:\n",
    "        if not part.strip():\n",
    "            continue\n",
    "        # split on the first \": \"\n",
    "        key, val = part.split(': ', 1)\n",
    "        data[key.strip()] = val.strip()\n",
    "    \n",
    "    # 2) post‑process some fields:\n",
    "    #   routes → list of route codes\n",
    "    if 'routes' in data:\n",
    "        data['routes'] = [r.strip() for r in data['routes'].split(',')]\n",
    "    \n",
    "    #   Latitude,Longitude → two floats\n",
    "    if 'Latitude,Longitude' in data:\n",
    "        lat_str, lon_str = data['Latitude,Longitude'].split(',', 1)\n",
    "        data['latitude']  = float(lat_str)\n",
    "        data['longitude'] = float(lon_str)\n",
    "        # optional: you can delete the original key\n",
    "        del data['Latitude,Longitude']\n",
    "    \n",
    "    return data"
   ]
  },
  {
   "cell_type": "code",
   "execution_count": null,
   "id": "8eaed7a1",
   "metadata": {},
   "outputs": [],
   "source": [
    "# testing\n",
    "test_placemark_info = parse_placemark_info(placemarks[0].description)\n",
    "test_placemark_info"
   ]
  },
  {
   "cell_type": "markdown",
   "id": "c64d5e01",
   "metadata": {},
   "source": [
    "placemark.description seems to have all the data we might need for the OSM"
   ]
  },
  {
   "cell_type": "markdown",
   "id": "ebfc8bd7",
   "metadata": {},
   "source": [
    "## Section 2: Adding placemark data to OSMNX"
   ]
  },
  {
   "cell_type": "code",
   "execution_count": null,
   "id": "d004e22b",
   "metadata": {},
   "outputs": [],
   "source": [
    "import multiprocessing as mp\n",
    "import numpy as np\n",
    "import osmnx as ox\n",
    "from matplotlib import pyplot as plt\n",
    "import networkx as nx\n",
    "\n",
    "ox.__version__"
   ]
  },
  {
   "cell_type": "markdown",
   "id": "980c2790",
   "metadata": {},
   "source": [
    "### Converting new york digraph to GeodataFrame"
   ]
  },
  {
   "cell_type": "code",
   "execution_count": null,
   "id": "fa88cf9f",
   "metadata": {},
   "outputs": [],
   "source": [
    "# open New York\n",
    "place = \"New York, New York\"\n",
    "G = ox.graph.graph_from_place(place, network_type=\"drive\")\n",
    "Gp = ox.projection.project_graph(G)"
   ]
  },
  {
   "cell_type": "markdown",
   "id": "ffd7597a",
   "metadata": {},
   "source": [
    "Getting bus stops"
   ]
  },
  {
   "cell_type": "markdown",
   "id": "d8ed4e73",
   "metadata": {},
   "source": [
    "Should I use openstreetmap's data or just add my info to each node by using kd tree? <br>\n",
    "I'll use a KD tree because this is a DSA project <br>"
   ]
  },
  {
   "cell_type": "code",
   "execution_count": null,
   "id": "b01bbeb9",
   "metadata": {},
   "outputs": [],
   "source": [
    "# convert drive multidigraph nodes to geodataframe\n",
    "gdf_nodes = ox.convert.graph_to_gdfs(\n",
    "    G, nodes=True, edges=False, node_geometry=True,\n",
    "    fill_edge_geometry=False)"
   ]
  },
  {
   "cell_type": "code",
   "execution_count": null,
   "id": "0263305d",
   "metadata": {},
   "outputs": [],
   "source": [
    "# # display it on map\n",
    "# gdf_nodes.explore()"
   ]
  },
  {
   "cell_type": "markdown",
   "id": "55cf2043",
   "metadata": {},
   "source": [
    "The drive network loads much faster than the entire open street map network"
   ]
  },
  {
   "cell_type": "markdown",
   "id": "9e867855",
   "metadata": {},
   "source": [
    "### Locating the node closest to a placemarker"
   ]
  },
  {
   "cell_type": "code",
   "execution_count": null,
   "id": "0826908d",
   "metadata": {},
   "outputs": [],
   "source": [
    "def findNearestNode2Placemark(G, placemark_info):\n",
    "    '''\n",
    "    get the ID of the node nearest to a placemark\n",
    "    '''\n",
    "    placemark_longitude, placemark_latitude = placemark_info['longitude'], placemark_info['latitude']\n",
    "\n",
    "    nearest_node = ox.distance.nearest_nodes(G,\n",
    "                                         placemark_longitude, placemark_latitude,\n",
    "                                         return_dist=True)\n",
    "    \n",
    "    return nearest_node"
   ]
  },
  {
   "cell_type": "code",
   "execution_count": null,
   "id": "290e2a37",
   "metadata": {},
   "outputs": [],
   "source": [
    "#finding node nearest to placemark[0]\n",
    "nearest_node = findNearestNode2Placemark(G, test_placemark_info)"
   ]
  },
  {
   "cell_type": "code",
   "execution_count": null,
   "id": "9916f5db",
   "metadata": {},
   "outputs": [],
   "source": [
    "# fetch the node geometry based on node id\n",
    "nearest_node_id = nearest_node[0]\n",
    "gdf_nodes.loc[nearest_node_id]"
   ]
  },
  {
   "cell_type": "code",
   "execution_count": null,
   "id": "2d1e13ea",
   "metadata": {},
   "outputs": [],
   "source": [
    "# visualizing node nearest to placemarker\n",
    "import geopandas as gpd\n",
    "from shapely import (\n",
    "    Point, LineString)\n",
    "\n",
    "# create a new geodataframe with the nearest node and new point\n",
    "nearest_node_dict = {'col1': ['Bus Station', 'Nearest Node'],\n",
    "                     'geometry': [Point(test_placemark_info['longitude'], test_placemark_info['latitude']),\n",
    "                                        LineString([\n",
    "                                      Point(gdf_nodes.loc[nearest_node_id].x,\n",
    "                                            gdf_nodes.loc[nearest_node_id].y),\n",
    "                                      Point(test_placemark_info['longitude'], test_placemark_info['latitude'])])]}\n",
    "# convert dictionary to geodataframe\n",
    "nearest_node_gdf = gpd.GeoDataFrame(nearest_node_dict, crs=\"EPSG:4326\")\n",
    "# nearest node map reference\n",
    "nearest_node_map = nearest_node_gdf.explore(color=\"red\")\n",
    "# # combine nearest node with existing node map\n",
    "# gdf_nodes.explore(m=nearest_node_map)"
   ]
  },
  {
   "cell_type": "markdown",
   "id": "47407ee6",
   "metadata": {},
   "source": [
    "### adding placemark info to gdf node"
   ]
  },
  {
   "cell_type": "code",
   "execution_count": null,
   "id": "abb67b26",
   "metadata": {},
   "outputs": [],
   "source": [
    "def addPlacemark2Graph(G, node_id, placemark_info):\n",
    "    ''' \n",
    "    add the placemark id to our multidigraph\n",
    "    '''\n",
    "    print(placemark_info)\n",
    "    attributes = {node_id : placemark_info}\n",
    "    nx.set_node_attributes(G, attributes)\n",
    "    \n",
    "    return G.nodes[node_id]"
   ]
  },
  {
   "cell_type": "code",
   "execution_count": null,
   "id": "74941d2f",
   "metadata": {},
   "outputs": [],
   "source": [
    "info = addPlacemark2Graph(G, nearest_node_id, test_placemark_info)\n",
    "print(info)\n"
   ]
  },
  {
   "cell_type": "code",
   "execution_count": null,
   "id": "6bf3fc1e",
   "metadata": {},
   "outputs": [],
   "source": [
    "import time\n",
    "from tqdm import tqdm"
   ]
  },
  {
   "cell_type": "code",
   "execution_count": null,
   "id": "50df82a6",
   "metadata": {},
   "outputs": [],
   "source": [
    "\n",
    "#add descriptions to closest neighbor (warning: some bus stations may appear on the same node. Be sure to handle properly)\n",
    "def get_attribute_list(G, placemarks):\n",
    "    # extracts description dicts from a list of placemarks\n",
    "    allDescriptions = list(map(lambda x: parse_placemark_info(x.description), placemarks))\n",
    "    print(f'number of placemarks: {len(allDescriptions)}')\n",
    "\n",
    "\n",
    "    #create a set containg each nearest node id\n",
    "    start = time.time()\n",
    "    nearest_node_ids = []\n",
    "\n",
    "    #display a progress bar\n",
    "    for i in tqdm(range(len(allDescriptions)), desc=\"finding neighbors\"):\n",
    "        nearest_node_ids.append(findNearestNode2Placemark(G, allDescriptions[i])[0])\n",
    "    end = time.time()\n",
    "\n",
    "    print(f'number of nodes: {len(set(nearest_node_ids))}')\n",
    "\n",
    "    \n",
    "    return list(zip(nearest_node_ids, allDescriptions))\n"
   ]
  },
  {
   "cell_type": "code",
   "execution_count": null,
   "id": "e20ec7ec",
   "metadata": {},
   "outputs": [],
   "source": [
    "#this code takes 20+ minutes to run\n",
    "attribute_list = get_attribute_list(G, placemarks)\n",
    "#ended up with one fewer node than descriptions... i think we're fine"
   ]
  },
  {
   "cell_type": "code",
   "execution_count": null,
   "id": "72b1bb5a",
   "metadata": {},
   "outputs": [],
   "source": [
    "#adding bus stations to each node\n",
    "def add_path_attributes(G, attribute_list):\n",
    "    #Giving each node an empty list as its bus values\n",
    "    nx.set_node_attributes(G, [], 'bus_stops')\n",
    "    for attributeTup in attribute_list:\n",
    "        #add the bus id to a list of bus stops\n",
    "        G.nodes[attributeTup[0]]['bus_stops'] = G.nodes[attributeTup[0]]['bus_stops'] + [attributeTup[1]['id']]\n",
    "\n",
    "        #store the attribute dictionary the bus id \n",
    "        G.nodes[attributeTup[0]][attributeTup[1]['id']] = [attributeTup[1]]"
   ]
  },
  {
   "cell_type": "code",
   "execution_count": null,
   "id": "28c86b73",
   "metadata": {},
   "outputs": [],
   "source": [
    "#add bus stop attributes to each node with a bus stop\n",
    "add_path_attributes(G, attribute_list)"
   ]
  },
  {
   "cell_type": "code",
   "execution_count": null,
   "id": "ff529e90",
   "metadata": {},
   "outputs": [],
   "source": [
    "G.nodes[list(attribute_list)[0][0]]"
   ]
  },
  {
   "cell_type": "code",
   "execution_count": null,
   "id": "446540a2",
   "metadata": {},
   "outputs": [],
   "source": [
    "# convert drive multidigraph nodes to geodataframe\n",
    "gdf_nodes = ox.convert.graph_to_gdfs(\n",
    "    G, nodes=True, edges=False, node_geometry=True,\n",
    "    fill_edge_geometry=False)"
   ]
  },
  {
   "cell_type": "code",
   "execution_count": null,
   "id": "b952df1c",
   "metadata": {},
   "outputs": [],
   "source": [
    "# gdf_nodes.explore(m=nearest_node_map)"
   ]
  },
  {
   "cell_type": "code",
   "execution_count": null,
   "id": "56ee242e",
   "metadata": {},
   "outputs": [],
   "source": [
    "#saving as gml\n",
    "filepath = \"./graph_data/bus_stops.graphml\"\n",
    "ox.io.save_graphml(G, filepath)\n",
    "G = ox.io.load_graphml(filepath)"
   ]
  },
  {
   "cell_type": "code",
   "execution_count": null,
   "id": "c170fb3e",
   "metadata": {},
   "outputs": [],
   "source": [
    "from pathlib import Path"
   ]
  },
  {
   "cell_type": "code",
   "execution_count": null,
   "id": "5c0ae048",
   "metadata": {},
   "outputs": [],
   "source": [
    "Path(\"data\").mkdir(parents=True, exist_ok=True)"
   ]
  },
  {
   "cell_type": "code",
   "execution_count": null,
   "id": "41919522",
   "metadata": {},
   "outputs": [],
   "source": [
    "# get all \"amenities\" and save as a geopackage via geopandas\n",
    "gdf = ox.features.features_from_place(place, tags={\"amenity\": True})\n",
    "gdf = gdf.apply(lambda c: c.astype(str) if c.name != \"geometry\" else c, axis=0)\n",
    "gdf.to_file(\"./data/pois.gpkg\", driver=\"GPKG\")"
   ]
  },
  {
   "cell_type": "code",
   "execution_count": null,
   "id": "cfd86193",
   "metadata": {},
   "outputs": [],
   "source": [
    "# open New York\n",
    "place = \"New York, New York\"\n",
    "G = ox.graph.graph_from_place(place, network_type=\"drive\")\n",
    "Gp = ox.projection.project_graph(G)"
   ]
  },
  {
   "cell_type": "code",
   "execution_count": null,
   "id": "45a833cc",
   "metadata": {},
   "outputs": [],
   "source": [
    "NY_gdf_nodes, NY_gdf_edges = ox.convert.graph_to_gdfs(G)\n",
    "NY_gdf_nodes.drop('geometry', axis=1)"
   ]
  },
  {
   "cell_type": "code",
   "execution_count": null,
   "id": "9e78854f",
   "metadata": {},
   "outputs": [],
   "source": [
    "NY_gdf_edges.head()\n",
    "    "
   ]
  },
  {
   "cell_type": "code",
   "execution_count": null,
   "id": "47ca1a1a",
   "metadata": {},
   "outputs": [],
   "source": [
    "from collections import defaultdict\n",
    "import pandas as pd\n",
    "import geopandas as gpd"
   ]
  },
  {
   "cell_type": "code",
   "execution_count": null,
   "id": "335ee3ca",
   "metadata": {},
   "outputs": [],
   "source": [
    "#adding bus stations to each node\n",
    "def add_attributes_to_gdf(gdf, attribute_list):\n",
    "    ''' \n",
    "    add a list of attributes to a gdf node - Idk why I used a geopandas data frame as an input but it works fine\n",
    "    '''\n",
    "    bus_node_dict = {}\n",
    "    bus_info_dict = {}\n",
    "\n",
    "    for attributretup in attribute_list:\n",
    "        bus_info_dict[attributretup[1]['id']] = attributretup[1]\n",
    "        \n",
    "\n",
    "        if attributretup[0] in bus_node_dict:\n",
    "            bus_node_dict[attributretup[0]].append(attributretup[1]['id'])\n",
    "            continue\n",
    "\n",
    "        bus_node_dict[attributretup[0]] = [attributretup[1]['id']]\n",
    "\n",
    "\n",
    "    osmids = list(bus_node_dict.keys())\n",
    "    stops = list(bus_node_dict.values())\n",
    "\n",
    "    df_dict = {'osmid': osmids, 'stops': stops}\n",
    "    \n",
    "    return df_dict, bus_info_dict"
   ]
  },
  {
   "cell_type": "code",
   "execution_count": null,
   "id": "6fc173cd",
   "metadata": {},
   "outputs": [],
   "source": [
    "attr = add_attributes_to_gdf(NY_gdf_nodes, attribute_list)\n",
    "df = pd.DataFrame(attr[0])\n",
    "df"
   ]
  },
  {
   "cell_type": "code",
   "execution_count": null,
   "id": "4d966db9",
   "metadata": {},
   "outputs": [],
   "source": [
    "#adding bus ids to all nodes associated with bus stations\n",
    "bus_gdf = NY_gdf_nodes.merge(df, on='osmid',how='left')"
   ]
  },
  {
   "cell_type": "code",
   "execution_count": null,
   "id": "e5bba810",
   "metadata": {},
   "outputs": [],
   "source": [
    "#saving nodes to file\n",
    "bus_gdf.to_file('./graph_data/gpkg/NY_gdf_nodes.gpkg')"
   ]
  },
  {
   "cell_type": "code",
   "execution_count": null,
   "id": "70fb7b9b",
   "metadata": {},
   "outputs": [],
   "source": [
    "import json"
   ]
  },
  {
   "cell_type": "code",
   "execution_count": null,
   "id": "ac771810",
   "metadata": {},
   "outputs": [],
   "source": [
    "#saving edges to file\n",
    "NY_gdf_edges.to_file('./graph_data/gpkg/NY_gdf_edges.gpkg')"
   ]
  },
  {
   "cell_type": "code",
   "execution_count": null,
   "id": "c9ba6a57",
   "metadata": {},
   "outputs": [],
   "source": [
    "#saving bus stop dict to file\n",
    "filename = \"graph_data/gpkg/bus_info_dict.json\"\n",
    "with open(filename, 'w') as file:\n",
    "    json.dump(attr[1], file, indent=4)\n",
    "\n",
    "print(f\"Dictionary saved to {filename}\")"
   ]
  },
  {
   "cell_type": "code",
   "execution_count": null,
   "id": "19388df1",
   "metadata": {},
   "outputs": [],
   "source": [
    "#loading geopackages\n",
    "loaded_nodes = gpd.read_file('./graph_data/gpkg/NY_gdf_nodes.gpkg')\n",
    "loaded_edges = gpd.read_file('./graph_data/gpkg/NY_gdf_edges.gpkg')\n",
    "json_path='./graph_data/gpkg/bus_info_dict.json'\n",
    "with open(json_path) as json_file:\n",
    "    loaded_dict = json.load(json_file)\n",
    "\n"
   ]
  },
  {
   "cell_type": "markdown",
   "id": "76442349",
   "metadata": {},
   "source": [
    "### Saving Graph with bus stops to Graphml"
   ]
  },
  {
   "cell_type": "code",
   "execution_count": null,
   "id": "901d97a7",
   "metadata": {},
   "outputs": [],
   "source": [
    "# open New York\n",
    "place = \"New York, New York\"\n",
    "G = ox.graph.graph_from_place(place, network_type=\"drive\")\n",
    "Gp = ox.projection.project_graph(G)"
   ]
  },
  {
   "cell_type": "code",
   "execution_count": null,
   "id": "920d44c2",
   "metadata": {},
   "outputs": [],
   "source": [
    "#adding bus stations to each node\n",
    "def add_attributes_to_multigraph(G, attribute_list):\n",
    "    ''' \n",
    "    add bus IDs to multidigraph, and return attributes associated with each busID in a dict\n",
    "    '''\n",
    "    attrs = {}\n",
    "    bus_info_dict = {}\n",
    "\n",
    "    for attribute_tuple in attribute_list:\n",
    "        attribute_tuple[1]['osmid'] = attribute_tuple[0]\n",
    "        bus_info_dict[attribute_tuple[1]['id']] = attribute_tuple[1]\n",
    "        \n",
    "\n",
    "        if attribute_tuple[0] in attrs:\n",
    "            attrs[attribute_tuple[0]]['bus_stops'].append(attribute_tuple[1]['id'])\n",
    "            continue\n",
    "\n",
    "        attrs[attribute_tuple[0]] = {'bus_stops': [attribute_tuple[1]['id']]}\n",
    "\n",
    "    nx.set_node_attributes(G, attrs)\n",
    "    \n",
    "    return bus_info_dict"
   ]
  },
  {
   "cell_type": "code",
   "execution_count": null,
   "id": "9e900d6a",
   "metadata": {},
   "outputs": [],
   "source": [
    "bus_info_dict = add_attributes_to_multigraph(G, attribute_list)"
   ]
  },
  {
   "cell_type": "code",
   "execution_count": null,
   "id": "8a8d2484",
   "metadata": {},
   "outputs": [],
   "source": [
    "# save graph with bus stations to graphml file\n",
    "ox.io.save_graphml(G, filepath='./graph_data/stations.graphml')\n",
    "filename = \"./graph_data/bus_info_dict.json\"\n",
    "with open(filename, 'w') as file:\n",
    "    json.dump(attr[1], file, indent=4)\n"
   ]
  },
  {
   "cell_type": "code",
   "execution_count": null,
   "id": "e5001dc2",
   "metadata": {},
   "outputs": [],
   "source": [
    "# loading my graph from a file - seeing if all the data is saved\n",
    "G = ox.io.load_graphml(filepath='./graph_data/stations.graphml')"
   ]
  },
  {
   "cell_type": "code",
   "execution_count": null,
   "id": "1f382cb9",
   "metadata": {},
   "outputs": [],
   "source": [
    "print(type(G))"
   ]
  },
  {
   "cell_type": "code",
   "execution_count": null,
   "id": "6ab30511",
   "metadata": {},
   "outputs": [],
   "source": [
    "# Making sure bus stop data is saved\n",
    "list(G.nodes(data='bus_stops'))"
   ]
  },
  {
   "cell_type": "code",
   "execution_count": null,
   "id": "38276682",
   "metadata": {},
   "outputs": [],
   "source": [
    "#filtering out all nodes wihtout bus stops\n",
    "bus_nodes = dict(filter(lambda x: x if x[1] != None else False, G.nodes(data='bus_stops') ))"
   ]
  },
  {
   "cell_type": "code",
   "execution_count": null,
   "id": "46060eb2",
   "metadata": {},
   "outputs": [],
   "source": [
    "bus_info_dict"
   ]
  },
  {
   "cell_type": "code",
   "execution_count": null,
   "id": "78e14d2f",
   "metadata": {},
   "outputs": [],
   "source": [
    "def generate_route_dict(bus_info):\n",
    "    ''' \n",
    "    get a list of all bus stops associated with each route - unordered\n",
    "    '''\n",
    "    route_dict = defaultdict(list)\n",
    "    for key in bus_info.keys():\n",
    "        for route in bus_info[key]['routes']:\n",
    "            route_dict[route].append(key)\n",
    "    return route_dict\n"
   ]
  },
  {
   "cell_type": "code",
   "execution_count": null,
   "id": "1fed31dc",
   "metadata": {},
   "outputs": [],
   "source": [
    "# the route dict doesn't really matter at this moment because it isn't ordered. Ordered route dict retrieved in MTAapi.ipynb\n",
    "route_dict = generate_route_dict(bus_info_dict)\n",
    "print(route_dict['M79+'])"
   ]
  },
  {
   "cell_type": "code",
   "execution_count": null,
   "id": "e6003e87",
   "metadata": {},
   "outputs": [],
   "source": [
    "# saving route dict to file\n",
    "filename = \"./graph_data/bus_routes.json\"\n",
    "with open(filename, 'w') as file:\n",
    "    json.dump(route_dict, file, indent=4)"
   ]
  }
 ],
 "metadata": {
  "kernelspec": {
   "display_name": "DSA",
   "language": "python",
   "name": "python3"
  },
  "language_info": {
   "codemirror_mode": {
    "name": "ipython",
    "version": 3
   },
   "file_extension": ".py",
   "mimetype": "text/x-python",
   "name": "python",
   "nbconvert_exporter": "python",
   "pygments_lexer": "ipython3",
   "version": "3.13.2"
  }
 },
 "nbformat": 4,
 "nbformat_minor": 5
}
